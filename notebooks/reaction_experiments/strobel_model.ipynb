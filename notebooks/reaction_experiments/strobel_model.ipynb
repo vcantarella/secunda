{
 "cells": [
  {
   "cell_type": "markdown",
   "id": "0770e168-5c38-41d2-bf9a-4bad84a58c7b",
   "metadata": {
    "tags": []
   },
   "source": [
    "$$\\require{mhchem}$$\n",
    "# Monod-type denitrification model\n",
    "\n",
    "In this notebook I use the Monod equations proposed by Störiko et al. 2021 and 2022.\n",
    "\n",
    "Reactions (Störiko et al 2021):\n",
    "\n",
    "1. *denitrification 1*: $\\ce{7NO3- + C4H6O4 ->[nar] 7NO2- + 4CO2 + 3H2O}$\n",
    "2. *denitrificantion 2*: $\\ce{14NO2- + 14H+ + 3C4H6O4 ->[nir] 7N2 + 12CO2 + 16H2O}$\n",
    "3. *aerobic respiration*: $\\ce{7O2 + 2C4H6O4 -> 7NO2- + 8CO2 + 6H2O}$\n",
    "---------------\n",
    "In this model, denitrification rates are described by a Monod term:\n",
    "\n",
    "$r_{j} = \\nu_{max}^i B \\frac{C_{j}}{C_{j} + K_{j}} \\frac{I_{reac}^i}{I_{reac}^i + C_{O2}} $\n",
    "\n",
    "for $j \\in (nar, nir)$\n",
    "\n",
    "the aerobic respiration is also described by another monod term:\n",
    "\n",
    "$r_{\\ce{O2}} = \\nu_{\\ce{O2}}^i B \\frac{C_{\\ce{O2}}}{C_{\\ce{O2}} + K_{\\ce{O2}}} \\frac{C_{\\ce{DOC}}}{C_{\\ce{DOC}} + K_{\\ce{DOC}}} $  \n",
    "\n",
    "--------------------\n",
    "DOC consumption is modelled by adding the stoichiometric corrected rates from the denitrification and aerobic oxidation rates:\n",
    "\n",
    "$r_{\\ce{DOC}}^{j} = \\frac{\\gamma_{\\ce{DOC}}^{j}}{\\gamma_{\\ce{A}}^{j}}*r_{j}$\n",
    "\n",
    "for $j \\in (nar, nir, \\ce{O2})$\n",
    "\n",
    "and the full rate is defined by the expression:\n",
    "\n",
    "$r_{DOC} = \\sum_j r_{DOC}^j$\n",
    "\n",
    "DOC release from the sediment contained POC is modelled with the expression:\n",
    "\n",
    "$r_{rel} = k_{rel}^{DOC}*(C_{DOC}^{sat}- C_{DOC}) $\n",
    "\n",
    "The final expression for change in $\\ce{DOC}$ is then:\n",
    "\n",
    "$\\frac{d[DOC]}{dt} = r_{rel} - r_{DOC} $\n",
    "\n",
    "---------------------\n",
    "\n",
    "Bacterial growth is represented by the following reaction:\n",
    "\n",
    "$\\ce{3C4H6O4 + 2NH4+ -> C10H18O5N2 + 2CO2 + 3H2O + 2H+}$\n",
    "\n",
    "$\\ce{NH4+}$ is assumed non limiting. Thus biological growth is modelled with the following expression:\n",
    "\n",
    "$r_{growth}^{i} = Y_i*r_{DOC}^i$ \n",
    "\n",
    "And the specific yield of each consumption reaction is modelled by a logistic function assuming a maximum bacterial growth:\n",
    "\n",
    "$Y_i = Y_{i,max}*\\left(1-\\frac{B}{B_{max}}\\right)$\n",
    "\n",
    "Bacterial decay modelled with first order rate:\n",
    "\n",
    "$r_{dec} = k_{dec}*B$\n",
    "\n",
    "The final expression for bacterial density change is:\n",
    "\n",
    "$ \\frac{dB}{dt} = \\sum_i r_{growth}^{i} - r_{dec}$"
   ]
  },
  {
   "cell_type": "markdown",
   "id": "8a0b7522-6a0e-4d4d-a9b3-fd2b47e50e2c",
   "metadata": {},
   "source": [
    "#### importing libraries"
   ]
  },
  {
   "cell_type": "code",
   "execution_count": 1,
   "id": "48986227-26c1-4a07-a716-5d69aadc1879",
   "metadata": {},
   "outputs": [],
   "source": [
    "import os\n",
    "import numpy as np\n",
    "import scipy\n",
    "#import sunode\n",
    "import matplotlib.pyplot as plt"
   ]
  },
  {
   "cell_type": "code",
   "execution_count": 2,
   "id": "1222764d-4e6d-450b-b531-5dc2d89646de",
   "metadata": {},
   "outputs": [
    {
     "data": {
      "text/plain": [
       "'/home/vcantarella/miniconda3/envs/nit-env/bin/python'"
      ]
     },
     "execution_count": 2,
     "metadata": {},
     "output_type": "execute_result"
    }
   ],
   "source": [
    "import sys\n",
    "sys.executable"
   ]
  },
  {
   "cell_type": "code",
   "execution_count": 3,
   "id": "c15bc267-61a7-4691-8b52-f5f4c91f7d5d",
   "metadata": {},
   "outputs": [],
   "source": [
    "# again, this only works on startup!\n",
    "from jax.config import config\n",
    "config.update(\"jax_enable_x64\", True)"
   ]
  },
  {
   "cell_type": "markdown",
   "id": "1a8993fb-5bf2-450b-a7f3-8fdf6444a46d",
   "metadata": {},
   "source": [
    "# Define the Transport Model"
   ]
  },
  {
   "cell_type": "markdown",
   "id": "dbc56710-3c04-4431-af6f-eef5646a01e2",
   "metadata": {},
   "source": [
    "The model we use the is an implicit model in time and discretized in space that solved internally with an ODE solver from scipy (odeint).\n",
    "To run the model, first we must define the parameters."
   ]
  },
  {
   "cell_type": "markdown",
   "id": "896993a7-bdbd-4bc3-9157-401c0076451e",
   "metadata": {},
   "source": [
    "## Parameters\n",
    "\n",
    "We define a dictionary will all the static parameters"
   ]
  },
  {
   "cell_type": "code",
   "execution_count": 4,
   "id": "c3415651-1b32-4106-b55f-2622f4104e3a",
   "metadata": {},
   "outputs": [],
   "source": [
    "parameters = {}"
   ]
  },
  {
   "cell_type": "markdown",
   "id": "8d3da936-3522-4d01-bee4-982f0bb334c9",
   "metadata": {},
   "source": [
    "#### transport parameters"
   ]
  },
  {
   "cell_type": "code",
   "execution_count": 5,
   "id": "ae35cadf-37da-4a76-b6e1-55f0d7c2327d",
   "metadata": {},
   "outputs": [
    {
     "data": {
      "text/plain": [
       "282"
      ]
     },
     "execution_count": 5,
     "metadata": {},
     "output_type": "execute_result"
    }
   ],
   "source": [
    "parameters['length'] = 0.173 #m\n",
    "parameters['ne'] = 0.758 #Eff. porosity\n",
    "parameters['rho_s'] = 2650 #kg/m3 density of grains (maybe lower value?)\n",
    "parameters['D'] = np.array([1.9e-9/parameters['ne'],1.7e-9/parameters['ne'],0.3e-9/parameters['ne'],0.3e-9/parameters['ne']])\n",
    "parameters['alpha_l'] = 4.01*1e-4 #m\n",
    "v = 0.16/(3600*24)\n",
    "ncells = np.ceil(parameters['length']*v/(1*(np.min(parameters['D'])+parameters['alpha_l']*v)))\n",
    "ncells = int(ncells)\n",
    "parameters['ncells'] = ncells\n",
    "\n",
    "ncells\n"
   ]
  },
  {
   "cell_type": "markdown",
   "id": "684fdd2e-f377-4c4e-b239-a9f9b82a75a0",
   "metadata": {},
   "source": [
    "#### NO3 reaction parameters"
   ]
  },
  {
   "cell_type": "code",
   "execution_count": 6,
   "id": "41a58d93-c862-4bca-a783-8f7b6188d77d",
   "metadata": {},
   "outputs": [],
   "source": [
    "mu_no3 = 2e-3 #s-1\n",
    "Y_lac = 1e10\n",
    "K_no3 = 2 #mmol/L\n",
    "K_lac = 1.001 #mmol/L\n",
    "mu_no3_s = 2.75e-6\n",
    "Y_soc = 9e10 #cell/mmolSOC\n",
    "K_no3_s = 5 #mmol/L\n",
    "\n",
    "no3_doc_args = (mu_no3,Y_lac,K_no3,K_lac)\n",
    "no3_soc_args = (mu_no3_s,Y_soc,K_no3_s)"
   ]
  },
  {
   "cell_type": "code",
   "execution_count": 7,
   "id": "877abb43-4dc4-4cec-a97d-c694686d476f",
   "metadata": {
    "tags": []
   },
   "outputs": [],
   "source": [
    "parameters['no3_doc_args'] = no3_doc_args\n",
    "parameters['no3_soc_args'] = no3_soc_args"
   ]
  },
  {
   "cell_type": "markdown",
   "id": "8ede490d-d1ae-4821-b752-7d5ef0b2849b",
   "metadata": {
    "tags": []
   },
   "source": [
    "#### NO2 reaction parameters"
   ]
  },
  {
   "cell_type": "code",
   "execution_count": 8,
   "id": "89f9f092-ede2-429a-a57f-50176dd91136",
   "metadata": {},
   "outputs": [],
   "source": [
    "mu_no2 = 2.5e-3 #s-1\n",
    "K_no2 = 2 #mmol/L\n",
    "mu_no2_s = 3e-5\n",
    "K_no2_s = 2 #mmol/L\n",
    "\n",
    "no2_doc_args = (mu_no2,K_no2)\n",
    "no2_soc_args = (mu_no2_s,K_no2_s)"
   ]
  },
  {
   "cell_type": "code",
   "execution_count": 9,
   "id": "e896aac8-42cf-4562-9e58-e2c1ffb36992",
   "metadata": {
    "tags": []
   },
   "outputs": [],
   "source": [
    "parameters['no2_doc_args'] = no2_doc_args\n",
    "parameters['no2_soc_args'] = no2_soc_args"
   ]
  },
  {
   "cell_type": "markdown",
   "id": "91467660-3bbe-49ba-893d-24628dedb77b",
   "metadata": {},
   "source": [
    "#### DOC reaction parameters"
   ]
  },
  {
   "cell_type": "code",
   "execution_count": 10,
   "id": "443ab959-9a06-45d8-a779-a35e033f7677",
   "metadata": {},
   "outputs": [],
   "source": [
    "k_hyd = 6e-2 #s-1\n"
   ]
  },
  {
   "cell_type": "code",
   "execution_count": 11,
   "id": "bae27539-2af5-4237-a8a6-d6a71a570f35",
   "metadata": {},
   "outputs": [],
   "source": [
    "parameters['k_hyd'] = k_hyd"
   ]
  },
  {
   "cell_type": "markdown",
   "id": "f5a6fb4c-4057-4590-b9d0-997b8bdff182",
   "metadata": {},
   "source": [
    "#### B reaction parameters"
   ]
  },
  {
   "cell_type": "code",
   "execution_count": 12,
   "id": "e9825808-f583-4bbe-b4af-3218141e334f",
   "metadata": {},
   "outputs": [],
   "source": [
    "k_act = 2e-5 #s-1\n",
    "C_thresh = 0.48 #mmol/L\n",
    "st = 0.47\n",
    "B_args = (k_act,C_thresh,st)"
   ]
  },
  {
   "cell_type": "code",
   "execution_count": 13,
   "id": "ee73ca4f-2313-4b91-8e90-7e7fbab83328",
   "metadata": {},
   "outputs": [],
   "source": [
    "parameters['B_args'] = B_args"
   ]
  },
  {
   "cell_type": "markdown",
   "id": "dd427569-0791-4f08-8dcc-2d97b0876cd3",
   "metadata": {},
   "source": [
    "### Stress Periods\n",
    "\n",
    "We define the stress period as the period with constant boundary values it is organized in a list with the time start of each boundary condition and the boundary values of such stress period"
   ]
  },
  {
   "cell_type": "code",
   "execution_count": 14,
   "id": "ac8af40e-b5b1-4d20-83b9-9f42cc871276",
   "metadata": {},
   "outputs": [],
   "source": [
    "Q = np.array([7.883,8.165,8.118,7.847,7.380,7.317]) #ml/hr\n",
    "q = Q/(np.pi*3.5**2/4)\n",
    "v_in = q/parameters['ne'] #cm/hr\n",
    "v_in = v_in*1e-2/3600 #m/s"
   ]
  },
  {
   "cell_type": "code",
   "execution_count": 15,
   "id": "0680cd94-7d30-4f68-a534-53c6c134438f",
   "metadata": {},
   "outputs": [
    {
     "data": {
      "text/plain": [
       "array([3.00257490e-06, 3.10998656e-06, 3.09208462e-06, 2.98886278e-06,\n",
       "       2.81098602e-06, 2.78698980e-06])"
      ]
     },
     "execution_count": 15,
     "metadata": {},
     "output_type": "execute_result"
    }
   ],
   "source": [
    "v_in"
   ]
  },
  {
   "cell_type": "code",
   "execution_count": 16,
   "id": "98db3640-c25e-424c-9e6b-70c4046707be",
   "metadata": {},
   "outputs": [],
   "source": [
    "tchange = np.array([0,21.6,46.0,69.9,115.4,161.5])*3600\n",
    "c_in_array = np.array([[2.061,0.013,1e-8,0.12],[2.172,0.005,1e-8,0.444],[3.229,0.001,1e-8,0.667],[3.697,0.014,1e-8,0.553],[4.839,0.004,1e-8,1e-8],[5.011,0.003,1e-8,1e-8]])"
   ]
  },
  {
   "cell_type": "code",
   "execution_count": 17,
   "id": "da8e205c-1d25-4aa8-a12a-187f076bb061",
   "metadata": {},
   "outputs": [
    {
     "data": {
      "text/plain": [
       "3.0025749020717154e-06"
      ]
     },
     "execution_count": 17,
     "metadata": {},
     "output_type": "execute_result"
    }
   ],
   "source": [
    "v_in[0]"
   ]
  },
  {
   "cell_type": "code",
   "execution_count": 18,
   "id": "dcfe7f72-13ae-49fc-a007-c687548b5771",
   "metadata": {},
   "outputs": [],
   "source": [
    "stress_periods = [tchange, c_in_array, v_in]"
   ]
  },
  {
   "cell_type": "markdown",
   "id": "35df0f81-538e-4f2d-93c7-9efd28dd4726",
   "metadata": {},
   "source": [
    "### Running model"
   ]
  },
  {
   "cell_type": "code",
   "execution_count": 19,
   "id": "6858c248-ee40-4106-9a73-920f3114c82c",
   "metadata": {},
   "outputs": [],
   "source": [
    "import sys\n",
    "sys.path.append('../../')"
   ]
  },
  {
   "cell_type": "markdown",
   "id": "0b57113e-d81b-4343-b51a-2c8aa4015f57",
   "metadata": {},
   "source": [
    "importing the model:"
   ]
  },
  {
   "cell_type": "code",
   "execution_count": 20,
   "id": "3856f063-842c-45d2-9a3e-e7eacf562927",
   "metadata": {},
   "outputs": [],
   "source": [
    "from src.models.strobel_model import column_model_strobel"
   ]
  },
  {
   "cell_type": "code",
   "execution_count": 21,
   "id": "ad4f6bce-f065-4e46-ba08-cf1fd70714c9",
   "metadata": {},
   "outputs": [],
   "source": [
    "time_intervals = np.arange(0, 3600*162+600, 600)"
   ]
  },
  {
   "cell_type": "code",
   "execution_count": 22,
   "id": "80c6a892-6318-49fa-8db7-ad0c5f6e2c70",
   "metadata": {},
   "outputs": [
    {
     "name": "stderr",
     "output_type": "stream",
     "text": [
      "No GPU/TPU found, falling back to CPU. (Set TF_CPP_MIN_LOG_LEVEL=0 and rerun for more info.)\n"
     ]
    },
    {
     "name": "stdout",
     "output_type": "stream",
     "text": [
      "[[-1.96482103e-02  0.00000000e+00 -1.69039404e-32 ...  0.00000000e+00\n",
      "   0.00000000e+00  0.00000000e+00]\n",
      " [ 1.03405194e-25 -1.89471316e-02  2.81732340e-33 ...  0.00000000e+00\n",
      "   0.00000000e+00  0.00000000e+00]\n",
      " [-8.45197019e-33 -1.05649627e-32 -1.40395804e-02 ...  0.00000000e+00\n",
      "   0.00000000e+00  0.00000000e+00]\n",
      " ...\n",
      " [ 0.00000000e+00  0.00000000e+00  0.00000000e+00 ... -4.89437065e-03\n",
      "  -1.90169329e-32  0.00000000e+00]\n",
      " [ 0.00000000e+00  0.00000000e+00  0.00000000e+00 ...  0.00000000e+00\n",
      "  -1.78712524e-05  2.12874762e-06]\n",
      " [ 0.00000000e+00  0.00000000e+00  0.00000000e+00 ...  0.00000000e+00\n",
      "   1.78712524e-05 -2.12874762e-06]]\n",
      "[[-2.01128311e-02  0.00000000e+00 -5.44040393e-22 ...  0.00000000e+00\n",
      "   0.00000000e+00  0.00000000e+00]\n",
      " [ 5.02518992e-22 -1.94117523e-02  5.38271341e-22 ...  0.00000000e+00\n",
      "   0.00000000e+00  0.00000000e+00]\n",
      " [-2.11991827e-22 -1.07846874e-21 -1.45042011e-02 ...  0.00000000e+00\n",
      "   0.00000000e+00  0.00000000e+00]\n",
      " ...\n",
      " [ 0.00000000e+00  0.00000000e+00  0.00000000e+00 ... -5.06945787e-03\n",
      "  -9.31711533e-12  0.00000000e+00]\n",
      " [ 0.00000000e+00  0.00000000e+00  0.00000000e+00 ...  0.00000000e+00\n",
      "  -1.88524190e-08  1.99811476e-05]\n",
      " [ 0.00000000e+00  0.00000000e+00  0.00000000e+00 ...  0.00000000e+00\n",
      "   1.88524190e-08 -1.99811476e-05]]\n",
      "[[-2.00353943e-02  0.00000000e+00 -9.96996058e-23 ...  0.00000000e+00\n",
      "   0.00000000e+00  0.00000000e+00]\n",
      " [ 8.67779991e-22 -1.93343155e-02  9.93016340e-23 ...  0.00000000e+00\n",
      "   0.00000000e+00  0.00000000e+00]\n",
      " [-3.16634000e-22 -1.71367084e-21 -1.44267643e-02 ...  0.00000000e+00\n",
      "   0.00000000e+00  0.00000000e+00]\n",
      " ...\n",
      " [ 0.00000000e+00  0.00000000e+00  0.00000000e+00 ... -5.04027666e-03\n",
      "  -2.72298365e-11  0.00000000e+00]\n",
      " [ 0.00000000e+00  0.00000000e+00  0.00000000e+00 ...  0.00000000e+00\n",
      "  -1.10557360e-08  1.99889443e-05]\n",
      " [ 0.00000000e+00  0.00000000e+00  0.00000000e+00 ...  0.00000000e+00\n",
      "   1.10557360e-08 -1.99889443e-05]]\n",
      "[[-1.95888970e-02  0.00000000e+00 -5.91696057e-23 ...  0.00000000e+00\n",
      "   0.00000000e+00  0.00000000e+00]\n",
      " [ 6.31916149e-22 -1.88878183e-02  5.91297013e-23 ...  0.00000000e+00\n",
      "   0.00000000e+00  0.00000000e+00]\n",
      " [-2.17273418e-22 -1.85464040e-21 -1.39802671e-02 ...  0.00000000e+00\n",
      "   0.00000000e+00  0.00000000e+00]\n",
      " ...\n",
      " [ 0.00000000e+00  0.00000000e+00  0.00000000e+00 ... -4.87201909e-03\n",
      "  -4.18250110e-11  0.00000000e+00]\n",
      " [ 0.00000000e+00  0.00000000e+00  0.00000000e+00 ...  0.00000000e+00\n",
      "  -1.02138474e-10  1.99998979e-05]\n",
      " [ 0.00000000e+00  0.00000000e+00  0.00000000e+00 ...  0.00000000e+00\n",
      "   1.02138474e-10 -1.99998979e-05]]\n",
      "[[-1.88194719e-02  0.00000000e+00 -8.10002893e-23 ...  0.00000000e+00\n",
      "   0.00000000e+00  0.00000000e+00]\n",
      " [ 5.08830277e-22 -1.81183931e-02  8.02772354e-23 ...  0.00000000e+00\n",
      "   0.00000000e+00  0.00000000e+00]\n",
      " [-1.80180528e-22 -1.80215182e-21 -1.32108419e-02 ...  0.00000000e+00\n",
      "   0.00000000e+00  0.00000000e+00]\n",
      " ...\n",
      " [ 0.00000000e+00  0.00000000e+00  0.00000000e+00 ... -4.58206969e-03\n",
      "  -3.95982437e-11  0.00000000e+00]\n",
      " [ 0.00000000e+00  0.00000000e+00  0.00000000e+00 ...  0.00000000e+00\n",
      "  -1.28262057e-11  1.99999872e-05]\n",
      " [ 0.00000000e+00  0.00000000e+00  0.00000000e+00 ...  0.00000000e+00\n",
      "   1.28262057e-11 -1.99999872e-05]]\n",
      "[[-1.87156736e-02  0.00000000e+00 -4.78419394e-21 ...  0.00000000e+00\n",
      "   0.00000000e+00  0.00000000e+00]\n",
      " [ 5.34496654e-26 -1.80145949e-02  4.77294720e-21 ...  0.00000000e+00\n",
      "   0.00000000e+00  0.00000000e+00]\n",
      " [-1.92697365e-29 -2.80527578e-28 -1.31070437e-02 ...  0.00000000e+00\n",
      "   0.00000000e+00  0.00000000e+00]\n",
      " ...\n",
      " [ 0.00000000e+00  0.00000000e+00  0.00000000e+00 ... -4.54295446e-03\n",
      "  -1.20026524e-18  0.00000000e+00]\n",
      " [ 0.00000000e+00  0.00000000e+00  0.00000000e+00 ...  0.00000000e+00\n",
      "  -8.12222822e-14  1.99999999e-05]\n",
      " [ 0.00000000e+00  0.00000000e+00  0.00000000e+00 ...  0.00000000e+00\n",
      "   8.12222822e-14 -1.99999999e-05]]\n"
     ]
    }
   ],
   "source": [
    "sol = column_model_strobel(stress_periods, parameters, time_intervals)"
   ]
  },
  {
   "cell_type": "markdown",
   "id": "1bb08d83-6645-41a3-bacc-a04f94b92962",
   "metadata": {},
   "source": [
    "### Importing the data"
   ]
  },
  {
   "cell_type": "code",
   "execution_count": 23,
   "id": "6995504a-1705-40bc-a4cb-c8cfe35431ea",
   "metadata": {},
   "outputs": [],
   "source": [
    "data = np.loadtxt('../../data/external/data_strobel_biostimulation.txt')\n",
    "time_hrs = data[:,0]\n",
    "time_sc = time_hrs/3600\n",
    "no3 = data[:,2]\n",
    "no2 = data[:,3]\n",
    "lac = np.zeros(len(data))"
   ]
  },
  {
   "cell_type": "markdown",
   "id": "b3ab9993-09ba-4b2c-9a8f-0cbdf7c2eca8",
   "metadata": {},
   "source": [
    "#### Plotting and comparing solutions:"
   ]
  },
  {
   "cell_type": "code",
   "execution_count": 24,
   "id": "b5d5cd74-f448-4eef-a6c3-aabc553f24e4",
   "metadata": {},
   "outputs": [],
   "source": [
    "plot_time = time_intervals/3600"
   ]
  },
  {
   "cell_type": "code",
   "execution_count": 25,
   "id": "e4af3c0f-7b7f-496c-8c50-a6bbcde31e88",
   "metadata": {},
   "outputs": [
    {
     "data": {
      "text/plain": [
       "Text(0, 0.5, '[NO2] [$mmol/L$]')"
      ]
     },
     "execution_count": 25,
     "metadata": {},
     "output_type": "execute_result"
    },
    {
     "data": {
      "image/png": "[encoded data removed]",
      "text/plain": [
       "<Figure size 1400x400 with 2 Axes>"
      ]
     },
     "metadata": {},
     "output_type": "display_data"
    }
   ],
   "source": [
    "fig = plt.figure(figsize = (14,4))\n",
    "ax = fig.add_subplot(121)\n",
    "ax.plot(plot_time,sol[:,0],'--k', label = 'NO3 model')\n",
    "ax.plot(time_hrs,no3,'Dr', label = 'NO3 data')\n",
    "#ax.set_xlim([0,6])\n",
    "ax.legend()\n",
    "ax.set_xlabel('time [hr]')\n",
    "ax.set_ylabel(r'[NO3] [$mmol/L$]')\n",
    "ax2 = fig.add_subplot(122)\n",
    "ax2.plot(plot_time,sol[:,1],'--k', label = 'NO2 model')\n",
    "ax2.plot(time_hrs,no2,'Dr', label = 'NO2 data')\n",
    "#ax.set_xlim([0,6])\n",
    "ax2.legend()\n",
    "ax2.set_xlabel('time [hr]')\n",
    "ax2.set_ylabel(r'[NO2] [$mmol/L$]')"
   ]
  },
  {
   "cell_type": "code",
   "execution_count": 26,
   "id": "14ed2fe7-ea74-4bc2-844a-d7a43c6e3dc0",
   "metadata": {
    "jupyter": {
     "source_hidden": true
    },
    "tags": []
   },
   "outputs": [
    {
     "data": {
      "text/plain": [
       "Text(0, 0.5, '[C_x] [$mmol/L$]')"
      ]
     },
     "execution_count": 26,
     "metadata": {},
     "output_type": "execute_result"
    },
    {
     "data": {
      "image/png": "[encoded data removed]",
      "text/plain": [
       "<Figure size 700x400 with 1 Axes>"
      ]
     },
     "metadata": {},
     "output_type": "display_data"
    }
   ],
   "source": [
    "fig = plt.figure(figsize = (7,4))\n",
    "ax = fig.add_subplot(111)\n",
    "ax.plot(plot_time,sol[:,3],'--k', label = 'Lactate')\n",
    "ax.plot(time_hrs,lac,'Dr', label = 'samples')\n",
    "#ax.plot(plot_time[::40],sol[:,5][::40],'-*k', label = 'inactive')\n",
    "\n",
    "#ax.plot(plot_time[::50],c_out_ana[::50], 'Dr', label = 'analytical solution')\n",
    "#ax.plot(plot_time,c_ode[:,-1],'-.k', label = 'remodel')\n",
    "#ax.set_xlim([0,6])\n",
    "ax.legend()\n",
    "ax.set_xlabel('time [hr]')\n",
    "ax.set_ylabel(r'[C_x] [$mmol/L$]')"
   ]
  },
  {
   "cell_type": "code",
   "execution_count": 27,
   "id": "40a8a2d3-0841-43b0-b96a-396770f4e878",
   "metadata": {
    "jupyter": {
     "source_hidden": true
    },
    "tags": []
   },
   "outputs": [
    {
     "data": {
      "text/plain": [
       "Text(0, 0.5, '[B] [$mol/L$]')"
      ]
     },
     "execution_count": 27,
     "metadata": {},
     "output_type": "execute_result"
    },
    {
     "data": {
      "image/png": "[encoded data removed]",
      "text/plain": [
       "<Figure size 700x400 with 1 Axes>"
      ]
     },
     "metadata": {},
     "output_type": "display_data"
    }
   ],
   "source": [
    "fig = plt.figure(figsize = (7,4))\n",
    "ax = fig.add_subplot(111)\n",
    "ax.plot(plot_time,sol[:,4],'--k', label = 'Active')\n",
    "ax.plot(plot_time[::40],sol[:,5][::40],'-*k', label = 'inactive')\n",
    "\n",
    "#ax.plot(plot_time[::50],c_out_ana[::50], 'Dr', label = 'analytical solution')\n",
    "#ax.plot(plot_time,c_ode[:,-1],'-.k', label = 'remodel')\n",
    "#ax.set_xlim([0,6])\n",
    "ax.legend()\n",
    "ax.set_xlabel('time [hr]')\n",
    "ax.set_ylabel(r'[B] [$mol/L$]')"
   ]
  }
 ],
 "metadata": {
  "citation-manager": {
   "items": {}
  },
  "kernelspec": {
   "display_name": "Python 3 (ipykernel)",
   "language": "python",
   "name": "python3"
  },
  "language_info": {
   "codemirror_mode": {
    "name": "ipython",
    "version": 3
   },
   "file_extension": ".py",
   "mimetype": "text/x-python",
   "name": "python",
   "nbconvert_exporter": "python",
   "pygments_lexer": "ipython3",
   "version": "3.10.8"
  }
 },
 "nbformat": 4,
 "nbformat_minor": 5
}
