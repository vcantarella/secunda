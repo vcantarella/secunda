{
 "cells": [
  {
   "cell_type": "markdown",
   "id": "0770e168-5c38-41d2-bf9a-4bad84a58c7b",
   "metadata": {
    "tags": []
   },
   "source": [
    "$$\\require{mhchem}$$\n",
    "# Monod-type denitrification model\n",
    "\n",
    "In this notebook I use the Monod equations proposed by Störiko et al. 2021 and 2022.\n",
    "\n",
    "Reactions (Störiko et al 2021):\n",
    "\n",
    "1. *denitrification 1*: $\\ce{7NO3- + C4H6O4 ->[nar] 7NO2- + 4CO2 + 3H2O}$\n",
    "2. *denitrificantion 2*: $\\ce{14NO2- + 14H+ + 3C4H6O4 ->[nir] 7N2 + 12CO2 + 16H2O}$\n",
    "3. *aerobic respiration*: $\\ce{7O2 + 2C4H6O4 -> 7NO2- + 8CO2 + 6H2O}$\n",
    "---------------\n",
    "In this model, denitrification rates are described by a Monod term:\n",
    "\n",
    "$r_{j} = \\nu_{max}^i B \\frac{C_{j}}{C_{j} + K_{j}} \\frac{I_{reac}^i}{I_{reac}^i + C_{O2}} $\n",
    "\n",
    "for $j \\in (nar, nir)$\n",
    "\n",
    "the aerobic respiration is also described by another monod term:\n",
    "\n",
    "$r_{\\ce{O2}} = \\nu_{\\ce{O2}}^i B \\frac{C_{\\ce{O2}}}{C_{\\ce{O2}} + K_{\\ce{O2}}} \\frac{C_{\\ce{DOC}}}{C_{\\ce{DOC}} + K_{\\ce{DOC}}} $  \n",
    "\n",
    "--------------------\n",
    "DOC consumption is modelled by adding the stoichiometric corrected rates from the denitrification and aerobic oxidation rates:\n",
    "\n",
    "$r_{\\ce{DOC}}^{j} = \\frac{\\gamma_{\\ce{DOC}}^{j}}{\\gamma_{\\ce{A}}^{j}}*r_{j}$\n",
    "\n",
    "for $j \\in (nar, nir, \\ce{O2})$\n",
    "\n",
    "and the full rate is defined by the expression:\n",
    "\n",
    "$r_{DOC} = \\sum_j r_{DOC}^j$\n",
    "\n",
    "DOC release from the sediment contained POC is modelled with the expression:\n",
    "\n",
    "$r_{rel} = k_{rel}^{DOC}*(C_{DOC}^{sat}- C_{DOC}) $\n",
    "\n",
    "The final expression for change in $\\ce{DOC}$ is then:\n",
    "\n",
    "$\\frac{d[DOC]}{dt} = r_{rel} - r_{DOC} $\n",
    "\n",
    "---------------------\n",
    "\n",
    "Bacterial growth is represented by the following reaction:\n",
    "\n",
    "$\\ce{3C4H6O4 + 2NH4+ -> C10H18O5N2 + 2CO2 + 3H2O + 2H+}$\n",
    "\n",
    "$\\ce{NH4+}$ is assumed non limiting. Thus biological growth is modelled with the following expression:\n",
    "\n",
    "$r_{growth}^{i} = Y_i*r_{DOC}^i$ \n",
    "\n",
    "And the specific yield of each consumption reaction is modelled by a logistic function assuming a maximum bacterial growth:\n",
    "\n",
    "$Y_i = Y_{i,max}*\\left(1-\\frac{B}{B_{max}}\\right)$\n",
    "\n",
    "Bacterial decay modelled with first order rate:\n",
    "\n",
    "$r_{dec} = k_{dec}*B$\n",
    "\n",
    "The final expression for bacterial density change is:\n",
    "\n",
    "$ \\frac{dB}{dt} = \\sum_i r_{growth}^{i} - r_{dec}$"
   ]
  },
  {
   "cell_type": "markdown",
   "id": "c58bfc1a-5272-435a-8bcb-dfe46f47b965",
   "metadata": {},
   "source": [
    "but we begin with just the O2 model"
   ]
  },
  {
   "cell_type": "markdown",
   "id": "8a0b7522-6a0e-4d4d-a9b3-fd2b47e50e2c",
   "metadata": {},
   "source": [
    "#### importing libraries"
   ]
  },
  {
   "cell_type": "code",
   "execution_count": 1,
   "id": "48986227-26c1-4a07-a716-5d69aadc1879",
   "metadata": {},
   "outputs": [],
   "source": [
    "import os\n",
    "import numpy as np\n",
    "import scipy\n",
    "#import sunode\n",
    "import matplotlib.pyplot as plt"
   ]
  },
  {
   "cell_type": "code",
   "execution_count": 2,
   "id": "1222764d-4e6d-450b-b531-5dc2d89646de",
   "metadata": {},
   "outputs": [
    {
     "data": {
      "text/plain": [
       "'/home/vcantarella/miniconda3/envs/nit-env/bin/python'"
      ]
     },
     "execution_count": 2,
     "metadata": {},
     "output_type": "execute_result"
    }
   ],
   "source": [
    "import sys\n",
    "sys.executable"
   ]
  },
  {
   "cell_type": "code",
   "execution_count": 3,
   "id": "c15bc267-61a7-4691-8b52-f5f4c91f7d5d",
   "metadata": {},
   "outputs": [],
   "source": [
    "# again, this only works on startup!\n",
    "from jax.config import config\n",
    "config.update(\"jax_enable_x64\", True)"
   ]
  },
  {
   "cell_type": "markdown",
   "id": "1a8993fb-5bf2-450b-a7f3-8fdf6444a46d",
   "metadata": {},
   "source": [
    "### Define the Model"
   ]
  },
  {
   "cell_type": "markdown",
   "id": "dbc56710-3c04-4431-af6f-eef5646a01e2",
   "metadata": {},
   "source": [
    "The model we use the is an implicit model in time and discretized in space that solved internally with an ODE solver from scipy (odeint).\n",
    "To run the model, first we must define the parameters."
   ]
  },
  {
   "cell_type": "code",
   "execution_count": 4,
   "id": "6858c248-ee40-4106-9a73-920f3114c82c",
   "metadata": {},
   "outputs": [],
   "source": [
    "import sys\n",
    "sys.path.append('../../')"
   ]
  },
  {
   "cell_type": "code",
   "execution_count": 5,
   "id": "3856f063-842c-45d2-9a3e-e7eacf562927",
   "metadata": {},
   "outputs": [],
   "source": [
    "from src.models.general_implicit_ade import ColumnModel"
   ]
  },
  {
   "cell_type": "code",
   "execution_count": 6,
   "id": "c3415651-1b32-4106-b55f-2622f4104e3a",
   "metadata": {},
   "outputs": [],
   "source": [
    "model = ColumnModel({0: 'DOC',1: 'Oxygen',2: 'Bacteria'}, np.array([1,1,0]))"
   ]
  },
  {
   "cell_type": "markdown",
   "id": "8d3da936-3522-4d01-bee4-982f0bb334c9",
   "metadata": {},
   "source": [
    "#### transport parameters"
   ]
  },
  {
   "cell_type": "code",
   "execution_count": 7,
   "id": "ae35cadf-37da-4a76-b6e1-55f0d7c2327d",
   "metadata": {},
   "outputs": [],
   "source": [
    "model.add_transport_parameters(velocity = 5e-6, longitudinal_dispersivity = 7e-2, diffusion_coefficient = 3e-9)"
   ]
  },
  {
   "cell_type": "markdown",
   "id": "2342e298-6c07-47e0-8db8-88b0dd25f439",
   "metadata": {},
   "source": [
    "#### Estimate a grid\n",
    "\n",
    "We define the grid based on our transport parameters, so solution is accurate and stable (Peclet Number < 1)."
   ]
  },
  {
   "cell_type": "code",
   "execution_count": 8,
   "id": "b315c01a-9845-43d9-aed0-6b295da931fa",
   "metadata": {},
   "outputs": [],
   "source": [
    "length = 0.5 #m"
   ]
  },
  {
   "cell_type": "code",
   "execution_count": 9,
   "id": "985901ba-c7b6-4333-8a0e-03415524c9a1",
   "metadata": {},
   "outputs": [
    {
     "name": "stdout",
     "output_type": "stream",
     "text": [
      "0.01\n",
      "50.0\n"
     ]
    }
   ],
   "source": [
    "mixf = (7e-2*1e-7+3e-9)\n",
    "#Max x size (Peclet number = 0.1)\n",
    "max_deltax = 0.1*mixf/1e-7\n",
    "print(max_deltax)\n",
    "x_steps_min = length/max_deltax\n",
    "x_steps_min = np.ceil(x_steps_min)\n",
    "print(x_steps_min)"
   ]
  },
  {
   "cell_type": "code",
   "execution_count": 10,
   "id": "5201e337-e12e-433a-a654-563675f18655",
   "metadata": {},
   "outputs": [],
   "source": [
    "deltax = 0.005\n",
    "x_steps = length/deltax"
   ]
  },
  {
   "cell_type": "code",
   "execution_count": 11,
   "id": "71c9b1c3-119a-453b-aaaf-b05003845197",
   "metadata": {},
   "outputs": [],
   "source": [
    "model.add_grid(length, ncells = np.int64(x_steps), deltax = deltax)"
   ]
  },
  {
   "cell_type": "markdown",
   "id": "5efcfbb8-d414-4e8e-a70a-0646be827183",
   "metadata": {},
   "source": [
    "### Kinetic reactions"
   ]
  },
  {
   "cell_type": "markdown",
   "id": "70969df6-172d-4675-b02b-af5a67bc18f6",
   "metadata": {},
   "source": [
    "#### O2 oxidation of DOC\n",
    "\n"
   ]
  },
  {
   "cell_type": "markdown",
   "id": "cadfcddf-07b7-4a85-9d01-460e46f4b35a",
   "metadata": {},
   "source": [
    "aerobic respiration is also described by another monod term:\n",
    "\n",
    "$r_{\\ce{O2}} = \\nu_{\\ce{O2}}^i B \\frac{C_{\\ce{O2}}}{C_{\\ce{O2}} + K_{\\ce{O2}}} \\frac{C_{\\ce{DOC}}}{C_{\\ce{DOC}} + K_{\\ce{DOC}}} $"
   ]
  },
  {
   "cell_type": "code",
   "execution_count": 12,
   "id": "8a15f05e-b8d5-401f-8c40-adcc080e2068",
   "metadata": {},
   "outputs": [],
   "source": [
    "def o2_oxydation(y, parameters):\n",
    "    max_rate = parameters[0]\n",
    "    half_o2 = parameters[1]\n",
    "    half_doc = parameters[2]\n",
    "    phi = parameters[3]\n",
    "    rho_s = parameters[4]\n",
    "    r = max_rate*y[:,2]*((1-phi)/phi)*(y[:,0]/(y[:,0]+half_o2))*(y[:,1]/(y[:,1]+half_doc))\n",
    "    return - r"
   ]
  },
  {
   "cell_type": "markdown",
   "id": "be12d6f5-6b4d-4991-82de-edcc708eccce",
   "metadata": {},
   "source": [
    "* DOC consumption is just the stoichiometrically corrected rate of o2 consumption:\n",
    "\n",
    "$r_{DOC} = \\frac{\\gamma_{\\ce{DOC}}}{\\gamma_{\\ce{O2}}}*r_{\\ce{O2}}$"
   ]
  },
  {
   "cell_type": "code",
   "execution_count": 13,
   "id": "2998d29b-5bd7-4908-a8f8-5af64edf81fa",
   "metadata": {},
   "outputs": [],
   "source": [
    "def doc_consumption(y, parameters):\n",
    "    return (2/7)*o2_oxydation(y, parameters)"
   ]
  },
  {
   "cell_type": "markdown",
   "id": "7df46f92-3ee3-45bb-88ac-fadf380676ed",
   "metadata": {},
   "source": [
    "Bacteria growth is modelled by the Yield defined by max rate and max carrying capacity:\n",
    "\n",
    "$r_{growth}^{i} = Y_i*r_{DOC}^i$ \n",
    "\n",
    "And the specific yield of each consumption reaction is modelled by a logistic function assuming a maximum bacterial growth:\n",
    "\n",
    "$Y_i = Y_{i,max}*\\left(1-\\frac{B}{B_{max}}\\right)$\n",
    "\n",
    "Bacterial decay modelled with first order rate:\n",
    "\n",
    "$r_{dec} = k_{dec}*B$\n",
    "\n",
    "The final expression for bacterial density change is:\n",
    "\n",
    "$ \\frac{dB}{dt} = \\sum_i r_{growth}^{i} - r_{dec}$"
   ]
  },
  {
   "cell_type": "code",
   "execution_count": 14,
   "id": "496ed85f-8a2b-456c-9582-0c6b225c4e49",
   "metadata": {},
   "outputs": [],
   "source": [
    "def bacteria_rate(y, parameters):\n",
    "    Y_max = parameters[5]\n",
    "    B_max = parameters[6]\n",
    "    k_dec = parameters[7]\n",
    "    Y = Y_max*(1-y[:,2]/B_max)\n",
    "    growth = (2/7)*(-1)*o2_oxydation(y, parameters)*Y\n",
    "    decay = k_dec*y[:,2]\n",
    "    return growth - decay"
   ]
  },
  {
   "cell_type": "markdown",
   "id": "e6adcf86-eb2c-4d27-80fb-b28581518465",
   "metadata": {},
   "source": [
    "Add them to the model"
   ]
  },
  {
   "cell_type": "code",
   "execution_count": 15,
   "id": "006c63f7-dbf1-4ea3-b2d2-abda6fb9b921",
   "metadata": {},
   "outputs": [],
   "source": [
    "parameters = (6.41e-19, #mol/cells\n",
    "              31e-6, #mol O2/L\n",
    "              40e-6*4, #mol DOC/L\n",
    "              0.3, #[]\n",
    "              2650, #kg/L\n",
    "              7.7e13*4, #Y_max cells/mol*C\n",
    "              3.3e11, #B_max cells/L\n",
    "              1e-7) #k-dec 1/s"
   ]
  },
  {
   "cell_type": "code",
   "execution_count": 16,
   "id": "da8a5108-344d-45f3-bd59-c17371da484c",
   "metadata": {},
   "outputs": [],
   "source": [
    "model.add_kinetic_expression(o2_oxydation, parameters, 0)"
   ]
  },
  {
   "cell_type": "code",
   "execution_count": 17,
   "id": "6a5ffc47-898d-4fb1-9e88-05d126486cb8",
   "metadata": {},
   "outputs": [],
   "source": [
    "model.add_kinetic_expression(doc_consumption, parameters, 1)"
   ]
  },
  {
   "cell_type": "code",
   "execution_count": 18,
   "id": "13d118a0-91c5-41e3-9ba4-f37372078579",
   "metadata": {},
   "outputs": [],
   "source": [
    "model.add_kinetic_expression(bacteria_rate, parameters, 2)"
   ]
  },
  {
   "cell_type": "markdown",
   "id": "684fdd2e-f377-4c4e-b239-a9f9b82a75a0",
   "metadata": {
    "tags": []
   },
   "source": [
    "#### Setting model Stress periods"
   ]
  },
  {
   "cell_type": "code",
   "execution_count": 19,
   "id": "25024c7b-c96c-4dc1-8716-e41533b7d998",
   "metadata": {},
   "outputs": [],
   "source": [
    "model.stress_periods(np.array([0]),np.array([[0.27e-3,0.1e-3,0]]))"
   ]
  },
  {
   "cell_type": "markdown",
   "id": "5ad0b82e-5320-4b40-8d42-2041d7e707f7",
   "metadata": {},
   "source": [
    "#### Initial Conditions"
   ]
  },
  {
   "cell_type": "code",
   "execution_count": 20,
   "id": "11c4bd9a-74da-45af-ab93-71e760ce0fab",
   "metadata": {},
   "outputs": [],
   "source": [
    "y0 = np.ones((np.int32(x_steps),3))*1e-12\n",
    "y0[:,2] = 1.1e11"
   ]
  },
  {
   "cell_type": "code",
   "execution_count": 21,
   "id": "fdf2156a-692f-450b-af8f-99d1a2208985",
   "metadata": {},
   "outputs": [],
   "source": [
    "model.initial_values(y0 = y0)"
   ]
  },
  {
   "cell_type": "markdown",
   "id": "3075797a-ba4d-44b8-a1fd-2e75d818ede3",
   "metadata": {},
   "source": [
    "### Model Run"
   ]
  },
  {
   "cell_type": "markdown",
   "id": "71d84d5a-f5db-4804-9980-8d207edd3fac",
   "metadata": {},
   "source": [
    "#### Defining time steps for model output:"
   ]
  },
  {
   "cell_type": "code",
   "execution_count": 22,
   "id": "8e658ce7-0641-444b-859f-6ae28a5798c4",
   "metadata": {},
   "outputs": [],
   "source": [
    "time_intervals = np.arange(0, 3600*24*10+600, 600)"
   ]
  },
  {
   "cell_type": "code",
   "execution_count": 23,
   "id": "3eeb749a-01a1-48ae-a536-f84d84cfb6f9",
   "metadata": {},
   "outputs": [
    {
     "data": {
      "text/plain": [
       "array([     0,    600,   1200, ..., 862800, 863400, 864000])"
      ]
     },
     "execution_count": 23,
     "metadata": {},
     "output_type": "execute_result"
    }
   ],
   "source": [
    "time_intervals"
   ]
  },
  {
   "cell_type": "markdown",
   "id": "d71491d0-8d90-47e7-ba7d-c7a5dbc45443",
   "metadata": {},
   "source": [
    "#### Running the model"
   ]
  },
  {
   "cell_type": "code",
   "execution_count": 24,
   "id": "54f4e1aa-9cc5-4ffd-98a3-517bb3973786",
   "metadata": {},
   "outputs": [
    {
     "name": "stderr",
     "output_type": "stream",
     "text": [
      "No GPU/TPU found, falling back to CPU. (Set TF_CPP_MIN_LOG_LEVEL=0 and rerun for more info.)\n"
     ]
    }
   ],
   "source": [
    "res = model.run_model(time_intervals)"
   ]
  },
  {
   "cell_type": "markdown",
   "id": "b6249fcd-a797-4062-8ec6-5916594c3c0d",
   "metadata": {},
   "source": [
    "#### Vertical plots of concentration"
   ]
  },
  {
   "cell_type": "code",
   "execution_count": 27,
   "id": "0ddaa789-d55f-4d42-849d-7a4967953f4f",
   "metadata": {},
   "outputs": [
    {
     "data": {
      "image/png": "[encoded data removed]",
      "text/plain": [
       "<Figure size 1400x800 with 3 Axes>"
      ]
     },
     "metadata": {},
     "output_type": "display_data"
    }
   ],
   "source": [
    "time_ind = -1\n",
    "fig, axs = plt.subplots(1,3,figsize = (14,8), sharey = True)\n",
    "axs[0].plot(res[time_ind,:,0],-np.arange(deltax/2,length,deltax))\n",
    "axs[1].plot(res[time_ind,:,1],-np.arange(deltax/2,length,deltax))\n",
    "axs[2].plot(res[time_ind,:,2],-np.arange(deltax/2,length,deltax))\n",
    "axs[0].set_xlim([0,0.27e-3])\n",
    "axs[1].set_xlim([0,.1e-3])\n",
    "axs[2].set_xlim([1.1e11, 3.3e11]);"
   ]
  },
  {
   "cell_type": "markdown",
   "id": "f5aa93dd-72d3-461c-8fb6-8ca51ed815e5",
   "metadata": {},
   "source": [
    "#### Plotting and comparing solutions:"
   ]
  },
  {
   "cell_type": "code",
   "execution_count": 26,
   "id": "160255f8-3f76-4642-9926-b473a7d71592",
   "metadata": {
    "tags": []
   },
   "outputs": [
    {
     "data": {
      "text/plain": [
       "Text(0, 0.5, '[O2] [$ mol/L$]')"
      ]
     },
     "execution_count": 26,
     "metadata": {},
     "output_type": "execute_result"
    },
    {
     "data": {
      "image/png": "[encoded data removed]",
      "text/plain": [
       "<Figure size 1400x800 with 1 Axes>"
      ]
     },
     "metadata": {},
     "output_type": "display_data"
    }
   ],
   "source": [
    "fig = plt.figure(figsize = (14,8))\n",
    "ax = fig.add_subplot(111)\n",
    "ax.plot(time_intervals,res[:,-1,0], '--r', label = 'Oxygen Outflow')\n",
    "\n",
    "#ax.set_xlim([0,6])\n",
    "ax.legend()\n",
    "ax.set_xlabel('time [s]')\n",
    "ax.set_ylabel(r'[O2] [$ mol/L$]')"
   ]
  }
 ],
 "metadata": {
  "citation-manager": {
   "items": {}
  },
  "kernelspec": {
   "display_name": "Python 3 (ipykernel)",
   "language": "python",
   "name": "python3"
  },
  "language_info": {
   "codemirror_mode": {
    "name": "ipython",
    "version": 3
   },
   "file_extension": ".py",
   "mimetype": "text/x-python",
   "name": "python",
   "nbconvert_exporter": "python",
   "pygments_lexer": "ipython3",
   "version": "3.10.8"
  }
 },
 "nbformat": 4,
 "nbformat_minor": 5
}
