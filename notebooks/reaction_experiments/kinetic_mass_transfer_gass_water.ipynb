{
 "cells": [
  {
   "cell_type": "markdown",
   "id": "11a4328d-03b2-452e-80a9-60ea5ad7924a",
   "metadata": {},
   "source": [
    "# Practical 1: Kinetic mass transfer "
   ]
  },
  {
   "cell_type": "markdown",
   "id": "09a5c08c-37e6-468d-8bab-8516ca26391e",
   "metadata": {},
   "source": [
    "Consider the volatile hydrocarbon toluene with the Henry’s partitioning coefficient between air and water of 1.5x10-3[mol · m−3· Pa−1].\n",
    "The compound is introduced at time zero into the gaseous phase at a concentration, ${c^{t=0}}_g$, of a 2 L reactor with equal volume parts of headspace (air / gas) and water. When dissolved in water the compound undergoes first-order decay with a rate constant, k, of 1 [day-1].\n",
    "Assume that the initial concentration in the water is zero. The area of the interface, Ag↔w, is 0.01 [m2]. The gas exchange velocity, vg↔w, is 1 [mm min-1]."
   ]
  },
  {
   "cell_type": "code",
   "execution_count": 1,
   "id": "e42d35c1-e6d1-4f44-9197-eff4feac2424",
   "metadata": {
    "jupyter": {
     "source_hidden": true
    },
    "tags": []
   },
   "outputs": [
    {
     "data": {
      "image/png": "[encoded data removed]",
      "text/plain": [
       "<IPython.core.display.Image object>"
      ]
     },
     "execution_count": 1,
     "metadata": {},
     "output_type": "execute_result"
    }
   ],
   "source": [
    "from IPython.display import Image\n",
    "Image(filename='figures/practical_1_1.png')"
   ]
  },
  {
   "cell_type": "markdown",
   "id": "1c036119-9465-4cd8-93c1-395d6a02c91c",
   "metadata": {},
   "source": [
    "### 1. Write the problem at hand in matrix-vector notation\n",
    "\n",
    "with explicit statement of the coefficient matrix A. Make sure to be consistent in how you define H"
   ]
  },
  {
   "cell_type": "markdown",
   "id": "4c593b49-1f5b-401d-8fbc-d159c3abd471",
   "metadata": {
    "tags": []
   },
   "source": [
    "#### Part a. Defining H:"
   ]
  },
  {
   "cell_type": "markdown",
   "id": "657e1439-be5e-44b7-b799-8f60e31ed67f",
   "metadata": {},
   "source": [
    "As the problem states we need to be consistent with our H definition as seen in class. For this we will use the gas law to convert the given Henry's law coefficient defined in terms of gas partial pressures to dimensionless H coefficient:"
   ]
  },
  {
   "cell_type": "code",
   "execution_count": 2,
   "id": "d52f77d1-e972-425a-aa90-d6ee43074a74",
   "metadata": {},
   "outputs": [],
   "source": [
    "import sympy"
   ]
  },
  {
   "cell_type": "markdown",
   "id": "efc76661-14f8-4e82-827b-55a3f8d92b6d",
   "metadata": {},
   "source": [
    "The gas law:"
   ]
  },
  {
   "cell_type": "code",
   "execution_count": 3,
   "id": "12b6f939-7245-4692-83b8-241d30c1490d",
   "metadata": {},
   "outputs": [],
   "source": [
    "H = sympy.symbols('H', real = True, positive = True) # dimensionless coefficient\n",
    "K_h = sympy.symbols('K_h', real = True, positive = True) # partial pressures coefficient\n",
    "R = sympy.symbols('R', real = True, positive = True) # dimensionless gas law\n",
    "T = sympy.symbols('T', real = True, positive = True) # temperature\n",
    "p = sympy.symbols('p', real = True, positive = True) # partial pressure\n",
    "c_g = sympy.symbols('c_g', real = True, positive = True) # concentration in gas\n",
    "c_l = sympy.symbols('c_l', real = True, positive = True) # concentration in liquid"
   ]
  },
  {
   "cell_type": "markdown",
   "id": "06df3a73-1454-411c-907f-2c30ae472d4c",
   "metadata": {},
   "source": [
    "If we use the ideal gas law:"
   ]
  },
  {
   "cell_type": "code",
   "execution_count": 4,
   "id": "eba58858-c191-4af5-9c2c-08a41a52b709",
   "metadata": {
    "tags": []
   },
   "outputs": [],
   "source": [
    "p = c_g*R*T # gas law"
   ]
  },
  {
   "cell_type": "code",
   "execution_count": 5,
   "id": "47f5f45b-d545-43c0-bb99-af763cc38546",
   "metadata": {},
   "outputs": [
    {
     "data": {
      "text/latex": [
       "$\\displaystyle R T c_{g}$"
      ],
      "text/plain": [
       "R*T*c_g"
      ]
     },
     "execution_count": 5,
     "metadata": {},
     "output_type": "execute_result"
    }
   ],
   "source": [
    "p"
   ]
  },
  {
   "cell_type": "markdown",
   "id": "9a0b20c8-6823-465a-9a7e-7cef55ef92fe",
   "metadata": {},
   "source": [
    "And mix with the Henry's law:"
   ]
  },
  {
   "cell_type": "code",
   "execution_count": 6,
   "id": "3a235d26-6397-45de-a10c-d272d84d41a2",
   "metadata": {
    "tags": []
   },
   "outputs": [],
   "source": [
    "K_h = c_l/p"
   ]
  },
  {
   "cell_type": "code",
   "execution_count": 7,
   "id": "6df85f50-3910-4dca-a598-e19c4d31de38",
   "metadata": {},
   "outputs": [
    {
     "data": {
      "text/latex": [
       "$\\displaystyle \\frac{c_{l}}{R T c_{g}}$"
      ],
      "text/plain": [
       "c_l/(R*T*c_g)"
      ]
     },
     "execution_count": 7,
     "metadata": {},
     "output_type": "execute_result"
    }
   ],
   "source": [
    "K_h"
   ]
  },
  {
   "cell_type": "markdown",
   "id": "1dce7756-c792-420c-9373-35292fa29bf1",
   "metadata": {},
   "source": [
    "Now we need an expression linking Kh with H. \n",
    "H in the derivation of the mass transfer problem is defined as such:\n"
   ]
  },
  {
   "cell_type": "code",
   "execution_count": 8,
   "id": "4bd7f6d3-9036-43f3-ba23-c25c50822bba",
   "metadata": {},
   "outputs": [],
   "source": [
    "H = c_g/c_l"
   ]
  },
  {
   "cell_type": "code",
   "execution_count": 9,
   "id": "2696605a-23d6-417c-b64d-f8be334bf3df",
   "metadata": {},
   "outputs": [
    {
     "data": {
      "text/latex": [
       "$\\displaystyle \\frac{c_{g}}{c_{l}}$"
      ],
      "text/plain": [
       "c_g/c_l"
      ]
     },
     "execution_count": 9,
     "metadata": {},
     "output_type": "execute_result"
    }
   ],
   "source": [
    "H"
   ]
  },
  {
   "cell_type": "markdown",
   "id": "6500e50e-4660-40d0-a8ed-effa4344eae6",
   "metadata": {},
   "source": [
    "So I will rewrite the Henry's Law to get an expression for $H$:"
   ]
  },
  {
   "cell_type": "code",
   "execution_count": 10,
   "id": "4af93eb3-619e-4311-888b-6b0e348d9c1a",
   "metadata": {},
   "outputs": [],
   "source": [
    "expr = K_h*H\n",
    "K_h = sympy.symbols('K_h', real = True, positive = True) # partial pressures coefficient\n",
    "H = expr/K_h"
   ]
  },
  {
   "cell_type": "code",
   "execution_count": 11,
   "id": "6127b355-b9f1-41e9-b872-8f201bba256f",
   "metadata": {},
   "outputs": [
    {
     "data": {
      "text/latex": [
       "$\\displaystyle \\frac{1}{K_{h} R T}$"
      ],
      "text/plain": [
       "1/(K_h*R*T)"
      ]
     },
     "execution_count": 11,
     "metadata": {},
     "output_type": "execute_result"
    }
   ],
   "source": [
    "H"
   ]
  },
  {
   "cell_type": "markdown",
   "id": "4633ee86-15da-40d3-ad44-96009ef6d59f",
   "metadata": {},
   "source": [
    "Now we can get the function to evaluate H and calculate its value:"
   ]
  },
  {
   "cell_type": "code",
   "execution_count": 12,
   "id": "db531e95-e41d-49d7-8d65-3e2966d5d4dc",
   "metadata": {},
   "outputs": [],
   "source": [
    "H_function = sympy.lambdify([K_h,R,T], H)"
   ]
  },
  {
   "cell_type": "code",
   "execution_count": 13,
   "id": "81b5fecc-9353-419f-88dc-6693955f96df",
   "metadata": {},
   "outputs": [],
   "source": [
    "Kh = 1.5e-3\n",
    "R = 8.31446\n",
    "T = 273.15+25"
   ]
  },
  {
   "cell_type": "code",
   "execution_count": 14,
   "id": "4437d86a-643d-4162-b4a2-f022f9a3a21b",
   "metadata": {},
   "outputs": [],
   "source": [
    "Henry = H_function(Kh,R,T)"
   ]
  },
  {
   "cell_type": "code",
   "execution_count": 15,
   "id": "a3bc2c10-9e57-4503-81a8-27a25b9e7fe5",
   "metadata": {},
   "outputs": [
    {
     "data": {
      "text/plain": [
       "0.2689303883179048"
      ]
     },
     "execution_count": 15,
     "metadata": {},
     "output_type": "execute_result"
    }
   ],
   "source": [
    "Henry"
   ]
  },
  {
   "cell_type": "markdown",
   "id": "9aad1392-1676-48f6-904a-948a98c5947a",
   "metadata": {},
   "source": [
    "#### Part b. Building the derivatives in matrix notation:"
   ]
  },
  {
   "cell_type": "markdown",
   "id": "88a280a3-7552-4378-8962-60dc01170e75",
   "metadata": {},
   "source": [
    "We begin by writing the derivatives:"
   ]
  },
  {
   "cell_type": "code",
   "execution_count": 16,
   "id": "a2225557-f633-49c5-8189-78a940804184",
   "metadata": {
    "tags": []
   },
   "outputs": [],
   "source": [
    "cw,cg,t,Vw,Vg,l,H,k = sympy.symbols('c_w c_g t V_w V_g lambda H k', real = 'True', positive = 'True')"
   ]
  },
  {
   "cell_type": "code",
   "execution_count": 17,
   "id": "a9b2676c-1dce-478b-83a8-b93bed44980d",
   "metadata": {},
   "outputs": [],
   "source": [
    "dcgdt = (Vw/Vg)*l*(cw-cg/H)"
   ]
  },
  {
   "cell_type": "code",
   "execution_count": 18,
   "id": "e7268cfe-a3bb-4ca4-923b-c8a8d293013a",
   "metadata": {},
   "outputs": [],
   "source": [
    "dcwdt = l*(cg/H-cw)-k*cw"
   ]
  },
  {
   "cell_type": "markdown",
   "id": "d1dbbe60-615f-4c90-8a01-c7c4387386f9",
   "metadata": {},
   "source": [
    "$\\frac{\\partial c_w}{\\partial t}$"
   ]
  },
  {
   "cell_type": "code",
   "execution_count": 19,
   "id": "96d128e1-d76f-42ff-84d7-f67345e48398",
   "metadata": {},
   "outputs": [
    {
     "data": {
      "text/latex": [
       "$\\displaystyle \\frac{V_{w} \\lambda \\left(c_{w} - \\frac{c_{g}}{H}\\right)}{V_{g}}$"
      ],
      "text/plain": [
       "V_w*lambda*(c_w - c_g/H)/V_g"
      ]
     },
     "execution_count": 19,
     "metadata": {},
     "output_type": "execute_result"
    }
   ],
   "source": [
    "dcgdt"
   ]
  },
  {
   "cell_type": "markdown",
   "id": "f76b67f0-600f-4259-9a4b-5f64bbd9d3a7",
   "metadata": {},
   "source": [
    "$\\frac{\\partial c_g}{\\partial t}$"
   ]
  },
  {
   "cell_type": "code",
   "execution_count": 20,
   "id": "e85694f5-8c98-47d1-9465-1a04df06f53c",
   "metadata": {},
   "outputs": [
    {
     "data": {
      "text/latex": [
       "$\\displaystyle - c_{w} k + \\lambda \\left(- c_{w} + \\frac{c_{g}}{H}\\right)$"
      ],
      "text/plain": [
       "-c_w*k + lambda*(-c_w + c_g/H)"
      ]
     },
     "execution_count": 20,
     "metadata": {},
     "output_type": "execute_result"
    }
   ],
   "source": [
    "dcwdt"
   ]
  },
  {
   "cell_type": "markdown",
   "id": "85f330a4-83d1-44e1-80e4-de170ae7cd5a",
   "metadata": {},
   "source": [
    "Now we must factor our the concentration terms and build our matrix:"
   ]
  },
  {
   "cell_type": "code",
   "execution_count": 21,
   "id": "5cb1041e-3c63-4598-989c-036b4f1f919c",
   "metadata": {},
   "outputs": [],
   "source": [
    "A = sympy.linear_eq_to_matrix([dcgdt,dcwdt], [cg,cw])[0]"
   ]
  },
  {
   "cell_type": "code",
   "execution_count": 22,
   "id": "35f41b5d-a8cf-4692-a8ed-61b3b96e548b",
   "metadata": {},
   "outputs": [
    {
     "data": {
      "text/latex": [
       "$\\displaystyle \\left[\\begin{matrix}- \\frac{V_{w} \\lambda}{H V_{g}} & \\frac{V_{w} \\lambda}{V_{g}}\\\\\\frac{\\lambda}{H} & - k - \\lambda\\end{matrix}\\right]$"
      ],
      "text/plain": [
       "Matrix([\n",
       "[-V_w*lambda/(H*V_g), V_w*lambda/V_g],\n",
       "[           lambda/H,    -k - lambda]])"
      ]
     },
     "execution_count": 22,
     "metadata": {},
     "output_type": "execute_result"
    }
   ],
   "source": [
    "A"
   ]
  },
  {
   "cell_type": "code",
   "execution_count": 23,
   "id": "cf6e1624-252c-464f-be5e-95f35e715df6",
   "metadata": {},
   "outputs": [],
   "source": [
    "c = sympy.Matrix([cg,cw])"
   ]
  },
  {
   "cell_type": "code",
   "execution_count": 24,
   "id": "3aa5dcb9-9643-405d-8349-095935648ae5",
   "metadata": {},
   "outputs": [
    {
     "data": {
      "text/latex": [
       "$\\displaystyle \\left[\\begin{matrix}c_{g}\\\\c_{w}\\end{matrix}\\right]$"
      ],
      "text/plain": [
       "Matrix([\n",
       "[c_g],\n",
       "[c_w]])"
      ]
     },
     "execution_count": 24,
     "metadata": {},
     "output_type": "execute_result"
    }
   ],
   "source": [
    "c"
   ]
  },
  {
   "cell_type": "markdown",
   "id": "6511e551-9803-4b4d-9bee-a4e8aa66b15e",
   "metadata": {},
   "source": [
    "### 2. Calculate the Analytical solution:\n",
    "Use the matrix exponential function (expm) in Matlab to calculate the analytical solution for an initial concentration in the gas phase, ${c^{t=0}}_g$ of 10 [mmol L-1]. Compare the case\n",
    "without decay in the aqueous phase and the case with decay"
   ]
  },
  {
   "cell_type": "code",
   "execution_count": 25,
   "id": "c7264e4f-c0db-44e8-bd88-3a9941382999",
   "metadata": {},
   "outputs": [],
   "source": [
    "import numpy as np\n",
    "import scipy"
   ]
  },
  {
   "cell_type": "code",
   "execution_count": 27,
   "id": "d9e9f098-92ab-4bbc-b94d-34293942a53a",
   "metadata": {},
   "outputs": [],
   "source": [
    "\n",
    "A_v = 0.01 #[m2]\n",
    "v = 1*1e-3*60*24 #[mm/min]\n"
   ]
  },
  {
   "cell_type": "markdown",
   "id": "975ef76d-ccc1-4ae1-a6fc-f4ccde14fc90",
   "metadata": {},
   "source": [
    "Substituting the variables with the given problem variables:"
   ]
  },
  {
   "cell_type": "code",
   "execution_count": 28,
   "id": "7e236d4b-2506-406b-a7d6-4d2bcc89c11f",
   "metadata": {
    "tags": []
   },
   "outputs": [],
   "source": [
    "A_m = sympy.lambdify([Vw,Vg,l,k,H],A, 'numpy')"
   ]
  },
  {
   "cell_type": "code",
   "execution_count": 29,
   "id": "c5221d58-25af-4f02-849c-78ba2bff3bb8",
   "metadata": {
    "tags": []
   },
   "outputs": [],
   "source": [
    "A = A_m(1e-3,1e-3,A_v*v/1e-3,1,H_function(Kh,8.31446,273.15+25))"
   ]
  },
  {
   "cell_type": "code",
   "execution_count": 30,
   "id": "0f7b558a-8c0d-4bb3-a074-3f2e0a4e73d4",
   "metadata": {},
   "outputs": [
    {
     "data": {
      "text/plain": [
       "array([[-53.5454549784*t, 14.4*t],\n",
       "       [53.5454549784*t, -15.4*t]], dtype=object)"
      ]
     },
     "execution_count": 30,
     "metadata": {},
     "output_type": "execute_result"
    }
   ],
   "source": [
    "A*t"
   ]
  },
  {
   "cell_type": "code",
   "execution_count": 45,
   "id": "69898876-512b-40da-93f5-441f23d06762",
   "metadata": {},
   "outputs": [],
   "source": [
    "t = 0\n",
    "cg,cw = np.dot(scipy.linalg.expm(A*t),np.array([10*1e-3,0]))"
   ]
  },
  {
   "cell_type": "code",
   "execution_count": 46,
   "id": "c72f04a0-f7eb-4362-8097-77670e5ca0ba",
   "metadata": {},
   "outputs": [
    {
     "data": {
      "text/plain": [
       "(0.01, 0.0)"
      ]
     },
     "execution_count": 46,
     "metadata": {},
     "output_type": "execute_result"
    }
   ],
   "source": [
    "cg,cw"
   ]
  },
  {
   "cell_type": "code",
   "execution_count": 47,
   "id": "4042f1b4-6463-48e2-a6cc-75e74fbd455e",
   "metadata": {},
   "outputs": [],
   "source": [
    "dt = 0.01\n",
    "t_range = np.arange(0,8+dt,dt)\n",
    "cg_a = np.zeros(t_range.shape)\n",
    "cw_a =np.zeros(t_range.shape)\n",
    "i = 0\n",
    "cg0 = cg\n",
    "cw0 = cw\n",
    "for t in t_range:\n",
    "    cg,cw = np.dot(scipy.linalg.expm(A*t),np.array([cg0,cw0]))\n",
    "    cg_a[i] = cg\n",
    "    cw_a[i] = cw\n",
    "    i+=1"
   ]
  },
  {
   "cell_type": "code",
   "execution_count": 48,
   "id": "1dab4987-173b-4446-ba4b-e98c5c7cc3ea",
   "metadata": {},
   "outputs": [],
   "source": [
    "import matplotlib.pyplot as plt"
   ]
  },
  {
   "cell_type": "code",
   "execution_count": 49,
   "id": "9447a1d9-862d-4563-b254-ff730404d790",
   "metadata": {},
   "outputs": [
    {
     "data": {
      "text/plain": [
       "<matplotlib.legend.Legend at 0x1b8766ed330>"
      ]
     },
     "execution_count": 49,
     "metadata": {},
     "output_type": "execute_result"
    },
    {
     "data": {
      "image/png": "[encoded data removed]",
      "text/plain": [
       "<Figure size 900x500 with 1 Axes>"
      ]
     },
     "metadata": {},
     "output_type": "display_data"
    }
   ],
   "source": [
    "fig, ax = plt.subplots(figsize = (9,5))\n",
    "ax.plot(t_range,cg_a,'--b', label = 'c_gas')\n",
    "ax.plot(t_range,cw_a,'--r', label = 'c_water')\n",
    "ax.legend()"
   ]
  },
  {
   "cell_type": "markdown",
   "id": "90c01c39-4e63-48aa-86cf-886fd07e472a",
   "metadata": {},
   "source": [
    "Comparing the numerical solution with the analytical solution:"
   ]
  },
  {
   "cell_type": "code",
   "execution_count": 50,
   "id": "0cfd2b93-d334-4ad0-ad7c-4c4d3f575725",
   "metadata": {},
   "outputs": [],
   "source": [
    "cw,cg = sympy.symbols('c_w c_g', real = 'True', positive = 'True')"
   ]
  },
  {
   "cell_type": "code",
   "execution_count": 51,
   "id": "8107fdc9-4e0d-4aea-b96a-39684073b888",
   "metadata": {},
   "outputs": [],
   "source": [
    "dcgdt = (Vw/Vg)*l*(cw-cg/H)"
   ]
  },
  {
   "cell_type": "code",
   "execution_count": 52,
   "id": "b112d99e-dc61-45a5-baba-3367f5144580",
   "metadata": {},
   "outputs": [],
   "source": [
    "dcwdt = l*(cg/H-cw)-k*cw"
   ]
  },
  {
   "cell_type": "code",
   "execution_count": 53,
   "id": "92578cc8-9645-475a-aa78-6d4809b851c8",
   "metadata": {},
   "outputs": [],
   "source": [
    "A = sympy.linear_eq_to_matrix([dcgdt,dcwdt], [cg,cw])[0]"
   ]
  },
  {
   "cell_type": "code",
   "execution_count": 54,
   "id": "3f0fdfa9-099d-40d5-8655-b4e3088c5f0a",
   "metadata": {
    "tags": []
   },
   "outputs": [],
   "source": [
    "A_m = sympy.lambdify([Vw,Vg,l,k,H],A, 'numpy')"
   ]
  },
  {
   "cell_type": "code",
   "execution_count": 56,
   "id": "a4fc8d26-bd8d-4b73-92cf-8380cc77aff5",
   "metadata": {},
   "outputs": [],
   "source": [
    "def f(t, y, Vw,Vg,l,k,H):\n",
    "    dydt = np.dot(A_m(Vw,Vg,l,k,H),y)\n",
    "    return dydt\n",
    "\n",
    "sol = scipy.integrate.solve_ivp(f, (t_range[0],t_range[-1]),np.array([cg0,cw0]),method = 'RK45',t_eval = t_range, args = (1e-3,1e-3,A_v*v/1e-3,1,Henry))"
   ]
  },
  {
   "cell_type": "code",
   "execution_count": 60,
   "id": "0b55ec98-8e7f-4957-a96e-62bc392b7a2d",
   "metadata": {},
   "outputs": [
    {
     "data": {
      "text/plain": [
       "<matplotlib.legend.Legend at 0x1b878cca0b0>"
      ]
     },
     "execution_count": 60,
     "metadata": {},
     "output_type": "execute_result"
    },
    {
     "data": {
      "image/png": "[encoded data removed]",
      "text/plain": [
       "<Figure size 900x500 with 1 Axes>"
      ]
     },
     "metadata": {},
     "output_type": "display_data"
    }
   ],
   "source": [
    "fig, ax = plt.subplots(figsize = (9,5))\n",
    "ax.plot(t_range,sol.y[0,:], '-b', label = 'numerical c_gas')\n",
    "ax.plot(t_range,sol.y[1,:], '-r', label = 'numerical c_water')\n",
    "ax.plot(t_range,cg_a,'-.k', label = 'c_gas')\n",
    "ax.plot(t_range,cw_a,'-.g', label = 'c_water')\n",
    "ax.legend()"
   ]
  },
  {
   "cell_type": "markdown",
   "id": "65433125-adbb-4c48-9f73-ee33bbec81ed",
   "metadata": {},
   "source": [
    "The analytical solution and the numerical solution are essencialy the same for this exercise."
   ]
  },
  {
   "cell_type": "markdown",
   "id": "1d8ee0cb-62b9-4a01-9005-b46dd50372ba",
   "metadata": {},
   "source": [
    "#### 2.b. Removing the decaying ratio:"
   ]
  },
  {
   "cell_type": "code",
   "execution_count": 293,
   "id": "08e8a06e-c1b6-479c-9554-b62a777eb4b7",
   "metadata": {
    "tags": []
   },
   "outputs": [],
   "source": [
    "cw,cg,t,Vw,Vg,l,H,k = sympy.symbols('c_w c_g t V_w V_g lambda H k', real = 'True', positive = 'True')"
   ]
  },
  {
   "cell_type": "code",
   "execution_count": 294,
   "id": "5dfc5c4a-20cc-4465-874d-186b42c4877d",
   "metadata": {},
   "outputs": [],
   "source": [
    "dcgdt = (Vw/Vg)*l*(cw-cg/H)"
   ]
  },
  {
   "cell_type": "code",
   "execution_count": 295,
   "id": "44a2ec1a-ce17-477c-99cd-8a7edf7355fb",
   "metadata": {},
   "outputs": [],
   "source": [
    "dcwdt = l*(cg/H-cw)"
   ]
  },
  {
   "cell_type": "code",
   "execution_count": 296,
   "id": "98ac3749-f70b-4397-a80e-edc942bce68a",
   "metadata": {},
   "outputs": [],
   "source": [
    "A = sympy.linear_eq_to_matrix([dcgdt,dcwdt], [cg,cw])[0]"
   ]
  },
  {
   "cell_type": "code",
   "execution_count": 297,
   "id": "bd2500ef-ec41-4af3-8da5-e703de4bf19a",
   "metadata": {},
   "outputs": [
    {
     "data": {
      "text/latex": [
       "$\\displaystyle \\left[\\begin{matrix}- \\frac{V_{w} \\lambda}{H V_{g}} & \\frac{V_{w} \\lambda}{V_{g}}\\\\\\frac{\\lambda}{H} & - \\lambda\\end{matrix}\\right]$"
      ],
      "text/plain": [
       "Matrix([\n",
       "[-V_w*lambda/(H*V_g), V_w*lambda/V_g],\n",
       "[           lambda/H,        -lambda]])"
      ]
     },
     "execution_count": 297,
     "metadata": {},
     "output_type": "execute_result"
    }
   ],
   "source": [
    "A"
   ]
  },
  {
   "cell_type": "code",
   "execution_count": 298,
   "id": "7281be06-7b90-4b33-a078-b064d1adff11",
   "metadata": {
    "tags": []
   },
   "outputs": [],
   "source": [
    "A_m = sympy.lambdify([Vw,Vg,l,H],A, 'numpy')"
   ]
  },
  {
   "cell_type": "code",
   "execution_count": 299,
   "id": "7aa5026d-300e-43b5-9b5b-dadd8a473a7d",
   "metadata": {
    "tags": []
   },
   "outputs": [],
   "source": [
    "A = A_m(1e-3,1e-3,A_v*v/1e-3,H_function(Kh,8.31446,273.15+25))"
   ]
  },
  {
   "cell_type": "code",
   "execution_count": 300,
   "id": "239adc11-0cca-450d-b481-f0c5ab14b357",
   "metadata": {},
   "outputs": [
    {
     "data": {
      "text/plain": [
       "array([[-53.54545498,  14.4       ],\n",
       "       [ 53.54545498, -14.4       ]])"
      ]
     },
     "execution_count": 300,
     "metadata": {},
     "output_type": "execute_result"
    }
   ],
   "source": [
    "A"
   ]
  },
  {
   "cell_type": "code",
   "execution_count": 307,
   "id": "9b1816a4-0e2a-4ba8-b5d9-8d6876fe72d4",
   "metadata": {},
   "outputs": [],
   "source": [
    "dt = 0.01\n",
    "t_range = np.arange(0,0.3+dt,dt)\n",
    "cg_a = np.zeros(t_range.shape)\n",
    "cw_a =np.zeros(t_range.shape)\n",
    "i = 0\n",
    "for t in t_range:\n",
    "    cg,cw = np.dot(scipy.linalg.expm(A*t),np.array([1.5e-3,0]))\n",
    "    cg_a[i] = cg\n",
    "    cw_a[i] = cw\n",
    "    i+=1"
   ]
  },
  {
   "cell_type": "code",
   "execution_count": 305,
   "id": "7c4e9d68-1471-4bc9-901a-0e4dbc53cc9c",
   "metadata": {},
   "outputs": [],
   "source": [
    "import matplotlib.pyplot as plt"
   ]
  },
  {
   "cell_type": "code",
   "execution_count": 308,
   "id": "47515f0d-9656-4d7a-b32a-ab876379d3d0",
   "metadata": {},
   "outputs": [
    {
     "data": {
      "text/plain": [
       "<matplotlib.legend.Legend at 0x26c8a3d4400>"
      ]
     },
     "execution_count": 308,
     "metadata": {},
     "output_type": "execute_result"
    },
    {
     "data": {
      "image/png": "[encoded data removed]",
      "text/plain": [
       "<Figure size 900x500 with 1 Axes>"
      ]
     },
     "metadata": {},
     "output_type": "display_data"
    }
   ],
   "source": [
    "fig, ax = plt.subplots(figsize = (9,5))\n",
    "ax.plot(t_range,cg_a,'--b', label = 'c_gas')\n",
    "ax.plot(t_range,cw_a,'--r', label = 'c_water')\n",
    "ax.legend()"
   ]
  },
  {
   "cell_type": "markdown",
   "id": "dfa2f1e4-5732-4ff3-87f1-9906c10e5660",
   "metadata": {},
   "source": [
    "Solutions reach equilibrium quickly"
   ]
  },
  {
   "cell_type": "code",
   "execution_count": null,
   "id": "a348a934-f8ec-479f-bd6f-9a979c0d2321",
   "metadata": {},
   "outputs": [],
   "source": []
  }
 ],
 "metadata": {
  "kernelspec": {
   "display_name": "Python 3 (ipykernel)",
   "language": "python",
   "name": "python3"
  },
  "language_info": {
   "codemirror_mode": {
    "name": "ipython",
    "version": 3
   },
   "file_extension": ".py",
   "mimetype": "text/x-python",
   "name": "python",
   "nbconvert_exporter": "python",
   "pygments_lexer": "ipython3",
   "version": "3.10.6"
  }
 },
 "nbformat": 4,
 "nbformat_minor": 5
}
