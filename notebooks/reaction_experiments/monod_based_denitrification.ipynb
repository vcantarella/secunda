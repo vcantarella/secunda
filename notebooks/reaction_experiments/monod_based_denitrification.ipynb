{
 "cells": [
  {
   "cell_type": "markdown",
   "id": "0770e168-5c38-41d2-bf9a-4bad84a58c7b",
   "metadata": {},
   "source": [
    "$$\\require{mhchem}$$\n",
    "# Monod-type denitrification model\n",
    "\n",
    "In this notebook I use the Monod equations proposed by Störiko et al. 2021 and 2022.\n",
    "\n",
    "Reactions (Störiko et al 2021):\n",
    "\n",
    "1. *denitrification 1*: $\\ce{7NO3- + C4H6O4 ->[nar] 7NO2- + 4CO2 + 3H2O}$\n",
    "2. *denitrificantion 2*: $\\ce{14NO2- + 14H+ + 3C4H6O4 ->[nir] 7N2 + 12CO2 + 16H2O}$\n",
    "3. *aerobic respiration*: $\\ce{7O2 + 2C4H6O4 -> 7NO2- + 8CO2 + 6H2O}$\n",
    "---------------\n",
    "In this model, denitrification rates are described by a Monod term:\n",
    "\n",
    "$r_{j} = \\nu_{max}^i B \\frac{C_{j}}{C_{j} + K_{j}} \\frac{I_{reac}^i}{I_{reac}^i + C_{O2}} $\n",
    "\n",
    "for $j \\in (nar, nir)$\n",
    "\n",
    "the aerobic respiration is also described by another monod term:\n",
    "\n",
    "$r_{\\ce{O2}} = \\nu_{\\ce{O2}}^i B \\frac{C_{\\ce{O2}}}{C_{\\ce{O2}} + K_{\\ce{O2}}} \\frac{C_{\\ce{DOC}}}{C_{\\ce{DOC}} + K_{\\ce{DOC}}} $  \n",
    "\n",
    "--------------------\n",
    "DOC consumption is modelled by adding the stoichiometric corrected rates from the denitrification and aerobic oxidation rates:\n",
    "\n",
    "$r_{\\ce{DOC}}^{j} = \\frac{\\gamma_{\\ce{DOC}}^{j}}{\\gamma_{\\ce{A}}^{j}}*r_{j}$\n",
    "\n",
    "for $j \\in (nar, nir, \\ce{O2})$\n",
    "\n",
    "and the full rate is defined by the expression:\n",
    "\n",
    "$r_{DOC} = \\sum_j r_{DOC}^j$\n",
    "\n",
    "DOC release from the sediment contained POC is modelled with the expression:\n",
    "\n",
    "$r_{rel} = k_{rel}^{DOC}*(C_{DOC}^{sat}- C_{DOC}) $\n",
    "\n",
    "The final expression for change in $\\ce{DOC}$ is then:\n",
    "\n",
    "$\\frac{d[DOC]}{dt} = r_{rel} - r_{DOC} $\n",
    "\n",
    "---------------------\n",
    "\n",
    "Bacterial growth is represented by the following reaction:\n",
    "\n",
    "$\\ce{3C4H6O4 + 2NH4+ -> C10H18O5N2 + 2CO2 + 3H2O + 2H+}$\n",
    "\n",
    "$\\ce{NH4+}$ is assumed non limiting. Thus biological growth is modelled with the following expression:\n",
    "\n",
    "$r_{growth}^{i} = Y_i*r_{DOC}^i$ \n",
    "\n",
    "And the specific yield of each consumption reaction is modelled by a logistic function assuming a maximum bacterial growth:\n",
    "\n",
    "$Y_i = Y_{i,max}*\\left(1-\\frac{B}{B_{max}}\\right)$\n",
    "\n",
    "Bacterial decay modelled with first order rate:\n",
    "\n",
    "$r_{dec} = k_{dec}*B$\n",
    "\n",
    "The final expression for bacterial density change is:\n",
    "\n",
    "$ \\frac{dB}{dt} = \\sum_i r_{growth}^{i} - r_{dec}$"
   ]
  },
  {
   "cell_type": "markdown",
   "id": "8a0b7522-6a0e-4d4d-a9b3-fd2b47e50e2c",
   "metadata": {},
   "source": [
    "#### importing libraries"
   ]
  },
  {
   "cell_type": "code",
   "execution_count": 1,
   "id": "48986227-26c1-4a07-a716-5d69aadc1879",
   "metadata": {},
   "outputs": [],
   "source": [
    "import os\n",
    "import numpy as np\n",
    "import scipy\n",
    "import sunode\n",
    "import matplotlib.pyplot as plt"
   ]
  },
  {
   "cell_type": "markdown",
   "id": "d2df2c4c-e188-4979-a6ed-65f56d67ea72",
   "metadata": {},
   "source": [
    "## Define the RHS\n"
   ]
  },
  {
   "cell_type": "code",
   "execution_count": 2,
   "id": "9f35203d-3cdc-4d97-9c11-4d06f12b4370",
   "metadata": {},
   "outputs": [],
   "source": [
    "def rhs(t, y, p):\n",
    "    # Enzime rates:\n",
    "    r_nar = p.nu_no3*y.B*y.no3/(y.no3+p.Kno3)*(p.Ino3/(p.Ino3+y.o2))\n",
    "    r_nir = p.nu_no2*y.B*y.no2/(y.no2+p.Kno2)*(p.Ino2/(p.Ino2+y.o2))\n",
    "    # Nitrate and nitrite rates:\n",
    "    dno3dt = -r_nar\n",
    "    dno2dt = r_nar-r_nir\n",
    "    #O2 rate\n",
    "    do2dt = -p.nu_o2*y.B*y.o2/(y.o2+p.Ko2)*(y.doc/(y.doc+p.Kdoc))\n",
    "    #DOC rate\n",
    "    ddocdt = -(1/7)*r_nar+(-(3/14)*r_nir)+(-(2/7)*do2dt)+p.k_rel*(p.c_sat-y.doc)\n",
    "    # B rate:\n",
    "    Y_nar = p.Y_narmax*(1-y.B/p.Bmax) \n",
    "    Y_nir = p.Y_nirmax*(1-y.B/p.Bmax)\n",
    "    Y_o2 = p.Y_o2max*(1-y.B/p.Bmax)\n",
    "    dBdt = (1/7)*r_nar*Y_nar + (3/14)*r_nir*Y_nir + (2/7)*do2dt*Y_o2 -p.k_dec*y.B\n",
    "    return np.array([dno3dt,dno2dt,do2dt,ddocdt,dBdt]) #rhs form\n",
    "    "
   ]
  },
  {
   "cell_type": "markdown",
   "id": "1a8993fb-5bf2-450b-a7f3-8fdf6444a46d",
   "metadata": {},
   "source": [
    "# Define the Transport Model"
   ]
  },
  {
   "cell_type": "markdown",
   "id": "dbc56710-3c04-4431-af6f-eef5646a01e2",
   "metadata": {},
   "source": [
    "The model we use the is an implicit model in time and discretized in space that solved internally with an ODE solver from scipy (odeint).\n",
    "To run the model, first we must define the parameters."
   ]
  },
  {
   "cell_type": "markdown",
   "id": "896993a7-bdbd-4bc3-9157-401c0076451e",
   "metadata": {},
   "source": [
    "## Parameters\n",
    "\n",
    "We define a dictionary will all the static parameters"
   ]
  },
  {
   "cell_type": "code",
   "execution_count": 3,
   "id": "c3415651-1b32-4106-b55f-2622f4104e3a",
   "metadata": {},
   "outputs": [],
   "source": [
    "parameters = {}"
   ]
  },
  {
   "cell_type": "markdown",
   "id": "8d3da936-3522-4d01-bee4-982f0bb334c9",
   "metadata": {},
   "source": [
    "#### transport parameters"
   ]
  },
  {
   "cell_type": "code",
   "execution_count": 4,
   "id": "ae35cadf-37da-4a76-b6e1-55f0d7c2327d",
   "metadata": {},
   "outputs": [
    {
     "data": {
      "text/plain": [
       "109"
      ]
     },
     "execution_count": 4,
     "metadata": {},
     "output_type": "execute_result"
    }
   ],
   "source": [
    "parameters['length'] = 0.4 #m\n",
    "parameters['D'] = np.array([3e-8,3e-8,3e-8,3e-8])\n",
    "parameters['alpha_l'] = 7e-3\n",
    "v = 1e-6\n",
    "ncells = np.ceil(parameters['length']*v/(0.1*(np.min(parameters['D'])+parameters['alpha_l']*v)))\n",
    "ncells = int(ncells)\n",
    "parameters['ncells'] = ncells\n",
    "ncells\n"
   ]
  },
  {
   "cell_type": "markdown",
   "id": "684fdd2e-f377-4c4e-b239-a9f9b82a75a0",
   "metadata": {},
   "source": [
    "#### NO3 reaction parameters"
   ]
  },
  {
   "cell_type": "code",
   "execution_count": 5,
   "id": "41a58d93-c862-4bca-a783-8f7b6188d77d",
   "metadata": {},
   "outputs": [],
   "source": [
    "nu_no3 = 7.1e-17 #mols/cells*s\n",
    "K_no3 = 5e-6 #M\n",
    "K_doc_3 = 40e-6 #M\n",
    "I_o2_3 = 5.9e-8 #M\n",
    "no3_args = (nu_no3,K_no3,K_doc_3,I_o2_3)"
   ]
  },
  {
   "cell_type": "code",
   "execution_count": 6,
   "id": "877abb43-4dc4-4cec-a97d-c694686d476f",
   "metadata": {},
   "outputs": [],
   "source": [
    "parameters['no3_args'] = no3_args"
   ]
  },
  {
   "cell_type": "markdown",
   "id": "8ede490d-d1ae-4821-b752-7d5ef0b2849b",
   "metadata": {},
   "source": [
    "#### NO2 reaction parameters"
   ]
  },
  {
   "cell_type": "code",
   "execution_count": 7,
   "id": "d2502f39-176a-4a95-ad32-d1b606abeaa5",
   "metadata": {},
   "outputs": [],
   "source": [
    "nu_no2 = 4.8e-17 #mols/cells*s\n",
    "K_no2 = 5e-6 #M\n",
    "K_doc_2 = 40e-6 #M\n",
    "I_o2_2 = 5.1e-8 #M\n",
    "no2_args = (nu_no2,K_no2,K_doc_2,I_o2_2)"
   ]
  },
  {
   "cell_type": "code",
   "execution_count": 8,
   "id": "4df447f1-59a0-42b6-8b26-d4080ccd3921",
   "metadata": {},
   "outputs": [],
   "source": [
    "parameters['no2_args'] = no2_args"
   ]
  },
  {
   "cell_type": "markdown",
   "id": "959540cf-4d7d-47d8-af8a-4f1097978364",
   "metadata": {},
   "source": [
    "#### O2 reaction parameters"
   ]
  },
  {
   "cell_type": "code",
   "execution_count": 9,
   "id": "3d74b338-21e9-4e68-a70a-8e294ed38365",
   "metadata": {},
   "outputs": [],
   "source": [
    "nu_o2 = 6.4e-17 #mols/cells*s\n",
    "K_o2_o = 3.1e-5\n",
    "K_doc_o = 40e-6\n",
    "o2_args = (nu_o2,K_o2_o,K_doc_o)"
   ]
  },
  {
   "cell_type": "code",
   "execution_count": 10,
   "id": "c681da62-5589-4056-94ea-b3be86bc8f6c",
   "metadata": {},
   "outputs": [],
   "source": [
    "parameters['o2_args'] = o2_args"
   ]
  },
  {
   "cell_type": "markdown",
   "id": "91467660-3bbe-49ba-893d-24628dedb77b",
   "metadata": {},
   "source": [
    "#### DOC reaction parameters"
   ]
  },
  {
   "cell_type": "code",
   "execution_count": 11,
   "id": "443ab959-9a06-45d8-a779-a35e033f7677",
   "metadata": {},
   "outputs": [],
   "source": [
    "K_rel = 0.2/(3600*24) #s-1\n",
    "C_sat = 20.8e-3 #mol/L\n",
    "doc_args = (K_rel, C_sat)"
   ]
  },
  {
   "cell_type": "code",
   "execution_count": 12,
   "id": "bae27539-2af5-4237-a8a6-d6a71a570f35",
   "metadata": {},
   "outputs": [],
   "source": [
    "parameters['doc_args'] = doc_args"
   ]
  },
  {
   "cell_type": "markdown",
   "id": "f5a6fb4c-4057-4590-b9d0-997b8bdff182",
   "metadata": {},
   "source": [
    "#### B reaction parameters"
   ]
  },
  {
   "cell_type": "code",
   "execution_count": 13,
   "id": "e9825808-f583-4bbe-b4af-3218141e334f",
   "metadata": {},
   "outputs": [],
   "source": [
    "Y_max = np.array([2.6e13,1.6e13,7.7e13])\n",
    "K_dec = 1e-12\n",
    "B_max = 3.3e11\n",
    "B_args = (Y_max,K_dec,B_max)"
   ]
  },
  {
   "cell_type": "code",
   "execution_count": 14,
   "id": "ee73ca4f-2313-4b91-8e90-7e7fbab83328",
   "metadata": {},
   "outputs": [],
   "source": [
    "parameters['B_args'] = B_args"
   ]
  },
  {
   "cell_type": "markdown",
   "id": "dd427569-0791-4f08-8dcc-2d97b0876cd3",
   "metadata": {},
   "source": [
    "### Stress Periods\n",
    "\n",
    "We define the stress period as the period with constant boundary values it is organized in a list with the time start of each boundary condition and the boundary values of such stress period"
   ]
  },
  {
   "cell_type": "code",
   "execution_count": 15,
   "id": "98db3640-c25e-424c-9e6b-70c4046707be",
   "metadata": {},
   "outputs": [],
   "source": [
    "tchange = np.array([0,3600*4,3600*12])\n",
    "c_in_array = np.array([[0.6,0.03,1e-7,0.1],[0.6,0.03,1e-7,0.1],[0.6,0.03,0.02,0.1]])\n",
    "v_in = np.array([v,v,v])"
   ]
  },
  {
   "cell_type": "code",
   "execution_count": 16,
   "id": "da8e205c-1d25-4aa8-a12a-187f076bb061",
   "metadata": {},
   "outputs": [
    {
     "data": {
      "text/plain": [
       "1e-06"
      ]
     },
     "execution_count": 16,
     "metadata": {},
     "output_type": "execute_result"
    }
   ],
   "source": [
    "v_in[0]"
   ]
  },
  {
   "cell_type": "code",
   "execution_count": 17,
   "id": "dcfe7f72-13ae-49fc-a007-c687548b5771",
   "metadata": {},
   "outputs": [],
   "source": [
    "stress_periods = [tchange, c_in_array, v_in]"
   ]
  },
  {
   "cell_type": "markdown",
   "id": "35df0f81-538e-4f2d-93c7-9efd28dd4726",
   "metadata": {},
   "source": [
    "### Running model"
   ]
  },
  {
   "cell_type": "code",
   "execution_count": 18,
   "id": "6858c248-ee40-4106-9a73-920f3114c82c",
   "metadata": {},
   "outputs": [],
   "source": [
    "import sys\n",
    "sys.path.append('../../')"
   ]
  },
  {
   "cell_type": "markdown",
   "id": "0b57113e-d81b-4343-b51a-2c8aa4015f57",
   "metadata": {},
   "source": [
    "importing the model:"
   ]
  },
  {
   "cell_type": "code",
   "execution_count": 19,
   "id": "3856f063-842c-45d2-9a3e-e7eacf562927",
   "metadata": {},
   "outputs": [],
   "source": [
    "from src.models.storiko_model import column_model_storiko"
   ]
  },
  {
   "cell_type": "code",
   "execution_count": 20,
   "id": "ad4f6bce-f065-4e46-ba08-cf1fd70714c9",
   "metadata": {},
   "outputs": [],
   "source": [
    "time_intervals = np.arange(0, 3600*250+600, 600)"
   ]
  },
  {
   "cell_type": "code",
   "execution_count": 21,
   "id": "2b3949b8-8175-47c2-a58d-b25ff2535646",
   "metadata": {},
   "outputs": [
    {
     "data": {
      "text/plain": [
       "10.000000000000002"
      ]
     },
     "execution_count": 21,
     "metadata": {},
     "output_type": "execute_result"
    }
   ],
   "source": [
    "np.exp(np.log(10))"
   ]
  },
  {
   "cell_type": "code",
   "execution_count": 22,
   "id": "80c6a892-6318-49fa-8db7-ad0c5f6e2c70",
   "metadata": {},
   "outputs": [
    {
     "name": "stderr",
     "output_type": "stream",
     "text": [
      "C:\\Users\\Vitor Cantarella\\OneDrive\\Kassel\\secunda\\notebooks\\reaction_experiments\\../..\\src\\models\\storiko_model.py:43: RuntimeWarning: invalid value encountered in log\n",
      "  r = nu_nox*B*np.exp(np.log(C_nox)-np.log(C_nox+K_nox))*np.exp(np.log(C_doc)-np.log(C_doc+K_doc))*np.exp(np.log(I_o2)-np.log(I_o2+C_o2))\n",
      "C:\\Users\\Vitor Cantarella\\miniconda3\\envs\\nitrogene-env\\lib\\site-packages\\scipy\\integrate\\_odepack_py.py:247: ODEintWarning: Excess accuracy requested (tolerances too small). Run with full_output = 1 to get quantitative information.\n",
      "  warnings.warn(warning_msg, ODEintWarning)\n",
      "C:\\Users\\Vitor Cantarella\\OneDrive\\Kassel\\secunda\\notebooks\\reaction_experiments\\../..\\src\\models\\storiko_model.py:43: RuntimeWarning: divide by zero encountered in log\n",
      "  r = nu_nox*B*np.exp(np.log(C_nox)-np.log(C_nox+K_nox))*np.exp(np.log(C_doc)-np.log(C_doc+K_doc))*np.exp(np.log(I_o2)-np.log(I_o2+C_o2))\n",
      "C:\\Users\\Vitor Cantarella\\OneDrive\\Kassel\\secunda\\notebooks\\reaction_experiments\\../..\\src\\models\\storiko_model.py:53: RuntimeWarning: divide by zero encountered in log\n",
      "  r = nu_o2*B*np.exp(np.log(C_o2)-np.log(C_o2+K_o2))*np.exp(np.log(C_doc)-np.log(C_doc+K_doc))\n"
     ]
    }
   ],
   "source": [
    "sol = column_model_storiko(stress_periods, parameters, time_intervals, hmax = (parameters['length']/parameters['ncells'])**2/(8*(parameters['D'][0]+parameters['alpha_l']*v)))"
   ]
  },
  {
   "cell_type": "markdown",
   "id": "c4db9cb8-be43-4a0a-9680-37d1a999a77e",
   "metadata": {},
   "source": [
    "### Analytical solution:"
   ]
  },
  {
   "cell_type": "code",
   "execution_count": 23,
   "id": "ac362eb4-0ad4-49c6-8c78-94109519ff90",
   "metadata": {},
   "outputs": [],
   "source": [
    "def analytical(t,c_in,L,v,Dl,R):\n",
    "    c = (c_in/2)*(scipy.special.erfc((L-v*t/R)/(np.sqrt(4*Dl*t/R)))+np.exp(np.exp(np.log(v*L)-np.log(Dl)))*\n",
    "                  scipy.special.erfc(np.exp(np.log(L+v*t/R)-np.log(np.sqrt(4*Dl*t/R)))))\n",
    "    return c"
   ]
  },
  {
   "cell_type": "code",
   "execution_count": 24,
   "id": "cf31da07-4760-4dc4-ad4d-e28d129fb71e",
   "metadata": {},
   "outputs": [
    {
     "name": "stderr",
     "output_type": "stream",
     "text": [
      "C:\\Users\\Vitor Cantarella\\AppData\\Local\\Temp\\ipykernel_12484\\1861471515.py:2: RuntimeWarning: divide by zero encountered in double_scalars\n",
      "  c = (c_in/2)*(scipy.special.erfc((L-v*t/R)/(np.sqrt(4*Dl*t/R)))+np.exp(np.exp(np.log(v*L)-np.log(Dl)))*\n",
      "C:\\Users\\Vitor Cantarella\\AppData\\Local\\Temp\\ipykernel_12484\\1861471515.py:3: RuntimeWarning: divide by zero encountered in log\n",
      "  scipy.special.erfc(np.exp(np.log(L+v*t/R)-np.log(np.sqrt(4*Dl*t/R)))))\n"
     ]
    }
   ],
   "source": [
    "c_out_ana = np.zeros(time_intervals.shape)\n",
    "Dl = parameters['D'][0]+v*parameters['alpha_l']\n",
    "R = 1\n",
    "for i in range(time_intervals.shape[0]):\n",
    "    c_out_ana[i] = analytical(time_intervals[i],c_in_array[0,0],parameters['length'],v,Dl,R) \n",
    "    "
   ]
  },
  {
   "cell_type": "code",
   "execution_count": 25,
   "id": "eddfceee-7b74-449b-b7c4-d487a189e3a0",
   "metadata": {},
   "outputs": [],
   "source": [
    "def f(t,y,deltax,\n",
    "      D,\n",
    "      alpha_l,\n",
    "      v,\n",
    "      c_in):\n",
    "    \n",
    "    mixf = (D + v*alpha_l)/deltax**2\n",
    "    \n",
    "    r = np.zeros(y.shape[0])\n",
    "    c_0half = y[1]/4-c_in/2+5*y[0]/4\n",
    "    \n",
    "    r[0] = -v*(y[0]-c_in)/(deltax/2) + (-mixf)*y[0] + mixf*y[1]\n",
    "    \n",
    "    #Update the middle_portion\n",
    "    sliding_window = np.lib.stride_tricks.sliding_window_view(y, (3))\n",
    "    kernel = np.array([mixf, -2*mixf, mixf])\n",
    "    r[1:-1] = np.dot(sliding_window,kernel)\n",
    "    #Update the last cell:\n",
    "    r[-1] = mixf*y[-1-1] + (-mixf)*y[-1]\n",
    "    r[1:-1] = r[1:-1]-v*(np.roll(y,-1)[1:-1]-np.roll(y,1)[1:-1])/(2*deltax)\n",
    "    r[-1] = r[-1]-v*(y[-1]-y[-2])/deltax\n",
    "    return r\n",
    "    \n"
   ]
  },
  {
   "cell_type": "code",
   "execution_count": 26,
   "id": "c3813d22-45d9-4831-b08e-d132d3502cff",
   "metadata": {},
   "outputs": [],
   "source": [
    "def jacob(t, y, deltax,D,alpha_l,v,c_in):\n",
    "    mixf = (D + v*alpha_l)/deltax**2\n",
    "    adv_step = v/deltax\n",
    "    size = y.shape[0]\n",
    "    j = np.zeros((size,size))\n",
    "    j[0,0] = -v/(deltax/2)-mixf\n",
    "    j[0,1] = mixf\n",
    "    for i in range(1,size-1):\n",
    "        j[i,i-1] = -v/(2*deltax) + mixf\n",
    "        j[i,i] = -2*mixf\n",
    "        j[i,i+1] = v/(2*deltax) + mixf\n",
    "    j[size-1,size-2] = v/deltax + mixf\n",
    "    j[size-1,size-1] = -v/deltax - mixf\n",
    "    return j"
   ]
  },
  {
   "cell_type": "markdown",
   "id": "f08ad4c3-e30a-4001-b1f7-679444074b69",
   "metadata": {},
   "source": [
    "### Coupled ODESolver approach"
   ]
  },
  {
   "cell_type": "markdown",
   "id": "a2f737eb-6703-40a3-bff9-93b24709a758",
   "metadata": {},
   "source": [
    "This process is not mature yet, however we can get an accurate result with a very large number of cells."
   ]
  },
  {
   "cell_type": "code",
   "execution_count": 27,
   "id": "809d7042-3a56-4ffb-818d-e1df3fa2fe56",
   "metadata": {
    "tags": []
   },
   "outputs": [
    {
     "data": {
      "text/plain": [
       "array([1.e-11, 1.e-11, 1.e-11, 1.e-11, 1.e-11, 1.e-11, 1.e-11, 1.e-11,\n",
       "       1.e-11, 1.e-11, 1.e-11, 1.e-11, 1.e-11, 1.e-11, 1.e-11, 1.e-11,\n",
       "       1.e-11, 1.e-11, 1.e-11, 1.e-11, 1.e-11, 1.e-11, 1.e-11, 1.e-11,\n",
       "       1.e-11, 1.e-11, 1.e-11, 1.e-11, 1.e-11, 1.e-11, 1.e-11, 1.e-11,\n",
       "       1.e-11, 1.e-11, 1.e-11, 1.e-11, 1.e-11, 1.e-11, 1.e-11, 1.e-11,\n",
       "       1.e-11, 1.e-11, 1.e-11, 1.e-11, 1.e-11, 1.e-11, 1.e-11, 1.e-11,\n",
       "       1.e-11, 1.e-11, 1.e-11, 1.e-11, 1.e-11, 1.e-11, 1.e-11, 1.e-11,\n",
       "       1.e-11, 1.e-11, 1.e-11, 1.e-11, 1.e-11, 1.e-11, 1.e-11, 1.e-11,\n",
       "       1.e-11, 1.e-11, 1.e-11, 1.e-11, 1.e-11, 1.e-11, 1.e-11, 1.e-11,\n",
       "       1.e-11, 1.e-11, 1.e-11, 1.e-11, 1.e-11, 1.e-11, 1.e-11, 1.e-11,\n",
       "       1.e-11, 1.e-11, 1.e-11, 1.e-11, 1.e-11, 1.e-11, 1.e-11, 1.e-11,\n",
       "       1.e-11, 1.e-11, 1.e-11, 1.e-11, 1.e-11, 1.e-11, 1.e-11, 1.e-11,\n",
       "       1.e-11, 1.e-11, 1.e-11, 1.e-11, 1.e-11, 1.e-11, 1.e-11, 1.e-11,\n",
       "       1.e-11, 1.e-11, 1.e-11, 1.e-11, 1.e-11])"
      ]
     },
     "execution_count": 27,
     "metadata": {},
     "output_type": "execute_result"
    }
   ],
   "source": [
    "n_cells = parameters['ncells']\n",
    "deltax = parameters['length']/parameters['ncells']\n",
    "y0 = np.repeat(1e-11,n_cells)\n",
    "y0"
   ]
  },
  {
   "cell_type": "code",
   "execution_count": 28,
   "id": "f14a3e95-ca56-4bb5-9876-5285786f6cef",
   "metadata": {},
   "outputs": [],
   "source": [
    "mixf = (parameters['D'][0]+v*parameters['alpha_l'])/deltax**2\n",
    "r = np.zeros(y0.shape[0])"
   ]
  },
  {
   "cell_type": "code",
   "execution_count": 29,
   "id": "f52dd822-6ba2-4665-998b-86090b060611",
   "metadata": {},
   "outputs": [],
   "source": [
    "c_ode, outp = scipy.integrate.odeint(f,y0,time_intervals,args = (deltax,parameters['D'][0],parameters['alpha_l'],v,c_in_array[0,0]), \n",
    "                                     Dfun = jacob,\n",
    "                                     tfirst = True,\n",
    "                                     #hmax = 0.1*deltax**2/(3*(parameters['D'][0]+v*parameters['alpha_l'])),\n",
    "                                     atol = 1e-13, rtol = 1e-13, full_output = 1)"
   ]
  },
  {
   "cell_type": "markdown",
   "id": "4c0810c7-f4b2-43b6-86be-11414fff7507",
   "metadata": {},
   "source": [
    "### Trying with the Sunode solver."
   ]
  },
  {
   "cell_type": "markdown",
   "id": "aa8a8d5d-0ad8-4ee3-a660-4b8941f9b5e1",
   "metadata": {},
   "source": [
    "Now I have to declare the parameters as a params dictionary:"
   ]
  },
  {
   "cell_type": "code",
   "execution_count": 30,
   "id": "2dee54fc-c833-4ce0-89f7-d36f1111d5b2",
   "metadata": {},
   "outputs": [],
   "source": [
    "params = {\n",
    "    'deltax' : (),\n",
    "    'D': (),\n",
    "    'alpha_l': (),\n",
    "    'v': (),\n",
    "    'c_in': (),\n",
    "    }"
   ]
  },
  {
   "cell_type": "code",
   "execution_count": 31,
   "id": "a8469dd5-ac3b-401f-b133-b62d7726ce28",
   "metadata": {},
   "outputs": [],
   "source": [
    "states = {\n",
    "    'c': y0.shape\n",
    "    }"
   ]
  },
  {
   "cell_type": "code",
   "execution_count": 32,
   "id": "848c2f0e-9c2b-4ad9-8aaa-725683124dc3",
   "metadata": {},
   "outputs": [],
   "source": [
    "import sympy as sp"
   ]
  },
  {
   "cell_type": "code",
   "execution_count": 33,
   "id": "5e4e189f-14dd-49f1-bcb4-76b0727fcb0d",
   "metadata": {},
   "outputs": [],
   "source": [
    "M = sp.zeros(y0.shape[0],1)"
   ]
  },
  {
   "cell_type": "code",
   "execution_count": 34,
   "id": "864116ec-9a64-4aa4-8897-4da6f41a71e1",
   "metadata": {
    "tags": []
   },
   "outputs": [],
   "source": [
    "def sun_f(t,y,p):\n",
    "    \n",
    "    mixf = (p.D + p.v*p.alpha_l)/p.deltax**2\n",
    "    \n",
    "    r = sp.zeros(y.c.shape[0],1)\n",
    "    \n",
    "    \n",
    "    r[0] = -p.v*(y.c[0]-p.c_in)/(p.deltax/2) + (-mixf)*y.c[0] + mixf*y.c[1]\n",
    "    \n",
    "    #Update the middle_portion\n",
    "    for i in range(1,y.c.shape[0]-1):\n",
    "        r[i] = r[i] + mixf*y.c[i-1] - 2*mixf*y.c[i] + mixf*y.c[i+1]\n",
    "    #sliding_window = np.lib.stride_tricks.sliding_window_view(y.c, (3))\n",
    "    #kernel = np.array([mixf, -2*mixf, mixf])\n",
    "    #r[1:-1] = np.dot(sliding_window,kernel)\n",
    "    #Update the last cell:\n",
    "    r[-1] = mixf*y.c[-1-1] + (-mixf)*y.c[-1]\n",
    "    for i in range(1,y.c.shape[0]-1):\n",
    "        r[i] = r[i] -p.v*(y.c[i+1] - y.c[i-1])/(2*p.deltax)\n",
    "    #r[1:-1] = r[1:-1]-p.v*(np.roll(y.c,-1)[1:-1]-np.roll(y.c,1)[1:-1])/(2*p.deltax)\n",
    "    r[-1] = r[-1]-p.v*(y.c[-1]-y.c[-2])/p.deltax\n",
    "    r = list(r)\n",
    "    return {'dcdt' : r}"
   ]
  },
  {
   "cell_type": "code",
   "execution_count": 35,
   "id": "3e197964-487a-49f4-bb32-3a5f3332dc93",
   "metadata": {},
   "outputs": [],
   "source": [
    "import sunode"
   ]
  },
  {
   "cell_type": "markdown",
   "id": "b3ab9993-09ba-4b2c-9a8f-0cbdf7c2eca8",
   "metadata": {},
   "source": [
    "#### Plotting and comparing solutions:"
   ]
  },
  {
   "cell_type": "code",
   "execution_count": 36,
   "id": "b5d5cd74-f448-4eef-a6c3-aabc553f24e4",
   "metadata": {},
   "outputs": [],
   "source": [
    "plot_time = time_intervals/3600"
   ]
  },
  {
   "cell_type": "code",
   "execution_count": 37,
   "id": "e4af3c0f-7b7f-496c-8c50-a6bbcde31e88",
   "metadata": {},
   "outputs": [
    {
     "data": {
      "text/plain": [
       "Text(0, 0.5, '[C3H6O2] [$mol/L$]')"
      ]
     },
     "execution_count": 37,
     "metadata": {},
     "output_type": "execute_result"
    },
    {
     "data": {
      "image/png": "[encoded data removed]",
      "text/plain": [
       "<Figure size 700x400 with 1 Axes>"
      ]
     },
     "metadata": {},
     "output_type": "display_data"
    }
   ],
   "source": [
    "fig = plt.figure(figsize = (7,4))\n",
    "ax = fig.add_subplot(111)\n",
    "ax.plot(plot_time,sol[:,0],'--k', label = 'NO3')\n",
    "ax.plot(plot_time[::50],c_out_ana[::50], 'Dr', label = 'analytical solution')\n",
    "ax.plot(plot_time,c_ode[:,-1],'-.k', label = 'remodel')\n",
    "#ax.set_xlim([0,6])\n",
    "ax.legend()\n",
    "ax.set_xlabel('time [hr]')\n",
    "ax.set_ylabel(r'[C3H6O2] [$mol/L$]')"
   ]
  },
  {
   "cell_type": "code",
   "execution_count": 45,
   "id": "40a8a2d3-0841-43b0-b96a-396770f4e878",
   "metadata": {},
   "outputs": [
    {
     "data": {
      "text/plain": [
       "Text(0, 0.5, '[C3H6O2] [$mol/L$]')"
      ]
     },
     "execution_count": 45,
     "metadata": {},
     "output_type": "execute_result"
    },
    {
     "data": {
      "image/png": "[encoded data removed]",
      "text/plain": [
       "<Figure size 700x400 with 1 Axes>"
      ]
     },
     "metadata": {},
     "output_type": "display_data"
    }
   ],
   "source": [
    "fig = plt.figure(figsize = (7,4))\n",
    "ax = fig.add_subplot(111)\n",
    "ax.plot(plot_time,sol[:,0],'--k', label = 'NO3')\n",
    "#ax.plot(plot_time[::50],c_out_ana[::50], 'Dr', label = 'analytical solution')\n",
    "#ax.plot(plot_time,c_ode[:,-1],'-.k', label = 'remodel')\n",
    "#ax.set_xlim([0,6])\n",
    "ax.legend()\n",
    "ax.set_xlabel('time [hr]')\n",
    "ax.set_ylabel(r'[C3H6O2] [$mol/L$]')"
   ]
  },
  {
   "cell_type": "code",
   "execution_count": 47,
   "id": "ae4741bb-be46-4b5e-aaf6-61fbab96520c",
   "metadata": {},
   "outputs": [
    {
     "data": {
      "text/plain": [
       "array([2.11270304e-28, 1.52721457e-27, 9.83824468e-27, 5.70265863e-26,\n",
       "       2.99992840e-25, 1.44329909e-24, 6.39453879e-24, 2.62521998e-23,\n",
       "       1.00429000e-22, 3.59825251e-22, 1.21300015e-21, 3.86352206e-21,\n",
       "       1.16711705e-20, 3.35556682e-20, 9.21130360e-20, 2.42129830e-19,\n",
       "       6.11100093e-19, 1.48451658e-18, 3.47899710e-18, 7.88190358e-18,\n",
       "       1.72965340e-17, 3.68313993e-17, 7.62310592e-17, 1.53593165e-16,\n",
       "       3.01691013e-16, 5.78474833e-16, 1.08412578e-15, 1.98816846e-15,\n",
       "       3.57171551e-15, 6.29204658e-15, 1.08795613e-14, 1.84808612e-14,\n",
       "       3.08664974e-14, 5.07279816e-14, 8.20962118e-14, 1.30922758e-13,\n",
       "       2.05876703e-13, 3.19423196e-13, 4.89265741e-13, 7.40252753e-13,\n",
       "       1.10687018e-12, 1.63646620e-12, 2.39338122e-12, 3.46418660e-12,\n",
       "       4.96426886e-12, 7.04603209e-12, 9.90903037e-12, 1.38123835e-11,\n",
       "       1.90898705e-11, 2.61681477e-11])"
      ]
     },
     "execution_count": 47,
     "metadata": {},
     "output_type": "execute_result"
    }
   ],
   "source": [
    "sol[50:100,1]"
   ]
  },
  {
   "cell_type": "code",
   "execution_count": 40,
   "id": "69b54859-d29b-4e94-99e3-a00464eb0a74",
   "metadata": {},
   "outputs": [],
   "source": [
    "def r_nox_monod(nu_nox,K_nox,K_doc,I_o2,C_nox,C_doc,C_o2,B):\n",
    "    '''\n",
    "    monod type rate for denitrification. Valid for NO3 and NO2 denitrification rates See Störiko 2021, and 2022.\n",
    "    '''\n",
    "        \n",
    "    r = nu_nox*B*np.exp(np.log(C_nox)-np.log(C_nox+K_nox))*np.exp(np.log(C_doc)-np.log(C_doc+K_doc))*np.exp(np.log(I_o2)-np.log(I_o2+C_o2))\n",
    "    return r"
   ]
  },
  {
   "cell_type": "code",
   "execution_count": 41,
   "id": "0d7c5b83-7af5-4aee-aab5-e6ab365f11a9",
   "metadata": {},
   "outputs": [
    {
     "data": {
      "text/plain": [
       "3.045376981148864e-06"
      ]
     },
     "execution_count": 41,
     "metadata": {},
     "output_type": "execute_result"
    }
   ],
   "source": [
    "r_nox_monod(nu_no3,K_no3,K_doc_3,I_o2_3,sol[0,0],sol[0,3],sol[0,2],sol[0,4])*Y_max[0]"
   ]
  },
  {
   "cell_type": "code",
   "execution_count": 42,
   "id": "894070b6-4043-451c-b8bd-cf45eb49b9a6",
   "metadata": {},
   "outputs": [
    {
     "data": {
      "text/plain": [
       "0.0033"
      ]
     },
     "execution_count": 42,
     "metadata": {},
     "output_type": "execute_result"
    }
   ],
   "source": [
    "K_dec*sol[0,4]"
   ]
  }
 ],
 "metadata": {
  "kernelspec": {
   "display_name": "Python 3 (ipykernel)",
   "language": "python",
   "name": "python3"
  },
  "language_info": {
   "codemirror_mode": {
    "name": "ipython",
    "version": 3
   },
   "file_extension": ".py",
   "mimetype": "text/x-python",
   "name": "python",
   "nbconvert_exporter": "python",
   "pygments_lexer": "ipython3",
   "version": "3.10.8"
  }
 },
 "nbformat": 4,
 "nbformat_minor": 5
}
