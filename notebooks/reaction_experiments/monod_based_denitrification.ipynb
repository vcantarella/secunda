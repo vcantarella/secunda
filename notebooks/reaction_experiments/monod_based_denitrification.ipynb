{
 "cells": [
  {
   "cell_type": "markdown",
   "id": "0770e168-5c38-41d2-bf9a-4bad84a58c7b",
   "metadata": {},
   "source": [
    "$$\\require{mhchem}$$\n",
    "# Monod-type denitrification model\n",
    "\n",
    "In this notebook I use the Monod equations proposed by Störiko et al. 2021 and 2022.\n",
    "\n",
    "Reactions (Störiko et al 2021):\n",
    "\n",
    "1. *denitrification 1*: $\\ce{7NO3- + C4H6O4 ->[nar] 7NO2- + 4CO2 + 3H2O}$\n",
    "2. *denitrificantion 2*: $\\ce{14NO2- + 14H+ + 3C4H6O4 ->[nir] 7N2 + 12CO2 + 16H2O}$\n",
    "3. *aerobic respiration*: $\\ce{7O2 + 2C4H6O4 -> 7NO2- + 8CO2 + 6H2O}$\n",
    "---------------\n",
    "In this model, denitrification rates are described by a Monod term:\n",
    "\n",
    "$r_{j} = \\nu_{max}^i B \\frac{C_{j}}{C_{j} + K_{j}} \\frac{I_{reac}^i}{I_{reac}^i + C_{O2}} $\n",
    "\n",
    "for $j \\in (nar, nir)$\n",
    "\n",
    "the aerobic respiration is also described by another monod term:\n",
    "\n",
    "$r_{\\ce{O2}} = \\nu_{\\ce{O2}}^i B \\frac{C_{\\ce{O2}}}{C_{\\ce{O2}} + K_{\\ce{O2}}} \\frac{C_{\\ce{DOC}}}{C_{\\ce{DOC}} + K_{\\ce{DOC}}} $  \n",
    "\n",
    "--------------------\n",
    "DOC consumption is modelled by adding the stoichiometric corrected rates from the denitrification and aerobic oxidation rates:\n",
    "\n",
    "$r_{\\ce{DOC}}^{j} = \\frac{\\gamma_{\\ce{DOC}}^{j}}{\\gamma_{\\ce{A}}^{j}}*r_{j}$\n",
    "\n",
    "for $j \\in (nar, nir, \\ce{O2})$\n",
    "\n",
    "and the full rate is defined by the expression:\n",
    "\n",
    "$r_{DOC} = \\sum_j r_{DOC}^j$\n",
    "\n",
    "DOC release from the sediment contained POC is modelled with the expression:\n",
    "\n",
    "$r_{rel} = k_{rel}^{DOC}*(C_{DOC}^{sat}- C_{DOC}) $\n",
    "\n",
    "The final expression for change in $\\ce{DOC}$ is then:\n",
    "\n",
    "$\\frac{d[DOC]}{dt} = r_{rel} - r_{DOC} $\n",
    "\n",
    "---------------------\n",
    "\n",
    "Bacterial growth is represented by the following reaction:\n",
    "\n",
    "$\\ce{3C4H6O4 + 2NH4+ -> C10H18O5N2 + 2CO2 + 3H2O + 2H+}$\n",
    "\n",
    "$\\ce{NH4+}$ is assumed non limiting. Thus biological growth is modelled with the following expression:\n",
    "\n",
    "$r_{growth}^{i} = Y_i*r_{DOC}^i$ \n",
    "\n",
    "And the specific yield of each consumption reaction is modelled by a logistic function assuming a maximum bacterial growth:\n",
    "\n",
    "$Y_i = Y_{i,max}*\\left(1-\\frac{B}{B_{max}}\\right)$\n",
    "\n",
    "Bacterial decay modelled with first order rate:\n",
    "\n",
    "$r_{dec} = k_{dec}*B$\n",
    "\n",
    "The final expression for bacterial density change is:\n",
    "\n",
    "$ \\frac{dB}{dt} = \\sum_i r_{growth}^{i} - r_{dec}$"
   ]
  },
  {
   "cell_type": "markdown",
   "id": "8a0b7522-6a0e-4d4d-a9b3-fd2b47e50e2c",
   "metadata": {},
   "source": [
    "#### importing libraries"
   ]
  },
  {
   "cell_type": "code",
   "execution_count": 1,
   "id": "48986227-26c1-4a07-a716-5d69aadc1879",
   "metadata": {},
   "outputs": [],
   "source": [
    "import os\n",
    "import numpy as np\n",
    "import scipy\n",
    "import sunode\n",
    "import matplotlib"
   ]
  },
  {
   "cell_type": "markdown",
   "id": "d2df2c4c-e188-4979-a6ed-65f56d67ea72",
   "metadata": {},
   "source": [
    "## Define the RHS\n"
   ]
  },
  {
   "cell_type": "code",
   "execution_count": 2,
   "id": "9f35203d-3cdc-4d97-9c11-4d06f12b4370",
   "metadata": {},
   "outputs": [],
   "source": [
    "def rhs(t, y, p):\n",
    "    # Enzime rates:\n",
    "    r_nar = p.nu_no3*y.B*y.no3/(y.no3+p.Kno3)*(p.Ino3/(p.Ino3+y.o2))\n",
    "    r_nir = p.nu_no2*y.B*y.no2/(y.no2+p.Kno2)*(p.Ino2/(p.Ino2+y.o2))\n",
    "    # Nitrate and nitrite rates:\n",
    "    dno3dt = -r_nar\n",
    "    dno2dt = r_nar-r_nir\n",
    "    #O2 rate\n",
    "    do2dt = -p.nu_o2*y.B*y.o2/(y.o2+p.Ko2)*(y.doc/(y.doc+p.Kdoc))\n",
    "    #DOC rate\n",
    "    ddocdt = -(1/7)*r_nar+(-(3/14)*r_nir)+(-(2/7)*do2dt)+p.k_rel*(p.c_sat-y.doc)\n",
    "    # B rate:\n",
    "    Y_nar = p.Y_narmax*(1-y.B/p.Bmax) \n",
    "    Y_nir = p.Y_nirmax*(1-y.B/p.Bmax)\n",
    "    Y_o2 = p.Y_o2max*(1-y.B/p.Bmax)\n",
    "    dBdt = (1/7)*r_nar*Y_nar + (3/14)*r_nir*Y_nir + (2/7)*do2dt*Y_o2 -p.k_dec*y.B\n",
    "    return np.array([dno3dt,dno2dt,do2dt,ddocdt,dBdt]) #rhs form\n",
    "    "
   ]
  },
  {
   "cell_type": "markdown",
   "id": "1a8993fb-5bf2-450b-a7f3-8fdf6444a46d",
   "metadata": {},
   "source": [
    "# Define the Transport Model"
   ]
  },
  {
   "cell_type": "code",
   "execution_count": null,
   "id": "d8e78188-2cf7-4998-a902-44a6a15fd145",
   "metadata": {},
   "outputs": [],
   "source": []
  },
  {
   "cell_type": "code",
   "execution_count": 2,
   "id": "c43e5d63-875c-470e-9fac-ab324e32227f",
   "metadata": {},
   "outputs": [
    {
     "name": "stderr",
     "output_type": "stream",
     "text": [
      "c:\\users\\vcant\\onedrive\\kassel\\secunda\\src\\external\\nitrogene\\nitrogene\\reaction_model.py:82: RuntimeWarning: divide by zero encountered in log\n",
      "  d[key][\"log\"] = np.log(d[key][\"val\"])\n"
     ]
    }
   ],
   "source": []
  },
  {
   "cell_type": "markdown",
   "id": "60e33aff-1068-4570-a5b6-555897188784",
   "metadata": {},
   "source": [
    "## Prepare the measurement data\n",
    "We read in the experimental data from the batch experiment of Qu et al. (2015) and process it for later use in the likelihood:\n",
    "We apply a Box-Cox transform to the data to improve homoscedasticity of the residuals. Transformation parameters are chosen based on the analysis in error_model.ipynb.\n",
    "\n"
   ]
  },
  {
   "cell_type": "markdown",
   "id": "6e0ce04a-e306-4ec5-b03c-a2efd057270b",
   "metadata": {},
   "source": [
    "## Set up the statistical model in PyMC3\n",
    "Defining our statistical model consists of three steps:\n",
    "1. Define the prior distribution for all parameters that we want to estimate.\n",
    "2. Compute the simulation result by solving the ODE.\n",
    "3. Define the likelihood  based on the simulation result and our error model.\n",
    "\n",
    "The first step also involves computing the actual model parameters from the parameters that will be estimated. We define all priors for the log parameters to account for variability/uncertianty over several orders of magnitude and to ensure positivity. For most parameters the transformation, thus, simply consists in applying an exponential function.\n",
    "Furthermore, we compute $r_{trsc}^{max}$ and $k_{trsl}$ based on the mRNA and enzyme half-lives, $T_{intra}^{max}$ and $E_{intra}^{max}$ (in ``model_builder.transform_parameters``).\n",
    "We also use a reparametrization for the Monod parameters of the aerobic respiration rate to avoid strong correlations in the posterior.\n",
    "Instead of choosing the rate at the limit of $C_{O2} \\to \\infty$, $r_{max}^{O2}$, as a parameter we choose the rate $r_{C_{fix}}^{O2}$ at a fixed oxygen concentration $C_{fix}^{O2}$ as a parameter.\n",
    "$r_{max}^{O2}$ can then be recalculated:\n",
    "$$r_{max}^{O2} = r_{C_{fix}^{O2}} \\cdot \\frac{K_s^{O2} + C_{fix}^{O2}}{C_{fix}^{O2}} $$\n",
    "We do not have literature values for $r_{C_{fix}}^{O2}$ to choose a prior.\n",
    "We therefore approximate the prior's mean and standard deviation based on samples from the original priors.\n",
    "\n",
    "The likelihood is a Student-T distirbution that take the Box-Cox transformed simulation results as mean. For nitrite and oxygen, we add a constant background value to the concentrations before the transform. \n",
    "Variances consist of the measurement variances from triplicate measurements and an estimated constant term that accoutns for model errors.\n"
   ]
  },
  {
   "cell_type": "markdown",
   "id": "1b97d9d0-d2fd-410f-a7ae-00122b0fc6e0",
   "metadata": {},
   "source": [
    "## Sample the prior"
   ]
  },
  {
   "cell_type": "markdown",
   "id": "1d927cf8-7565-49b6-b514-645784b898bd",
   "metadata": {},
   "source": [
    "We create a function that computes the log probability value and its gradient with respect to parameters and apply it to all prior points."
   ]
  },
  {
   "cell_type": "markdown",
   "id": "152e4556-b5da-467c-bf83-4dc00ab06994",
   "metadata": {},
   "source": [
    "Now we check if there are NaN values in the logp or its gradient. This can happen for extreme parameter combinations where the ODE becomes very difficult to solve numerically and the ODE solver fails.\n"
   ]
  },
  {
   "cell_type": "markdown",
   "id": "8f31a381-ab09-44e4-ab1b-c120fbca1698",
   "metadata": {},
   "source": [
    "\n",
    "## Check gradients and stability numerically\n",
    "Let's time the evaluation of the logp function and the gradients for 3 prior points."
   ]
  }
 ],
 "metadata": {
  "kernelspec": {
   "display_name": "Python 3 (ipykernel)",
   "language": "python",
   "name": "python3"
  },
  "language_info": {
   "codemirror_mode": {
    "name": "ipython",
    "version": 3
   },
   "file_extension": ".py",
   "mimetype": "text/x-python",
   "name": "python",
   "nbconvert_exporter": "python",
   "pygments_lexer": "ipython3",
   "version": "3.10.6"
  }
 },
 "nbformat": 4,
 "nbformat_minor": 5
}
