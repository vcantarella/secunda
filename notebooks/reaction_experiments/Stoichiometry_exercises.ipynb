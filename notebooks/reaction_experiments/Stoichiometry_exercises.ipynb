{
 "cells": [
  {
   "cell_type": "code",
   "execution_count": 3,
   "id": "2eb27582-a06c-4e2f-973b-28638709a71d",
   "metadata": {},
   "outputs": [],
   "source": [
    "m = 3*113"
   ]
  },
  {
   "cell_type": "code",
   "execution_count": 8,
   "id": "59170349-8489-4fc3-9b0b-11e082c81e3d",
   "metadata": {},
   "outputs": [
    {
     "data": {
      "text/plain": [
       "0.06784660766961652"
      ]
     },
     "execution_count": 8,
     "metadata": {},
     "output_type": "execute_result"
    }
   ],
   "source": [
    "23/m"
   ]
  },
  {
   "cell_type": "code",
   "execution_count": 12,
   "id": "483137eb-5142-400e-9881-07cd98976153",
   "metadata": {},
   "outputs": [],
   "source": [
    "f = (1/10-0.0383)/2"
   ]
  },
  {
   "cell_type": "code",
   "execution_count": 13,
   "id": "626f41d4-44c8-41f2-bc8e-b12520d1b454",
   "metadata": {},
   "outputs": [
    {
     "data": {
      "text/plain": [
       "0.030850000000000002"
      ]
     },
     "execution_count": 13,
     "metadata": {},
     "output_type": "execute_result"
    }
   ],
   "source": [
    "f"
   ]
  },
  {
   "cell_type": "code",
   "execution_count": 15,
   "id": "4196243b-872c-4c8a-bcea-db832bad9db6",
   "metadata": {},
   "outputs": [
    {
     "data": {
      "text/plain": [
       "'0.1NH4 + 0.09255000000000001O2 + 0.0442CO2 -> 1gbio + 0.0912NO2 + 0.1912H +     0.07350000000000001H20'"
      ]
     },
     "execution_count": 15,
     "metadata": {},
     "output_type": "execute_result"
    }
   ],
   "source": [
    "f'{2*f+0.0383}NH4 + {3*f}O2 + {0.0442}CO2 -> 1gbio + {2*f+0.0295}NO2 + {4*f+0.0678}H + \\\n",
    "    {2*f+0.0118}H20'"
   ]
  },
  {
   "cell_type": "code",
   "execution_count": 22,
   "id": "e7ef52cf-0cae-43a3-8759-5a7a63f19882",
   "metadata": {},
   "outputs": [
    {
     "data": {
      "text/plain": [
       "'1.0NH4 + 0.9255O2 + 0.442CO2 -> 10gbio + 0.912NO2 + 1.912H +     0.735H20'"
      ]
     },
     "execution_count": 22,
     "metadata": {},
     "output_type": "execute_result"
    }
   ],
   "source": [
    "f'{10*(2*f+0.0383)}NH4 + {round(10*3*f,4)}O2 + {round(10*0.0442,4)}CO2 -> 10gbio + {10*(2*f+0.0295)}NO2 + {round(10*(4*f+0.0678),4)}H + \\\n",
    "    {round(10*(2*f+0.0118),4)}H20'"
   ]
  },
  {
   "cell_type": "code",
   "execution_count": null,
   "id": "27c98587-3f9a-4bd3-8243-5f115490d3c9",
   "metadata": {},
   "outputs": [],
   "source": []
  }
 ],
 "metadata": {
  "kernelspec": {
   "display_name": "Python 3 (ipykernel)",
   "language": "python",
   "name": "python3"
  },
  "language_info": {
   "codemirror_mode": {
    "name": "ipython",
    "version": 3
   },
   "file_extension": ".py",
   "mimetype": "text/x-python",
   "name": "python",
   "nbconvert_exporter": "python",
   "pygments_lexer": "ipython3",
   "version": "3.10.6"
  }
 },
 "nbformat": 4,
 "nbformat_minor": 5
}
