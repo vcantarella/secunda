{
 "cells": [
  {
   "cell_type": "markdown",
   "id": "9f8ddbd5-b6b2-4e0f-8f36-224182016724",
   "metadata": {},
   "source": [
    "$$\\require{mhchem}$$\n",
    "# Transport Problem: Advection + Diffusion, Dispersion\n"
   ]
  },
  {
   "cell_type": "code",
   "execution_count": null,
   "id": "13ad1024-bc46-496a-a1ea-649a326f395a",
   "metadata": {},
   "outputs": [],
   "source": []
  },
  {
   "cell_type": "markdown",
   "id": "7d135505-17c1-4d9e-b1ef-36933dc75c66",
   "metadata": {},
   "source": [
    "$\\frac{\\partial c}{\\partial t}_x = -v\\left(\\frac{\\partial c}{\\partial x} \\right)$"
   ]
  },
  {
   "cell_type": "markdown",
   "id": "c5c3e096-4851-4f9a-9451-591c23326ca9",
   "metadata": {},
   "source": [
    "## Finite-Differences Solution"
   ]
  },
  {
   "cell_type": "markdown",
   "id": "ab3975a7-ac57-4e85-814a-d1f99782e63a",
   "metadata": {},
   "source": [
    "Advection step:\n",
    "\n",
    "$\\Delta t = v*\\Delta x$\n",
    "\n",
    "Thus:\n",
    "\n",
    "${c_x}^{t2} = {c_{x-1}}^{t1}$"
   ]
  },
  {
   "cell_type": "markdown",
   "id": "5f39e3f3-2470-4b78-95c2-7ff48d231345",
   "metadata": {},
   "source": [
    "We need to correct for Numerical dispersion if retardation occurs."
   ]
  },
  {
   "cell_type": "markdown",
   "id": "e9b5c418-85e0-44c5-ae04-200588be08cf",
   "metadata": {},
   "source": [
    "${c_x}^{t2} + {q_x}^{t2} = {c_{x-1}}^{t1} + {q_x}^{t1} + (1-\\omega)*\\left[ \\frac{D_e \\Delta t}{(\\Delta x)^2} \\left({c_{x-1}}^{t1}-2 {c_{x}}^{t1}+{c_{x+1}}^{t1}\\right) -v \\frac{\\Delta t}{\\Delta x}\\left(\\alpha {c_{x-1}}^{t1} +(1-2\\alpha) {c_{x1}}^{t1} + \\alpha {c_{x+1}}^{t1}\\right)\\right]+  \n",
    "\\omega*\\left[ \\frac{D_e \\Delta t}{(\\Delta x)^2} \\left({c_{x-1}}^{t2}-2 {c_{x}}^{t2}+{c_{x+1}}^{t2}\\right) -v \\frac{\\Delta t}{\\Delta x}\\left(\\alpha {c_{x-1}}^{t2} +(1-2\\alpha) {c_{x1}}^{t2} + \\alpha {c_{x+1}}^{t2}\\right)\\right]$"
   ]
  },
  {
   "cell_type": "markdown",
   "id": "ad5eb0c4-5c73-4f97-9127-5a0df9548870",
   "metadata": {},
   "source": [
    "## Model"
   ]
  },
  {
   "cell_type": "markdown",
   "id": "feb265c3-247f-4863-9b80-0c4b501e8bbe",
   "metadata": {},
   "source": [
    "#### libraries"
   ]
  },
  {
   "cell_type": "code",
   "execution_count": 1,
   "id": "32feeed4-e4f2-4765-97c6-1c4caa45a98d",
   "metadata": {},
   "outputs": [],
   "source": [
    "import numpy as np\n",
    "import scipy\n",
    "import matplotlib.pyplot as plt\n",
    "import jax\n",
    "import jax.numpy as jnp\n",
    "from jax import jit"
   ]
  },
  {
   "cell_type": "code",
   "execution_count": 2,
   "id": "037ff77e-754b-47c3-925b-aaaf3cab7caf",
   "metadata": {},
   "outputs": [],
   "source": [
    "# again, this only works on startup!\n",
    "from jax.config import config\n",
    "config.update(\"jax_enable_x64\", True)"
   ]
  },
  {
   "cell_type": "markdown",
   "id": "6d9c7a3c-5e13-47a7-91cf-6299b3e98ab8",
   "metadata": {},
   "source": [
    "### Defining problem as a coupled ODE system:\n",
    "\n",
    "We define the coupled ODE system by assuming the discretization remains and writing the solution as a system of partial derivatives (ODE system) solved unsing a numerical solver."
   ]
  },
  {
   "cell_type": "code",
   "execution_count": 3,
   "id": "1a078fb3-c40d-4874-9af9-bbd718a4207d",
   "metadata": {},
   "outputs": [],
   "source": [
    "@jit\n",
    "def f(t,y,deltax,\n",
    "      D,\n",
    "      alpha_l,\n",
    "      v,\n",
    "      c_in):\n",
    "    \n",
    "    mixf = (D + v*alpha_l)/deltax**2\n",
    "    \n",
    "    r = jnp.zeros(y.shape[0])\n",
    "    \n",
    "    \n",
    "    r = r.at[0].set(-v*(y[0]-c_in)/(deltax/2) + (-mixf)*y[0] + mixf*y[1])\n",
    "    \n",
    "    #Update the middle_portion\n",
    "    kernel = jnp.array([mixf, -2*mixf, mixf])\n",
    "    r = r.at[1:-1].set(jnp.convolve(y,kernel, mode = 'valid'))\n",
    "    #Update the last cell:\n",
    "    r = r.at[-1].set(mixf*y[-1-1] + (-mixf)*y[-1])\n",
    "    r = r.at[1:-1].add(-v*(jnp.roll(y,-1)[1:-1]-jnp.roll(y,1)[1:-1])/(2*deltax))\n",
    "    r = r.at[-1].add(-v*(y[-1]-y[-2])/deltax)\n",
    "    return r\n",
    "    \n"
   ]
  },
  {
   "cell_type": "code",
   "execution_count": 4,
   "id": "4cac98a9-e3d9-41ff-8804-f36beaf16b55",
   "metadata": {},
   "outputs": [],
   "source": [
    "@jit\n",
    "def f(t,y,deltax,\n",
    "      D,\n",
    "      alpha_l,\n",
    "      v,\n",
    "      c_in):\n",
    "    \n",
    "    mixf = (D + v*alpha_l)/deltax**2\n",
    "    \n",
    "    r = jnp.zeros(y.shape[0])\n",
    "    #upwind\n",
    "    c_up = jnp.concatenate([c_in,y])\n",
    "    \n",
    "    #advection\n",
    "    advec = jnp.gradient(c_up, deltax)*(-v)\n",
    "    r = advec[1:]\n",
    "    \n",
    "    #dispersion\n",
    "    diff = (D + v*alpha_l)*jnp.gradient(jnp.gradient(y,deltax),deltax)\n",
    "    \n",
    "    r = r.at[:].add(diff)\n",
    "\n",
    "    return r\n",
    "    \n"
   ]
  },
  {
   "cell_type": "code",
   "execution_count": null,
   "id": "909ebdaa-a40d-4820-8838-b44f278a82d3",
   "metadata": {},
   "outputs": [],
   "source": []
  },
  {
   "cell_type": "markdown",
   "id": "f94c3b76-db6c-4feb-aa32-e5d2e0bd4bae",
   "metadata": {},
   "source": [
    "f(0,np.ones(y0.shape)*0.34,deltax,De,alpha_l,v,c_in)"
   ]
  },
  {
   "cell_type": "code",
   "execution_count": 5,
   "id": "9c789715-e572-4ec3-9fa4-2db270abf232",
   "metadata": {},
   "outputs": [],
   "source": [
    "@jit\n",
    "def jac_fun(t,y,deltax,D,alpha_l,v,c_in):\n",
    "    jac = jax.jacobian(f, argnums = 1)\n",
    "    return jac(t,y,deltax,D,alpha_l,v,c_in)"
   ]
  },
  {
   "cell_type": "code",
   "execution_count": 6,
   "id": "3cda1f7b-e388-45c9-9338-41e1170837a7",
   "metadata": {},
   "outputs": [],
   "source": [
    "ncells = 50"
   ]
  },
  {
   "cell_type": "markdown",
   "id": "9fdfd0df-b790-4bbf-bec9-4c7c28a4afd5",
   "metadata": {},
   "source": [
    "#### Running Problem:\n",
    "\n",
    "Model the linear retardation of y-HCH in a 5 cm long and 5 cm diameter lab column with a sandy aquifer sample."
   ]
  },
  {
   "cell_type": "markdown",
   "id": "a5de2519-4c3e-4241-b559-723d5e38bff0",
   "metadata": {},
   "source": [
    "#### input"
   ]
  },
  {
   "cell_type": "code",
   "execution_count": 7,
   "id": "729718e9-18fb-487d-bf0c-69030ba149fe",
   "metadata": {},
   "outputs": [],
   "source": [
    "organic_carbon_aquifer = 0.05 #%\n",
    "porosity = 0.3\n",
    "alpha_l = 1e-3 #dispersivity [dm]\n",
    "injected_volume = 450 #ml\n",
    "flow_rate = 10*1e-5/3600 #l/hr\n",
    "De = 1e-9\n",
    "Kd = 6\n",
    "c_in = 20 #microg/L"
   ]
  },
  {
   "cell_type": "code",
   "execution_count": 8,
   "id": "ccc9925d-5128-4764-b5a9-ae615294013c",
   "metadata": {},
   "outputs": [],
   "source": [
    "c0 = 0\n",
    "q0 = 0\n",
    "v = flow_rate/(np.pi*2.5**2*1e-2)/porosity\n",
    "pore_volume = (np.pi*2.5**2)*5*1e-3\n",
    "totx = 0.5 #dm\n",
    "R = 1\n",
    "max_time = 700*3600"
   ]
  },
  {
   "cell_type": "code",
   "execution_count": 9,
   "id": "cdc53de5-a710-4bff-acbf-3e8c43f446e0",
   "metadata": {},
   "outputs": [
    {
     "data": {
      "text/plain": [
       "4.7157020175376405e-07"
      ]
     },
     "execution_count": 9,
     "metadata": {},
     "output_type": "execute_result"
    }
   ],
   "source": [
    "v"
   ]
  },
  {
   "cell_type": "markdown",
   "id": "83936b74-338f-452c-8210-9626d801cd73",
   "metadata": {},
   "source": [
    "### Coupled ODESolver approach"
   ]
  },
  {
   "cell_type": "markdown",
   "id": "d6556795-03b7-44ee-be8b-49cc65520001",
   "metadata": {},
   "source": [
    "This process is not mature yet, however we can get an accurate result with a very large number of cells."
   ]
  },
  {
   "cell_type": "code",
   "execution_count": 10,
   "id": "fbd4fd94-f623-4f42-81e6-a275552541ea",
   "metadata": {},
   "outputs": [
    {
     "name": "stdout",
     "output_type": "stream",
     "text": [
      "161.0\n"
     ]
    },
    {
     "data": {
      "text/plain": [
       "array([0, 0, 0, 0, 0, 0, 0, 0, 0, 0, 0, 0, 0, 0, 0, 0, 0, 0, 0, 0, 0, 0,\n",
       "       0, 0, 0, 0, 0, 0, 0, 0, 0, 0, 0, 0, 0, 0, 0, 0, 0, 0, 0, 0, 0, 0,\n",
       "       0, 0, 0, 0, 0, 0, 0, 0, 0, 0, 0, 0, 0, 0, 0, 0, 0, 0, 0, 0, 0, 0,\n",
       "       0, 0, 0, 0, 0, 0, 0, 0, 0, 0, 0, 0, 0, 0, 0, 0, 0, 0, 0, 0, 0, 0,\n",
       "       0, 0, 0, 0, 0, 0, 0, 0, 0, 0, 0, 0, 0, 0, 0, 0, 0, 0, 0, 0, 0, 0,\n",
       "       0, 0, 0, 0, 0, 0, 0, 0, 0, 0, 0, 0, 0, 0, 0, 0, 0, 0, 0, 0, 0, 0,\n",
       "       0, 0, 0, 0, 0, 0, 0, 0, 0, 0, 0, 0, 0, 0, 0, 0, 0, 0, 0, 0, 0, 0,\n",
       "       0, 0, 0, 0, 0, 0, 0])"
      ]
     },
     "execution_count": 10,
     "metadata": {},
     "output_type": "execute_result"
    }
   ],
   "source": [
    "mixf = (alpha_l*v+De)\n",
    "#Max x size (Peclet number = 0.1)\n",
    "max_deltax = 1*mixf/v\n",
    "x_steps_min = totx/max_deltax\n",
    "x_steps_min = np.ceil(x_steps_min)\n",
    "print(x_steps_min)\n",
    "\n",
    "n_cells = int(x_steps_min)\n",
    "deltax = totx/n_cells\n",
    "y0 = np.repeat(0,n_cells)\n",
    "y0"
   ]
  },
  {
   "cell_type": "code",
   "execution_count": 11,
   "id": "8e086b2f-5c7e-4f94-a47b-ced38e803f66",
   "metadata": {},
   "outputs": [],
   "source": [
    "mixf = (De + v*alpha_l)/deltax**2\n",
    "r = np.zeros(y0.shape[0])"
   ]
  },
  {
   "cell_type": "code",
   "execution_count": 12,
   "id": "913080d0-6257-467c-bbd1-73dfd3dc1e53",
   "metadata": {},
   "outputs": [],
   "source": [
    "timesteps = np.arange(0,max_time,60)"
   ]
  },
  {
   "cell_type": "code",
   "execution_count": 13,
   "id": "6d2e8b8b-5811-4d99-83d0-0673de5f914d",
   "metadata": {},
   "outputs": [],
   "source": [
    "import timeit"
   ]
  },
  {
   "cell_type": "code",
   "execution_count": 24,
   "id": "fc9ae8e7-9fe5-4053-b1a5-bb7429f4cb02",
   "metadata": {
    "tags": []
   },
   "outputs": [
    {
     "name": "stdout",
     "output_type": "stream",
     "text": [
      "Elapsed time: 0.04751415200007614 s\n"
     ]
    }
   ],
   "source": [
    "# record start time\n",
    "t_0 = timeit.default_timer()\n",
    "c_ode = scipy.integrate.odeint(f,y0,timesteps,args = (deltax,De,alpha_l,v,np.array([c_in])), \n",
    "                              #Dfun = jacob, \n",
    "                              tfirst = True,\n",
    "                              hmax = 2*deltax**2/(3*(De+v*alpha_l)),\n",
    "                              atol = 1e-10, rtol = 1e-10)\n",
    "# record end time\n",
    "t_1 = timeit.default_timer()\n",
    "# calculate elapsed time and print\n",
    "elapsed_time = (t_1 - t_0)\n",
    "print(f\"Elapsed time: {elapsed_time} s\")"
   ]
  },
  {
   "cell_type": "code",
   "execution_count": 33,
   "id": "3091bd36-ad7f-4b6e-a4ae-2dccedc97b81",
   "metadata": {},
   "outputs": [
    {
     "name": "stdout",
     "output_type": "stream",
     "text": [
      "Elapsed time: 0.46526859600089665 s\n"
     ]
    }
   ],
   "source": [
    "# record start time\n",
    "t_0 = timeit.default_timer()\n",
    "c_ode_j = scipy.integrate.odeint(f,y0,timesteps,args = (deltax,De,alpha_l,v,np.array([c_in])), \n",
    "                              Dfun = jac_fun, \n",
    "                              tfirst = True,\n",
    "                              atol = 1e-11, rtol = 1e-11)\n",
    "# record end time\n",
    "t_1 = timeit.default_timer()\n",
    "# calculate elapsed time and print\n",
    "elapsed_time = (t_1 - t_0)\n",
    "print(f\"Elapsed time: {elapsed_time} s\")"
   ]
  },
  {
   "cell_type": "code",
   "execution_count": 16,
   "id": "8b978e12-8c55-44fe-b881-f3bf12f28e44",
   "metadata": {},
   "outputs": [],
   "source": [
    "cumulated_volume = flow_rate*timesteps"
   ]
  },
  {
   "cell_type": "markdown",
   "id": "02372fe7-13eb-4ba5-b40f-87842910f0b8",
   "metadata": {},
   "source": [
    "### Analytical solution:"
   ]
  },
  {
   "cell_type": "code",
   "execution_count": 17,
   "id": "db68f411-cfa5-4b08-9889-f02e186cb368",
   "metadata": {},
   "outputs": [],
   "source": [
    "def analytical(t,c_in,L,v,Dl,R):\n",
    "    c = (c_in/2)*(scipy.special.erfc((L-v*t/R)/(np.sqrt(4*Dl*t/R)))+np.exp(v*L/Dl)*\n",
    "                  scipy.special.erfc((L+v*t/R)/np.sqrt(4*Dl*t/R)))\n",
    "    return c"
   ]
  },
  {
   "cell_type": "code",
   "execution_count": 18,
   "id": "c1a611bd-8e2e-4431-9526-43ee14eaca8c",
   "metadata": {},
   "outputs": [
    {
     "name": "stderr",
     "output_type": "stream",
     "text": [
      "/tmp/ipykernel_3413/707810831.py:2: RuntimeWarning: divide by zero encountered in double_scalars\n",
      "  c = (c_in/2)*(scipy.special.erfc((L-v*t/R)/(np.sqrt(4*Dl*t/R)))+np.exp(v*L/Dl)*\n",
      "/tmp/ipykernel_3413/707810831.py:3: RuntimeWarning: divide by zero encountered in double_scalars\n",
      "  scipy.special.erfc((L+v*t/R)/np.sqrt(4*Dl*t/R)))\n"
     ]
    }
   ],
   "source": [
    "c_out_ana = np.zeros(timesteps.shape)\n",
    "Dl = De+v*alpha_l\n",
    "for i in range(timesteps.shape[0]):\n",
    "    c_out_ana[i] = analytical(timesteps[i],c_in,totx,v,Dl,R) \n",
    "    "
   ]
  },
  {
   "cell_type": "code",
   "execution_count": 19,
   "id": "cb26e334-41fb-4ec8-9296-d49852011009",
   "metadata": {},
   "outputs": [
    {
     "data": {
      "text/plain": [
       "0.0"
      ]
     },
     "execution_count": 19,
     "metadata": {},
     "output_type": "execute_result"
    }
   ],
   "source": [
    "analytical(timesteps[3],c_in,totx,v,Dl,R) "
   ]
  },
  {
   "cell_type": "code",
   "execution_count": 20,
   "id": "8bf255d6-49a4-4cbb-a914-a77ecdf3d566",
   "metadata": {},
   "outputs": [],
   "source": [
    "pore_flushes = cumulated_volume/pore_volume\n",
    "#pore_flushes[::7]"
   ]
  },
  {
   "cell_type": "markdown",
   "id": "d6131435-8f65-46ea-8f28-00eb74d261d9",
   "metadata": {},
   "source": [
    "#### Plotting and comparing solutions:"
   ]
  },
  {
   "cell_type": "code",
   "execution_count": 23,
   "id": "2b06a65e-cf32-41ad-ad96-88bacc44f110",
   "metadata": {
    "tags": []
   },
   "outputs": [
    {
     "data": {
      "text/plain": [
       "Text(0, 0.5, '[y-HCH] [$\\\\mu g/L$]')"
      ]
     },
     "execution_count": 23,
     "metadata": {},
     "output_type": "execute_result"
    },
    {
     "data": {
      "image/png": "[encoded data removed]",
      "text/plain": [
       "<Figure size 1400x800 with 1 Axes>"
      ]
     },
     "metadata": {},
     "output_type": "display_data"
    }
   ],
   "source": [
    "fig = plt.figure(figsize = (14,8))\n",
    "ax = fig.add_subplot(111)\n",
    "ax.plot(pore_flushes[::1000],c_out_ana[::1000], 'Dr', label = 'analytical solution')\n",
    "ax.plot(pore_flushes,c_ode[:,-1], '-.k', label = 'coupled ode solution')\n",
    "ax.plot(pore_flushes,c_ode_j[:,-1], '-.r', label = 'coupled ode solution + jacobian')\n",
    "\n",
    "#ax.set_xlim([0,6])\n",
    "ax.legend()\n",
    "ax.set_xlabel('Pore Volumes [n]')\n",
    "ax.set_ylabel(r'[y-HCH] [$\\mu g/L$]')"
   ]
  }
 ],
 "metadata": {
  "citation-manager": {
   "items": {}
  },
  "kernelspec": {
   "display_name": "Python 3 (ipykernel)",
   "language": "python",
   "name": "python3"
  },
  "language_info": {
   "codemirror_mode": {
    "name": "ipython",
    "version": 3
   },
   "file_extension": ".py",
   "mimetype": "text/x-python",
   "name": "python",
   "nbconvert_exporter": "python",
   "pygments_lexer": "ipython3",
   "version": "3.10.8"
  }
 },
 "nbformat": 4,
 "nbformat_minor": 5
}
