{
 "cells": [
  {
   "cell_type": "markdown",
   "id": "9f8ddbd5-b6b2-4e0f-8f36-224182016724",
   "metadata": {},
   "source": [
    "# Transport Problem: Diffusion"
   ]
  },
  {
   "cell_type": "markdown",
   "id": "7d135505-17c1-4d9e-b1ef-36933dc75c66",
   "metadata": {},
   "source": [
    "$\\frac{\\partial c}{\\partial t}_x = Df*\\left(\\frac{\\partial^2c}{\\partial x^2}\\right)$"
   ]
  },
  {
   "cell_type": "markdown",
   "id": "c5c3e096-4851-4f9a-9451-591c23326ca9",
   "metadata": {},
   "source": [
    "## Finite-Differences Solution"
   ]
  },
  {
   "cell_type": "markdown",
   "id": "ab3975a7-ac57-4e85-814a-d1f99782e63a",
   "metadata": {},
   "source": [
    "${c_x}^{t2} ={c_x}^{t1} + mixf*({c_{x-1}}^{t1}-2*{c_{x}}^{t1}+{c_{x+1}}^{t1})$ \n",
    "\n",
    "$mixf = \\frac{D_f*\\Delta t}{(\\Delta x)^2}$\n",
    "\n",
    "Von Neumann criterium: \n",
    "\n",
    "$\\Delta t \\le (\\Delta x)^2/(3*D_f)$"
   ]
  },
  {
   "cell_type": "markdown",
   "id": "fc64aec2-be45-4e04-8c70-45209af34995",
   "metadata": {},
   "source": [
    "Assuming a constant concentration boundary condition $c_0$. The concentration at the neighbouring cell is calculated with the half distances $\\Delta x/2$, thus the expression at cell c1 becomes:"
   ]
  },
  {
   "cell_type": "markdown",
   "id": "cd17a69e-4a0d-40c8-861c-1361a0de8b67",
   "metadata": {},
   "source": [
    "${c_1}^{t2} =2*mixf*{c_{0}}^{t1}+mixf*{c_{2}}^{t1}+(1-3*mixf)*{c_{x+1}}^{t1}$ "
   ]
  },
  {
   "cell_type": "markdown",
   "id": "46a54ce1-03bf-41c6-8a8f-f1ba41993868",
   "metadata": {},
   "source": [
    "This situation requires a new Von-Neumann criterium: $mixf < 2/9$"
   ]
  },
  {
   "cell_type": "markdown",
   "id": "a1ced354-2ab8-4471-bab1-6b1b53c7f7c0",
   "metadata": {},
   "source": [
    "On the last cell, assuming a no-flow boundary:\n",
    "\n",
    "${c_n}^{t2} =mixf*{c_{n-1}}^{t1}+(1-mixf)*{c_{n}}^{t1}$ "
   ]
  },
  {
   "cell_type": "markdown",
   "id": "ad5eb0c4-5c73-4f97-9127-5a0df9548870",
   "metadata": {},
   "source": [
    "## Model"
   ]
  },
  {
   "cell_type": "markdown",
   "id": "feb265c3-247f-4863-9b80-0c4b501e8bbe",
   "metadata": {},
   "source": [
    "#### libraries"
   ]
  },
  {
   "cell_type": "code",
   "execution_count": 25,
   "id": "32feeed4-e4f2-4765-97c6-1c4caa45a98d",
   "metadata": {},
   "outputs": [],
   "source": [
    "import numpy as np\n",
    "import scipy\n",
    "import matplotlib.pyplot as plt"
   ]
  },
  {
   "cell_type": "markdown",
   "id": "a8496044-b9ec-4bad-9966-98b1effe9777",
   "metadata": {},
   "source": [
    "#### constants"
   ]
  },
  {
   "cell_type": "code",
   "execution_count": 26,
   "id": "dcde3f71-3675-445e-bee2-bfaf762f8ea9",
   "metadata": {},
   "outputs": [],
   "source": [
    "Df = 1e-5 #cm/s\n",
    "length_x = 1000 #cm\n",
    "time = 100*365*24*3600 # 100 years in seconds\n",
    "\n",
    "deltax = 5 # cm\n",
    "deltat = 5**2/(9*Df)\n",
    "mixf = Df*deltat/deltax**2\n",
    "\n",
    "\n",
    "c0 = 0.56"
   ]
  },
  {
   "cell_type": "code",
   "execution_count": 27,
   "id": "70f8e540-34a9-4a4b-a50f-b42a3201efeb",
   "metadata": {},
   "outputs": [
    {
     "data": {
      "text/plain": [
       "True"
      ]
     },
     "execution_count": 27,
     "metadata": {},
     "output_type": "execute_result"
    }
   ],
   "source": [
    "mixf < 2/9"
   ]
  },
  {
   "cell_type": "markdown",
   "id": "2d96f66e-8946-4a94-8dba-060b02101c80",
   "metadata": {},
   "source": [
    "#### grid"
   ]
  },
  {
   "cell_type": "code",
   "execution_count": 28,
   "id": "600016bd-6c62-4767-bc18-b8192d892247",
   "metadata": {
    "tags": []
   },
   "outputs": [],
   "source": [
    "x = np.arange(deltax/2, length_x, deltax)"
   ]
  },
  {
   "cell_type": "markdown",
   "id": "3e68ee4d-d917-4a0f-9941-1259f28d74de",
   "metadata": {},
   "source": [
    "#### initial values"
   ]
  },
  {
   "cell_type": "code",
   "execution_count": 29,
   "id": "d65d142d-1038-4275-ad7b-dcc97ee52ba1",
   "metadata": {},
   "outputs": [],
   "source": [
    "c_t0 = np.repeat(0,x.shape)\n"
   ]
  },
  {
   "cell_type": "markdown",
   "id": "c9d3c8b1-c56a-492b-9798-e162088a7bb1",
   "metadata": {},
   "source": [
    "#### Finite differences scheme:"
   ]
  },
  {
   "cell_type": "code",
   "execution_count": 30,
   "id": "c54a49e5-b784-4783-b8eb-e61e2476e2a8",
   "metadata": {
    "tags": []
   },
   "outputs": [],
   "source": [
    "def iteration(c: np.ndarray, c0: np.float64, mixf):\n",
    "    result = np.zeros(c.shape)\n",
    "    # update the fixed boundary:\n",
    "    result[0] = 2*mixf*c0 + mixf*c[1]+(1-3*mixf)*c[0]\n",
    "    \n",
    "    #Update the midow_portion\n",
    "    sliding_window = np.lib.stride_tricks.sliding_window_view(c, (3))\n",
    "    kernel = np.array([mixf, (1-2*mixf), mixf])\n",
    "    result[1:-1] = np.dot(sliding_window,kernel)\n",
    "    \n",
    "    #Update the last cell:\n",
    "    result[-1] = mixf*c[-1-1] + (1-mixf)*c[-1]\n",
    "    \n",
    "    return result"
   ]
  },
  {
   "cell_type": "markdown",
   "id": "8a6c10e8-8957-4f54-975e-b9ae9f332730",
   "metadata": {},
   "source": [
    "#### Running model for 100 years:"
   ]
  },
  {
   "cell_type": "code",
   "execution_count": 31,
   "id": "92c688b8-4b14-41f4-a991-8e531a7f7ce7",
   "metadata": {
    "tags": []
   },
   "outputs": [],
   "source": [
    "c = c_t0\n",
    "dt = np.arange(deltat,time+deltat,deltat)\n",
    "for i in range(len(dt)):\n",
    "    c = iteration(c,c0,mixf)"
   ]
  },
  {
   "cell_type": "markdown",
   "id": "3f6dc6c3-9e63-4c96-9d46-329ee09e0721",
   "metadata": {},
   "source": [
    "#### Calculating Analytical model:"
   ]
  },
  {
   "cell_type": "code",
   "execution_count": 32,
   "id": "dbc7919b-7835-4b62-bed1-7729455a0834",
   "metadata": {},
   "outputs": [],
   "source": [
    "x_a = np.linspace(length_x,10)"
   ]
  },
  {
   "cell_type": "code",
   "execution_count": 33,
   "id": "c3367f83-99f9-4b31-af50-21fbf37adde7",
   "metadata": {},
   "outputs": [],
   "source": [
    "c_a = 0.56*scipy.special.erfc(x_a/np.sqrt(4*Df*time))"
   ]
  },
  {
   "cell_type": "markdown",
   "id": "75fb8eb1-e112-4f90-905b-2987de4078fc",
   "metadata": {},
   "source": [
    "#### Plotting and comparing solutions:"
   ]
  },
  {
   "cell_type": "code",
   "execution_count": 48,
   "id": "d906860a-dcb9-40e0-9dc9-f92a1f684b49",
   "metadata": {},
   "outputs": [
    {
     "data": {
      "text/plain": [
       "[<matplotlib.lines.Line2D at 0x255d07b2bf0>]"
      ]
     },
     "execution_count": 48,
     "metadata": {},
     "output_type": "execute_result"
    },
    {
     "data": {
      "image/png": "[encoded data removed]",
      "text/plain": [
       "<Figure size 700x400 with 1 Axes>"
      ]
     },
     "metadata": {},
     "output_type": "display_data"
    }
   ],
   "source": [
    "fig = plt.figure(figsize = (7,4))\n",
    "ax = fig.add_subplot(111)\n",
    "ax.plot(x,c,'--k')\n",
    "ax.plot(x_a[0::5],c_a[0::5],'Dk')"
   ]
  },
  {
   "cell_type": "markdown",
   "id": "761a7fdb-6882-41bc-9f9e-30265fa48a77",
   "metadata": {},
   "source": [
    "#### Trying with the implicit scheme:"
   ]
  },
  {
   "cell_type": "markdown",
   "id": "c7a8a331-95c2-43a5-9b16-3dfa9dce5436",
   "metadata": {},
   "source": [
    "${c_x}^{t2} ={c_x}^{t1} + mixf*({c_{x-1}}^{t2}-2*{c_{x}}^{t2}+{c_{x+1}}^{t2})$ \n",
    "\n",
    "Results in:\n",
    "\n",
    "$(1-2*mixf){c_x}^{t2} ={c_x}^{t1} + mixf*({c_{x-1}}^{t2}+{c_{x+1}}^{t2})$ \n",
    "\n",
    "And we can build our linear system by passing the arguments of $t_2$ to the left hand side:\n",
    "\n",
    "$-mixf*{c_{x-1}}^{t2}+(1+2*mixf){c_x}^{t2}+(-mixf){c_{x+1}}^{t2} = {c_x}^{t1}$ "
   ]
  },
  {
   "cell_type": "markdown",
   "id": "fa204e1b-778e-489b-b41a-75127380298f",
   "metadata": {},
   "source": [
    "Assuming a constant concentration boundary condition $c_0$. The concentration at the neighbouring cell is calculated with the half distances $\\Delta x/2$, thus the expression at cell c1 becomes:"
   ]
  },
  {
   "cell_type": "markdown",
   "id": "b16d0e06-a633-4190-afde-968726b926e3",
   "metadata": {},
   "source": [
    "${c_1}^{t2} =2*mixf*{c_{0}}^{t1}+mixf*{c_{2}}^{t1}+(1-3*mixf)*{c_{x+1}}^{t1}$ "
   ]
  },
  {
   "cell_type": "markdown",
   "id": "d9facb3b-3aac-454c-bed4-9ae041d1158e",
   "metadata": {},
   "source": [
    "This situation requires a new Von-Neumann criterium: $mixf < 2/9$"
   ]
  },
  {
   "cell_type": "markdown",
   "id": "a95d93da-5f6a-41e1-93ad-844b0ecc30be",
   "metadata": {},
   "source": [
    "On the last cell, assuming a no-flow boundary:\n",
    "\n",
    "$-mixf*{c_{n-1}}^{t2}+{c_n}^{t2} =(1-mixf)*{c_{n}}^{t1}$ "
   ]
  },
  {
   "cell_type": "code",
   "execution_count": 35,
   "id": "e358c8cc-03b2-4c2e-9949-c0a615a3104b",
   "metadata": {
    "tags": []
   },
   "outputs": [],
   "source": [
    "def iteration_implicit(c,c0,mixf):\n",
    "    c = np.concatenate((np.array([c0]),c))\n",
    "    A = np.zeros((c.shape[0],c.shape[0]))\n",
    "    #First row: constant concentration\n",
    "    A[0,0] = 1\n",
    "    #Second row: update boudnary value\n",
    "    A[1,0],A[1,1],A[1,2] = [-2*mixf,1+3*mixf,-mixf]\n",
    "    #Remaining middle rows:\n",
    "    for i in range(2,A.shape[0]-1):\n",
    "        A[i,i-1] = -mixf\n",
    "        A[i,i] = (1+2*mixf)\n",
    "        A[i,i+1] = -mixf\n",
    "    #last row:\n",
    "    A[c.shape[0]-1,c.shape[0]-2],A[c.shape[0]-1,c.shape[0]-1] = [-mixf,1+mixf]\n",
    "    result = scipy.linalg.solve(A,c)\n",
    "    result = result[1:]\n",
    "    return result"
   ]
  },
  {
   "cell_type": "markdown",
   "id": "906af112-0b1a-4efa-a0c6-d49884d7f4d7",
   "metadata": {},
   "source": [
    "#### Running model for 100 years:"
   ]
  },
  {
   "cell_type": "code",
   "execution_count": 36,
   "id": "1952bf62-3819-487b-8141-07c6bcd0a807",
   "metadata": {},
   "outputs": [],
   "source": [
    "Df = 1e-5 #cm/s\n",
    "length_x = 1000 #cm\n",
    "time = 100*365*24*3600 # 100 years in seconds\n",
    "\n",
    "deltax = 5 # cm\n",
    "deltat = 365*24*3600\n",
    "mixf = Df*deltat/deltax**2\n",
    "\n",
    "\n",
    "c0 = 0.56"
   ]
  },
  {
   "cell_type": "markdown",
   "id": "07d4c2ee-1c13-464a-a620-e34f92c049ee",
   "metadata": {},
   "source": [
    "#### Violating the Von Neumann criterium:"
   ]
  },
  {
   "cell_type": "code",
   "execution_count": 37,
   "id": "08a5b4da-fd3e-4712-b8cd-ea6f992a9356",
   "metadata": {},
   "outputs": [
    {
     "data": {
      "text/plain": [
       "False"
      ]
     },
     "execution_count": 37,
     "metadata": {},
     "output_type": "execute_result"
    }
   ],
   "source": [
    "mixf < 2/9"
   ]
  },
  {
   "cell_type": "markdown",
   "id": "5994fb33-2d7d-4e22-91db-b4d6754609dc",
   "metadata": {},
   "source": [
    "#### Running"
   ]
  },
  {
   "cell_type": "code",
   "execution_count": 38,
   "id": "613d4f00-b374-4dc1-b20f-c09757571ef9",
   "metadata": {
    "tags": []
   },
   "outputs": [],
   "source": [
    "c_i = c_t0\n",
    "dt = np.arange(deltat,time+deltat,deltat)\n",
    "for i in range(len(dt)):\n",
    "    #t = dt[i]\n",
    "    c_i = iteration_implicit(c_i,c0,mixf)\n"
   ]
  },
  {
   "cell_type": "markdown",
   "id": "b02cc203-eb91-40ac-8562-37fa58fac202",
   "metadata": {},
   "source": [
    "#### Plotting and comparing solutions:"
   ]
  },
  {
   "cell_type": "code",
   "execution_count": 39,
   "id": "bd58eadc-570f-4ff9-b4ec-5fa13c94a1c2",
   "metadata": {},
   "outputs": [
    {
     "data": {
      "text/plain": [
       "[<matplotlib.lines.Line2D at 0x255cf542590>]"
      ]
     },
     "execution_count": 39,
     "metadata": {},
     "output_type": "execute_result"
    },
    {
     "data": {
      "image/png": "[encoded data removed]",
      "text/plain": [
       "<Figure size 700x400 with 1 Axes>"
      ]
     },
     "metadata": {},
     "output_type": "display_data"
    }
   ],
   "source": [
    "fig = plt.figure(figsize = (7,4))\n",
    "ax = fig.add_subplot(111)\n",
    "ax.plot(x,c,'--k')\n",
    "ax.plot(x_a[::10],c_a[::10],'Dk')\n",
    "ax.plot(x,c_i,'--r')"
   ]
  },
  {
   "cell_type": "markdown",
   "id": "2fb31c29-2eea-4d51-8a1f-ba95433f740e",
   "metadata": {},
   "source": [
    "## Crank-Nicholson scheme"
   ]
  },
  {
   "cell_type": "code",
   "execution_count": 40,
   "id": "40bef822-2dbf-4a45-890d-e37591b0c15a",
   "metadata": {},
   "outputs": [
    {
     "data": {
      "text/plain": [
       "False"
      ]
     },
     "execution_count": 40,
     "metadata": {},
     "output_type": "execute_result"
    }
   ],
   "source": [
    "omega = 0.5\n",
    "deltat <= deltax**2/(4.5*(1-omega)*Df)"
   ]
  },
  {
   "cell_type": "code",
   "execution_count": 41,
   "id": "a70383dd-474d-438a-8e12-364bba5266e6",
   "metadata": {},
   "outputs": [],
   "source": [
    "deltat = deltax**2/(4.5*(1-omega)*Df)/2"
   ]
  },
  {
   "cell_type": "code",
   "execution_count": 42,
   "id": "2dbe79c8-8ea0-4d99-9075-538685a3c26e",
   "metadata": {},
   "outputs": [
    {
     "data": {
      "text/plain": [
       "True"
      ]
     },
     "execution_count": 42,
     "metadata": {},
     "output_type": "execute_result"
    }
   ],
   "source": [
    "deltat <= deltax**2/(4.5*(1-omega)*Df)"
   ]
  },
  {
   "cell_type": "code",
   "execution_count": 43,
   "id": "a0f78795-f8e0-4626-8937-072d04e00b94",
   "metadata": {},
   "outputs": [],
   "source": [
    "\n",
    "mixf = Df*deltat/deltax**2"
   ]
  },
  {
   "cell_type": "code",
   "execution_count": 44,
   "id": "d4082eb8-1114-4aa3-8524-ae7531dac978",
   "metadata": {
    "tags": []
   },
   "outputs": [],
   "source": [
    "def iteration_crank(c,c0,mixf, omega = 0.5):\n",
    "    \n",
    "    #Defining mixf terms for implicit and explicit schemes:\n",
    "    mixfe = mixf*(1-omega)\n",
    "    mixfi = mixf*omega\n",
    "    # Calculating the Explicit-part:\n",
    "    last_term = np.zeros(c.shape)\n",
    "    # update the fixed boundary:\n",
    "    last_term[0] = 2*mixfe*c0 + mixfe*c[1] + (1-3*mixfe)*c[0]\n",
    "    \n",
    "    #Update the middle_portion\n",
    "    sliding_window = np.lib.stride_tricks.sliding_window_view(c, (3))\n",
    "    kernel = np.array([mixfe, 1-2*mixfe, mixfe])\n",
    "    last_term[1:-1] = np.dot(sliding_window,kernel)\n",
    "    \n",
    "    #Update the last cell:\n",
    "    last_term[-1] = mixfe*c[-1-1] + (1-mixfe)*c[-1] \n",
    "    \n",
    "    #Calculating the implicit part:\n",
    "    \n",
    "    c = np.concatenate((np.array([c0]),last_term))\n",
    "    A = np.zeros((c.shape[0],c.shape[0]))\n",
    "    #First row: constant concentration\n",
    "    A[0,0] = 1\n",
    "    #Second row: update boundary value\n",
    "    A[1,0],A[1,1],A[1,2] = [-2*mixfi,1+3*mixfi,-mixfi]\n",
    "    #Remaining middle rows:\n",
    "    for i in range(2,A.shape[0]-1):\n",
    "        A[i,i-1] = -mixfi\n",
    "        A[i,i] = (1+2*mixfi)\n",
    "        A[i,i+1] = -mixfi\n",
    "    #last row:\n",
    "    A[c.shape[0]-1,c.shape[0]-2],A[c.shape[0]-1,c.shape[0]-1] = [-mixfi,1+mixfi]\n",
    "    \n",
    "    #RHS of the system of linear equations, with explicit formulation:\n",
    "    b = np.concatenate((np.array([c0]),last_term))\n",
    "    \n",
    "    #Solving the system of equations:\n",
    "    result = scipy.linalg.solve(A,b)\n",
    "    result = result[1:]\n",
    "    return result"
   ]
  },
  {
   "cell_type": "markdown",
   "id": "a4069152-663c-4465-a1f2-a9be9188fa77",
   "metadata": {},
   "source": [
    "#### Running"
   ]
  },
  {
   "cell_type": "code",
   "execution_count": 45,
   "id": "86abb66b-bd0f-4b89-96f0-543ec6ac28e1",
   "metadata": {
    "tags": []
   },
   "outputs": [],
   "source": [
    "c_r = c_t0\n",
    "dt = np.arange(deltat,time+deltat,deltat)\n",
    "for i in range(len(dt)):\n",
    "    t = dt[i]\n",
    "    c_r = iteration_crank(c_r,c0,mixf, omega)\n"
   ]
  },
  {
   "cell_type": "markdown",
   "id": "538cc105-1384-4d7e-bc72-087cbe30127a",
   "metadata": {},
   "source": [
    "#### Plotting and comparing solutions:"
   ]
  },
  {
   "cell_type": "code",
   "execution_count": 46,
   "id": "33a15602-c521-4014-855c-bedbde4af2cd",
   "metadata": {},
   "outputs": [
    {
     "data": {
      "text/plain": [
       "[<matplotlib.lines.Line2D at 0x255cf5c65f0>]"
      ]
     },
     "execution_count": 46,
     "metadata": {},
     "output_type": "execute_result"
    },
    {
     "data": {
      "image/png": "[encoded data removed]",
      "text/plain": [
       "<Figure size 700x400 with 1 Axes>"
      ]
     },
     "metadata": {},
     "output_type": "display_data"
    }
   ],
   "source": [
    "fig = plt.figure(figsize = (7,4))\n",
    "ax = fig.add_subplot(111)\n",
    "ax.plot(x,c,'--k')\n",
    "ax.plot(x_a[::10],c_a[::10],'Dk')\n",
    "ax.plot(x,c_r,'--r')"
   ]
  }
 ],
 "metadata": {
  "kernelspec": {
   "display_name": "Python 3 (ipykernel)",
   "language": "python",
   "name": "python3"
  },
  "language_info": {
   "codemirror_mode": {
    "name": "ipython",
    "version": 3
   },
   "file_extension": ".py",
   "mimetype": "text/x-python",
   "name": "python",
   "nbconvert_exporter": "python",
   "pygments_lexer": "ipython3",
   "version": "3.10.8"
  }
 },
 "nbformat": 4,
 "nbformat_minor": 5
}
