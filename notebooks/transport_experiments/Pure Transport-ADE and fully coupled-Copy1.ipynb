{
 "cells": [
  {
   "cell_type": "markdown",
   "id": "9f8ddbd5-b6b2-4e0f-8f36-224182016724",
   "metadata": {},
   "source": [
    "$$\\require{mhchem}$$\n",
    "# Transport Problem: Advection + Diffusion, Dispersion\n"
   ]
  },
  {
   "cell_type": "code",
   "execution_count": null,
   "id": "13ad1024-bc46-496a-a1ea-649a326f395a",
   "metadata": {},
   "outputs": [],
   "source": []
  },
  {
   "cell_type": "markdown",
   "id": "7d135505-17c1-4d9e-b1ef-36933dc75c66",
   "metadata": {},
   "source": [
    "$\\frac{\\partial c}{\\partial t}_x = -v\\left(\\frac{\\partial c}{\\partial x} \\right)$"
   ]
  },
  {
   "cell_type": "markdown",
   "id": "c5c3e096-4851-4f9a-9451-591c23326ca9",
   "metadata": {},
   "source": [
    "## Finite-Differences Solution"
   ]
  },
  {
   "cell_type": "markdown",
   "id": "ab3975a7-ac57-4e85-814a-d1f99782e63a",
   "metadata": {},
   "source": [
    "Advection step:\n",
    "\n",
    "$\\Delta t = v*\\Delta x$\n",
    "\n",
    "Thus:\n",
    "\n",
    "${c_x}^{t2} = {c_{x-1}}^{t1}$"
   ]
  },
  {
   "cell_type": "markdown",
   "id": "5f39e3f3-2470-4b78-95c2-7ff48d231345",
   "metadata": {},
   "source": [
    "We need to correct for Numerical dispersion if retardation occurs."
   ]
  },
  {
   "cell_type": "markdown",
   "id": "e9b5c418-85e0-44c5-ae04-200588be08cf",
   "metadata": {},
   "source": [
    "${c_x}^{t2} + {q_x}^{t2} = {c_{x-1}}^{t1} + {q_x}^{t1} + (1-\\omega)*\\left[ \\frac{D_e \\Delta t}{(\\Delta x)^2} \\left({c_{x-1}}^{t1}-2 {c_{x}}^{t1}+{c_{x+1}}^{t1}\\right) -v \\frac{\\Delta t}{\\Delta x}\\left(\\alpha {c_{x-1}}^{t1} +(1-2\\alpha) {c_{x1}}^{t1} + \\alpha {c_{x+1}}^{t1}\\right)\\right]+  \n",
    "\\omega*\\left[ \\frac{D_e \\Delta t}{(\\Delta x)^2} \\left({c_{x-1}}^{t2}-2 {c_{x}}^{t2}+{c_{x+1}}^{t2}\\right) -v \\frac{\\Delta t}{\\Delta x}\\left(\\alpha {c_{x-1}}^{t2} +(1-2\\alpha) {c_{x1}}^{t2} + \\alpha {c_{x+1}}^{t2}\\right)\\right]$"
   ]
  },
  {
   "cell_type": "markdown",
   "id": "ad5eb0c4-5c73-4f97-9127-5a0df9548870",
   "metadata": {},
   "source": [
    "## Model"
   ]
  },
  {
   "cell_type": "markdown",
   "id": "feb265c3-247f-4863-9b80-0c4b501e8bbe",
   "metadata": {},
   "source": [
    "#### libraries"
   ]
  },
  {
   "cell_type": "code",
   "execution_count": 1,
   "id": "32feeed4-e4f2-4765-97c6-1c4caa45a98d",
   "metadata": {},
   "outputs": [],
   "source": [
    "import numpy as np\n",
    "import scipy\n",
    "import matplotlib.pyplot as plt"
   ]
  },
  {
   "cell_type": "markdown",
   "id": "c9d3c8b1-c56a-492b-9798-e162088a7bb1",
   "metadata": {},
   "source": [
    "#### Finite differences scheme:"
   ]
  },
  {
   "cell_type": "markdown",
   "id": "748fe90a-cf6c-4ccc-8372-e6a6cec51913",
   "metadata": {},
   "source": [
    "We are applying our first advection model with a linear retardation scheme."
   ]
  },
  {
   "cell_type": "code",
   "execution_count": 2,
   "id": "c54a49e5-b784-4783-b8eb-e61e2476e2a8",
   "metadata": {
    "tags": []
   },
   "outputs": [],
   "source": [
    "def iteration_advec(c: np.ndarray, c_in: np.float64):\n",
    "    result = np.zeros(c.shape)\n",
    "    \n",
    "    #Advection:\n",
    "    result = np.roll(c, 1)\n",
    "    result[0] = c_in\n",
    "    c_out = c[-1]\n",
    "    \n",
    "    return (result,c_out)"
   ]
  },
  {
   "cell_type": "code",
   "execution_count": 3,
   "id": "05dbcb7b-bdd9-4b4f-950e-a2a65e2b20a6",
   "metadata": {
    "tags": []
   },
   "outputs": [],
   "source": [
    "def iteration_crank(c,mixf, omega = 0.5):\n",
    "    #mixf in vector format\n",
    "    #Defining mixf terms for implicit and explicit schemes:\n",
    "    mixfe = mixf*(1-omega)\n",
    "    mixfi = mixf*omega\n",
    "    # Calculating the Explicit-part:\n",
    "    last_term = np.zeros(c.shape)\n",
    "    # Threre is no fixed boundary, thus:\n",
    "    last_term[0] = mixfe[1]*c[1] + (1-mixfe[0])*c[0]\n",
    "    \n",
    "    #Update the middle_portion\n",
    "    sliding_window = np.lib.stride_tricks.sliding_window_view(c, (3))\n",
    "    kernel = np.zeros((3,c.shape[0]-2))\n",
    "    for i in range(kernel.shape[1]):\n",
    "        kernel[:,i] = [mixfe[0],1-2*mixfe[i],mixfe[i+1]]\n",
    "    last_term[1:-1] = np.sum(sliding_window.T*kernel, axis = 0)\n",
    "    \n",
    "    #Update the last cell:\n",
    "    last_term[-1] = mixfe[-1-1]*c[-1-1] + (1-mixfe[-1])*c[-1] \n",
    "    \n",
    "    #Calculating the implicit part:\n",
    "    \n",
    "    c = last_term\n",
    "    A = np.zeros((c.shape[0],c.shape[0]))\n",
    "\n",
    "    #First row: initial_row:\n",
    "    A[0,0],A[0,1] = [(1+mixfi[0]),-mixfi[1]]\n",
    "    #Remaining middle rows:\n",
    "    for i in range(1,A.shape[0]-1):\n",
    "        A[i,i-1] = -mixfi[i-1]\n",
    "        A[i,i] = (1+2*mixfi[i])\n",
    "        A[i,i+1] = -mixfi[i+1]\n",
    "    #last row:\n",
    "    A[c.shape[0]-1,c.shape[0]-2],A[c.shape[0]-1,c.shape[0]-1] = [-mixfi[-2],1+mixfi[-1]]\n",
    "    \n",
    "    #RHS of the system of linear equations, with explicit formulation:\n",
    "    b = c\n",
    "    \n",
    "    #Solving the system of equations:\n",
    "    result = scipy.linalg.solve(A,b)\n",
    "    return result"
   ]
  },
  {
   "cell_type": "markdown",
   "id": "5307cf63-d512-451f-8dd4-d21bae6d307e",
   "metadata": {},
   "source": [
    "#### Calculate Mixf"
   ]
  },
  {
   "cell_type": "code",
   "execution_count": 4,
   "id": "64919da1-d5ab-4a04-97e1-404f328be056",
   "metadata": {},
   "outputs": [],
   "source": [
    "def sorp_corr(v,D, alpha_l, deltax,deltat, n_sub):\n",
    "    mixf = (D*deltat/(deltax**2)+alpha_l*v*deltat/deltax**2)/n_sub\n",
    "    mixf = mixf-(1-v*deltat/deltax)/2/n_sub\n",
    "    return mixf"
   ]
  },
  {
   "cell_type": "markdown",
   "id": "901026ea-45cf-4884-813b-08c4c92aa77b",
   "metadata": {},
   "source": [
    "### Model - ADE"
   ]
  },
  {
   "cell_type": "code",
   "execution_count": 5,
   "id": "448bbfa0-139a-4c69-a171-98d33c0e829d",
   "metadata": {},
   "outputs": [],
   "source": [
    "def run_model(c_in, v, D, alpha_l, c0, totx, max_time):\n",
    "    \n",
    "    ##Calculating diffusion/dispersion parameters:\n",
    "        \n",
    "    mixf = (alpha_l*v+D)\n",
    "    #Max x size (Peclet number = 0.1)\n",
    "    max_deltax = 1*mixf/v\n",
    "    x_steps_min = totx/max_deltax\n",
    "    x_steps_min = np.ceil(x_steps_min)\n",
    "    ##Correcting the xcells\n",
    "    x_steps = int(2*x_steps_min)\n",
    "    if x_steps < 10:\n",
    "        x_steps = 10\n",
    "    #Delta x:\n",
    "    deltax = totx/x_steps\n",
    "    #delta t for the advection:\n",
    "    deltat = deltax/v\n",
    "    \n",
    "    print(f'number of cells: {x_steps}')\n",
    "    print(f'deltax: {deltax}')\n",
    "    print(f'deltat: {deltat}')\n",
    "    \n",
    "    \n",
    "    #deltat for the diffusion/dispersion:\n",
    "    maxdeltat_diff = deltax**2/(3*(D+alpha_l*v))\n",
    "    n_sub = np.floor(deltat/maxdeltat_diff).astype(np.int32)\n",
    "    deltat_diff = deltat/n_sub\n",
    "    \n",
    "    #Defining time_steps\n",
    "    n_iter = np.ceil(max_time/deltat).astype(np.int32)\n",
    "    timesteps = np.arange(deltat,(n_iter +1)*deltat,deltat)\n",
    "    \n",
    "    #Defining output:\n",
    "    cell_history = np.zeros((n_iter,x_steps), dtype = np.float64)\n",
    "    outflow = np.zeros(n_iter)\n",
    "    \n",
    "    #Initial condition arrays:\n",
    "    c = np.repeat(c0,x_steps)\n",
    "    \n",
    "    #Running model\n",
    "    for i in range(n_iter):\n",
    "        #Advect\n",
    "        c_old = c.copy()\n",
    "        c,c_out = iteration_advec(c,c_in)\n",
    "        c_new = c.copy()\n",
    "        \n",
    "        #Diffuse/Disperse\n",
    "        #Calculating diffusion/dispersion parameters:\n",
    "        \n",
    "        mixf = sorp_corr(v,D, alpha_l, deltax,deltat, n_sub)\n",
    "        mixf = np.repeat(mixf,c.shape)\n",
    "        for j in range(n_sub):\n",
    "            c = iteration_crank(c, mixf, omega=1)\n",
    "        cell_history[i,:] = c\n",
    "        outflow[i] = c_out\n",
    "        \n",
    "    return (cell_history,outflow, timesteps)\n",
    "    "
   ]
  },
  {
   "cell_type": "markdown",
   "id": "6d9c7a3c-5e13-47a7-91cf-6299b3e98ab8",
   "metadata": {},
   "source": [
    "### Defining problem as a coupled ODE system:\n",
    "\n",
    "We define the coupled ODE system by assuming the discretization remains and writing the solution as a system of partial derivatives (ODE system) solved unsing a numerical solver."
   ]
  },
  {
   "cell_type": "code",
   "execution_count": 6,
   "id": "1a078fb3-c40d-4874-9af9-bbd718a4207d",
   "metadata": {},
   "outputs": [],
   "source": [
    "def f(t,y,deltax,\n",
    "      D,\n",
    "      alpha_l,\n",
    "      v,\n",
    "      c_in):\n",
    "    \n",
    "    mixf = (D + v*alpha_l)/deltax**2\n",
    "    \n",
    "    r = np.zeros(y.shape[0])\n",
    "    \n",
    "    \n",
    "    r[0] = -v*(y[0]-c_in)/(deltax/2) + (-mixf)*y[0] + mixf*y[1]\n",
    "    \n",
    "    #Update the middle_portion\n",
    "    sliding_window = np.lib.stride_tricks.sliding_window_view(y, (3))\n",
    "    kernel = np.array([mixf, -2*mixf, mixf])\n",
    "    r[1:-1] = np.dot(sliding_window,kernel)\n",
    "    #Update the last cell:\n",
    "    r[-1] = mixf*y[-1-1] + (-mixf)*y[-1]\n",
    "    r[1:-1] = r[1:-1]-v*(np.roll(y,-1)[1:-1]-np.roll(y,1)[1:-1])/(2*deltax)\n",
    "    r[-1] = r[-1]-v*(y[-1]-y[-2])/deltax\n",
    "    return r\n",
    "    \n"
   ]
  },
  {
   "cell_type": "code",
   "execution_count": 7,
   "id": "3ca1e63f-9b5c-4ea2-9819-3d50ee46919c",
   "metadata": {},
   "outputs": [],
   "source": [
    "def f_strobel(t,y,deltax,\n",
    "      D,\n",
    "      alpha_l,\n",
    "      v,\n",
    "      c_in):\n",
    "    \n",
    "    mixf = (D + v*alpha_l)/deltax**2\n",
    "    \n",
    "    r = np.zeros(y.shape[0])\n",
    "    \n",
    "    c_up = np.concatenate([np.array([c_in]),y])\n",
    "    r = -v*np.diff(c_up)/deltax\n",
    "    r[0] = + (-mixf)*y[0] + mixf*y[1]\n",
    "    \n",
    "    #Update the middle_portion\n",
    "    sliding_window = np.lib.stride_tricks.sliding_window_view(y, (3))\n",
    "    kernel = np.array([mixf, -2*mixf, mixf])\n",
    "    r[1:-1] = np.dot(sliding_window,kernel)\n",
    "    #Update the last cell:\n",
    "    r[-1] = mixf*y[-1-1] + (-mixf)*y[-1]\n",
    "    r[1:-1] = r[1:-1]-v*(np.roll(y,-1)[1:-1]-np.roll(y,1)[1:-1])/(2*deltax)\n",
    "    r[-1] = r[-1]-v*(y[-1]-y[-2])/deltax\n",
    "    return r\n",
    "    \n"
   ]
  },
  {
   "cell_type": "markdown",
   "id": "bf2049b6-568e-48c2-a5bc-904c94a70959",
   "metadata": {},
   "source": [
    "#### Trying to write Jacobian function:"
   ]
  },
  {
   "cell_type": "code",
   "execution_count": 8,
   "id": "2c9ffe21-d8f7-4e6d-b3e0-8eaf1416a7e4",
   "metadata": {},
   "outputs": [],
   "source": [
    "def jacob(t, y, deltax,D,alpha_l,v,c_in):\n",
    "    mixf = (D + v*alpha_l)/deltax**2\n",
    "    adv_step = v/deltax\n",
    "    size = y.shape[0]\n",
    "    j = np.zeros((size,size))\n",
    "    j[0,0] = -v/(deltax/2)-mixf\n",
    "    j[0,1] = mixf\n",
    "    for i in range(1,size-1):\n",
    "        j[i,i-1] = -v/(2*deltax) + mixf\n",
    "        j[i,i] = -2*mixf\n",
    "        j[i,i+1] = v/(2*deltax) + mixf\n",
    "    j[size-1,size-2] = v/deltax + mixf\n",
    "    j[size-1,size-1] = -v/deltax - mixf\n",
    "    return j"
   ]
  },
  {
   "cell_type": "markdown",
   "id": "9fdfd0df-b790-4bbf-bec9-4c7c28a4afd5",
   "metadata": {},
   "source": [
    "#### Running Problem:\n",
    "\n",
    "Model the linear retardation of y-HCH in a 5 cm long and 5 cm diameter lab column with a sandy aquifer sample."
   ]
  },
  {
   "cell_type": "markdown",
   "id": "a5de2519-4c3e-4241-b559-723d5e38bff0",
   "metadata": {},
   "source": [
    "#### input"
   ]
  },
  {
   "cell_type": "code",
   "execution_count": 9,
   "id": "729718e9-18fb-487d-bf0c-69030ba149fe",
   "metadata": {},
   "outputs": [],
   "source": [
    "organic_carbon_aquifer = 0.05 #%\n",
    "porosity = 0.3\n",
    "alpha_l = 1e-3 #dispersivity [dm]\n",
    "injected_volume = 450 #ml\n",
    "flow_rate = 10*1e-5/3600 #l/hr\n",
    "De = 1e-9\n",
    "Kd = 6\n",
    "c_in = 20 #microg/L"
   ]
  },
  {
   "cell_type": "code",
   "execution_count": 10,
   "id": "ccc9925d-5128-4764-b5a9-ae615294013c",
   "metadata": {},
   "outputs": [],
   "source": [
    "c0 = 0\n",
    "q0 = 0\n",
    "v = flow_rate/(np.pi*2.5**2*1e-2)/porosity\n",
    "pore_volume = (np.pi*2.5**2)*5*1e-3\n",
    "totx = 0.5 #dm\n",
    "R = 1\n",
    "max_time = 700*3600"
   ]
  },
  {
   "cell_type": "code",
   "execution_count": 11,
   "id": "cdc53de5-a710-4bff-acbf-3e8c43f446e0",
   "metadata": {},
   "outputs": [
    {
     "data": {
      "text/plain": [
       "4.7157020175376405e-07"
      ]
     },
     "execution_count": 11,
     "metadata": {},
     "output_type": "execute_result"
    }
   ],
   "source": [
    "v"
   ]
  },
  {
   "cell_type": "markdown",
   "id": "36bcfdcd-be71-454a-905c-033942d5837c",
   "metadata": {},
   "source": [
    "#### Operator-Split approach"
   ]
  },
  {
   "cell_type": "code",
   "execution_count": 12,
   "id": "a22d01b5-dea2-41ac-8c8e-e299fdb1a4b5",
   "metadata": {},
   "outputs": [],
   "source": [
    "import timeit"
   ]
  },
  {
   "cell_type": "code",
   "execution_count": 13,
   "id": "fcc91492-336a-40c9-87b5-9463c7f3a115",
   "metadata": {},
   "outputs": [
    {
     "name": "stdout",
     "output_type": "stream",
     "text": [
      "number of cells: 322\n",
      "deltax: 0.0015527950310559005\n",
      "deltat: 3292.818386914767\n",
      "Elapsed time: 8.106221553000069 s\n"
     ]
    }
   ],
   "source": [
    "# record start time\n",
    "t_0 = timeit.default_timer()\n",
    "c_out,c_outflow, timesteps = run_model(c_in, v, De, alpha_l, c0, totx, max_time)\n",
    "\n",
    "# record end time\n",
    "t_1 = timeit.default_timer()\n",
    "# calculate elapsed time and print\n",
    "elapsed_time = (t_1 - t_0)\n",
    "print(f\"Elapsed time: {elapsed_time} s\")"
   ]
  },
  {
   "cell_type": "markdown",
   "id": "83936b74-338f-452c-8210-9626d801cd73",
   "metadata": {},
   "source": [
    "### Coupled ODESolver approach"
   ]
  },
  {
   "cell_type": "markdown",
   "id": "d6556795-03b7-44ee-be8b-49cc65520001",
   "metadata": {},
   "source": [
    "This process is not mature yet, however we can get an accurate result with a very large number of cells."
   ]
  },
  {
   "cell_type": "code",
   "execution_count": 14,
   "id": "fbd4fd94-f623-4f42-81e6-a275552541ea",
   "metadata": {},
   "outputs": [
    {
     "name": "stdout",
     "output_type": "stream",
     "text": [
      "161.0\n"
     ]
    },
    {
     "data": {
      "text/plain": [
       "array([0, 0, 0, 0, 0, 0, 0, 0, 0, 0, 0, 0, 0, 0, 0, 0, 0, 0, 0, 0, 0, 0,\n",
       "       0, 0, 0, 0, 0, 0, 0, 0, 0, 0, 0, 0, 0, 0, 0, 0, 0, 0, 0, 0, 0, 0,\n",
       "       0, 0, 0, 0, 0, 0, 0, 0, 0, 0, 0, 0, 0, 0, 0, 0, 0, 0, 0, 0, 0, 0,\n",
       "       0, 0, 0, 0, 0, 0, 0, 0, 0, 0, 0, 0, 0, 0, 0, 0, 0, 0, 0, 0, 0, 0,\n",
       "       0, 0, 0, 0, 0, 0, 0, 0, 0, 0, 0, 0, 0, 0, 0, 0, 0, 0, 0, 0, 0, 0,\n",
       "       0, 0, 0, 0, 0, 0, 0, 0, 0, 0, 0, 0, 0, 0, 0, 0, 0, 0, 0, 0, 0, 0,\n",
       "       0, 0, 0, 0, 0, 0, 0, 0, 0, 0, 0, 0, 0, 0, 0, 0, 0, 0, 0, 0, 0, 0,\n",
       "       0, 0, 0, 0, 0, 0, 0])"
      ]
     },
     "execution_count": 14,
     "metadata": {},
     "output_type": "execute_result"
    }
   ],
   "source": [
    "mixf = (alpha_l*v+De)\n",
    "#Max x size (Peclet number = 0.1)\n",
    "max_deltax = 1*mixf/v\n",
    "x_steps_min = totx/max_deltax\n",
    "x_steps_min = np.ceil(x_steps_min)\n",
    "print(x_steps_min)\n",
    "\n",
    "n_cells = int(x_steps_min)\n",
    "deltax = totx/n_cells\n",
    "y0 = np.repeat(0,n_cells)\n",
    "y0"
   ]
  },
  {
   "cell_type": "code",
   "execution_count": 15,
   "id": "8e086b2f-5c7e-4f94-a47b-ced38e803f66",
   "metadata": {},
   "outputs": [],
   "source": [
    "mixf = (De + v*alpha_l)/deltax**2\n",
    "r = np.zeros(y0.shape[0])"
   ]
  },
  {
   "cell_type": "code",
   "execution_count": 16,
   "id": "fc9ae8e7-9fe5-4053-b1a5-bb7429f4cb02",
   "metadata": {
    "tags": []
   },
   "outputs": [
    {
     "name": "stdout",
     "output_type": "stream",
     "text": [
      "Elapsed time: 0.290193965999606 s\n"
     ]
    }
   ],
   "source": [
    "# record start time\n",
    "t_0 = timeit.default_timer()\n",
    "c_ode = scipy.integrate.odeint(f,y0,timesteps,args = (deltax,De,alpha_l,v,c_in), \n",
    "                              #Dfun = jacob, \n",
    "                              tfirst = True,\n",
    "                              hmax = 2*deltax**2/(3*(De+v*alpha_l)),\n",
    "                              atol = 1e-10, rtol = 1e-10)\n",
    "# record end time\n",
    "t_1 = timeit.default_timer()\n",
    "# calculate elapsed time and print\n",
    "elapsed_time = (t_1 - t_0)\n",
    "print(f\"Elapsed time: {elapsed_time} s\")"
   ]
  },
  {
   "cell_type": "code",
   "execution_count": 17,
   "id": "3091bd36-ad7f-4b6e-a4ae-2dccedc97b81",
   "metadata": {},
   "outputs": [
    {
     "name": "stdout",
     "output_type": "stream",
     "text": [
      "Elapsed time: 0.19535670000004757 s\n"
     ]
    }
   ],
   "source": [
    "# record start time\n",
    "t_0 = timeit.default_timer()\n",
    "c_ode_j = scipy.integrate.odeint(f,y0,timesteps,args = (deltax,De,alpha_l,v,c_in), \n",
    "                              Dfun = jacob, \n",
    "                              tfirst = True,\n",
    "                              hmax = 2*deltax**2/(3*(De+v*alpha_l)),\n",
    "                              atol = 1e-11, rtol = 1e-11)\n",
    "# record end time\n",
    "t_1 = timeit.default_timer()\n",
    "# calculate elapsed time and print\n",
    "elapsed_time = (t_1 - t_0)\n",
    "print(f\"Elapsed time: {elapsed_time} s\")"
   ]
  },
  {
   "cell_type": "code",
   "execution_count": 18,
   "id": "8b978e12-8c55-44fe-b881-f3bf12f28e44",
   "metadata": {},
   "outputs": [],
   "source": [
    "cumulated_volume = flow_rate*timesteps"
   ]
  },
  {
   "cell_type": "code",
   "execution_count": 19,
   "id": "7817fe21-dc2f-420f-a30b-a3ea258606f7",
   "metadata": {},
   "outputs": [
    {
     "data": {
      "text/plain": [
       "array([20., 20., 20., 20., 20., 20., 20., 20., 20., 20., 20., 20., 20.,\n",
       "       20., 20., 20., 20., 20., 20., 20., 20., 20., 20., 20., 20., 20.,\n",
       "       20., 20., 20., 20., 20., 20., 20., 20., 20., 20., 20., 20., 20.,\n",
       "       20., 20., 20., 20., 20., 20., 20., 20., 20., 20., 20., 20., 20.,\n",
       "       20., 20., 20., 20., 20., 20., 20., 20., 20., 20., 20., 20., 20.,\n",
       "       20., 20., 20., 20., 20., 20., 20., 20., 20., 20., 20., 20., 20.,\n",
       "       20., 20., 20., 20., 20., 20., 20., 20., 20., 20., 20., 20., 20.,\n",
       "       20., 20., 20., 20., 20., 20., 20., 20., 20., 20., 20., 20., 20.,\n",
       "       20., 20., 20., 20., 20., 20., 20., 20., 20., 20., 20., 20., 20.,\n",
       "       20., 20., 20., 20., 20., 20., 20., 20., 20., 20., 20., 20., 20.,\n",
       "       20., 20., 20., 20., 20., 20., 20., 20., 20., 20., 20., 20., 20.,\n",
       "       20., 20., 20., 20., 20., 20., 20., 20., 20., 20., 20., 20., 20.,\n",
       "       20., 20., 20., 20., 20.])"
      ]
     },
     "execution_count": 19,
     "metadata": {},
     "output_type": "execute_result"
    }
   ],
   "source": [
    "c_ode[-1,:].squeeze()"
   ]
  },
  {
   "cell_type": "markdown",
   "id": "02372fe7-13eb-4ba5-b40f-87842910f0b8",
   "metadata": {},
   "source": [
    "### Analytical solution:"
   ]
  },
  {
   "cell_type": "code",
   "execution_count": 20,
   "id": "db68f411-cfa5-4b08-9889-f02e186cb368",
   "metadata": {},
   "outputs": [],
   "source": [
    "def analytical(t,c_in,L,v,Dl,R):\n",
    "    c = (c_in/2)*(scipy.special.erfc((L-v*t/R)/(np.sqrt(4*Dl*t/R)))+np.exp(v*L/Dl)*\n",
    "                  scipy.special.erfc((L+v*t/R)/np.sqrt(4*Dl*t/R)))\n",
    "    return c"
   ]
  },
  {
   "cell_type": "code",
   "execution_count": 21,
   "id": "c1a611bd-8e2e-4431-9526-43ee14eaca8c",
   "metadata": {},
   "outputs": [],
   "source": [
    "c_out_ana = np.zeros(timesteps.shape)\n",
    "Dl = De+v*alpha_l\n",
    "for i in range(timesteps.shape[0]):\n",
    "    c_out_ana[i] = analytical(timesteps[i],c_in,totx,v,Dl,R) \n",
    "    "
   ]
  },
  {
   "cell_type": "code",
   "execution_count": 22,
   "id": "cb26e334-41fb-4ec8-9296-d49852011009",
   "metadata": {},
   "outputs": [
    {
     "data": {
      "text/plain": [
       "0.0"
      ]
     },
     "execution_count": 22,
     "metadata": {},
     "output_type": "execute_result"
    }
   ],
   "source": [
    "analytical(timesteps[3],c_in,totx,v,Dl,R) "
   ]
  },
  {
   "cell_type": "code",
   "execution_count": 23,
   "id": "8bf255d6-49a4-4cbb-a914-a77ecdf3d566",
   "metadata": {},
   "outputs": [],
   "source": [
    "pore_flushes = cumulated_volume/pore_volume\n",
    "#pore_flushes[::7]"
   ]
  },
  {
   "cell_type": "markdown",
   "id": "d6131435-8f65-46ea-8f28-00eb74d261d9",
   "metadata": {},
   "source": [
    "#### Plotting and comparing solutions:"
   ]
  },
  {
   "cell_type": "code",
   "execution_count": 24,
   "id": "2b06a65e-cf32-41ad-ad96-88bacc44f110",
   "metadata": {},
   "outputs": [
    {
     "data": {
      "text/plain": [
       "Text(0, 0.5, '[y-HCH] [$\\\\mu g/L$]')"
      ]
     },
     "execution_count": 24,
     "metadata": {},
     "output_type": "execute_result"
    },
    {
     "data": {
      "image/png": "[encoded data removed]",
      "text/plain": [
       "<Figure size 1400x800 with 1 Axes>"
      ]
     },
     "metadata": {},
     "output_type": "display_data"
    }
   ],
   "source": [
    "fig = plt.figure(figsize = (14,8))\n",
    "ax = fig.add_subplot(111)\n",
    "ax.plot(pore_flushes[::15],c_out_ana[::15], 'Dr', label = 'analytical solution')\n",
    "ax.plot(pore_flushes,c_outflow,'--k', label = 'O-S numerical solution')\n",
    "ax.plot(pore_flushes,c_ode[:,-1], '-.k', label = 'coupled ode solution')\n",
    "ax.plot(pore_flushes,c_ode_j[:,-1], '-.r', label = 'coupled ode solution + jacobian')\n",
    "\n",
    "#ax.set_xlim([0,6])\n",
    "ax.legend()\n",
    "ax.set_xlabel('Pore Volumes [n]')\n",
    "ax.set_ylabel(r'[y-HCH] [$\\mu g/L$]')"
   ]
  }
 ],
 "metadata": {
  "kernelspec": {
   "display_name": "Python 3 (ipykernel)",
   "language": "python",
   "name": "python3"
  },
  "language_info": {
   "codemirror_mode": {
    "name": "ipython",
    "version": 3
   },
   "file_extension": ".py",
   "mimetype": "text/x-python",
   "name": "python",
   "nbconvert_exporter": "python",
   "pygments_lexer": "ipython3",
   "version": "3.10.8"
  }
 },
 "nbformat": 4,
 "nbformat_minor": 5
}
