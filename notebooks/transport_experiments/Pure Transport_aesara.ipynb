{
 "cells": [
  {
   "cell_type": "markdown",
   "id": "9f8ddbd5-b6b2-4e0f-8f36-224182016724",
   "metadata": {},
   "source": [
    "$$\\require{mhchem}$$\n",
    "# Transport Problem: Advection + Diffusion, Dispersion\n"
   ]
  },
  {
   "cell_type": "code",
   "execution_count": null,
   "id": "13ad1024-bc46-496a-a1ea-649a326f395a",
   "metadata": {},
   "outputs": [],
   "source": []
  },
  {
   "cell_type": "markdown",
   "id": "7d135505-17c1-4d9e-b1ef-36933dc75c66",
   "metadata": {},
   "source": [
    "$\\frac{\\partial c}{\\partial t}_x = -v\\left(\\frac{\\partial c}{\\partial x} \\right)$"
   ]
  },
  {
   "cell_type": "markdown",
   "id": "c5c3e096-4851-4f9a-9451-591c23326ca9",
   "metadata": {},
   "source": [
    "## Finite-Differences Solution"
   ]
  },
  {
   "cell_type": "markdown",
   "id": "ab3975a7-ac57-4e85-814a-d1f99782e63a",
   "metadata": {},
   "source": [
    "Advection step:\n",
    "\n",
    "$\\Delta t = v*\\Delta x$\n",
    "\n",
    "Thus:\n",
    "\n",
    "${c_x}^{t2} = {c_{x-1}}^{t1}$"
   ]
  },
  {
   "cell_type": "markdown",
   "id": "5f39e3f3-2470-4b78-95c2-7ff48d231345",
   "metadata": {},
   "source": [
    "We need to correct for Numerical dispersion if retardation occurs."
   ]
  },
  {
   "cell_type": "markdown",
   "id": "e9b5c418-85e0-44c5-ae04-200588be08cf",
   "metadata": {},
   "source": [
    "${c_x}^{t2} + {q_x}^{t2} = {c_{x-1}}^{t1} + {q_x}^{t1} + (1-\\omega)*\\left[ \\frac{D_e \\Delta t}{(\\Delta x)^2} \\left({c_{x-1}}^{t1}-2 {c_{x}}^{t1}+{c_{x+1}}^{t1}\\right) -v \\frac{\\Delta t}{\\Delta x}\\left(\\alpha {c_{x-1}}^{t1} +(1-2\\alpha) {c_{x1}}^{t1} + \\alpha {c_{x+1}}^{t1}\\right)\\right]+  \n",
    "\\omega*\\left[ \\frac{D_e \\Delta t}{(\\Delta x)^2} \\left({c_{x-1}}^{t2}-2 {c_{x}}^{t2}+{c_{x+1}}^{t2}\\right) -v \\frac{\\Delta t}{\\Delta x}\\left(\\alpha {c_{x-1}}^{t2} +(1-2\\alpha) {c_{x1}}^{t2} + \\alpha {c_{x+1}}^{t2}\\right)\\right]$"
   ]
  },
  {
   "cell_type": "markdown",
   "id": "ad5eb0c4-5c73-4f97-9127-5a0df9548870",
   "metadata": {},
   "source": [
    "## Model"
   ]
  },
  {
   "cell_type": "markdown",
   "id": "feb265c3-247f-4863-9b80-0c4b501e8bbe",
   "metadata": {},
   "source": [
    "#### libraries"
   ]
  },
  {
   "cell_type": "code",
   "execution_count": 1,
   "id": "32feeed4-e4f2-4765-97c6-1c4caa45a98d",
   "metadata": {},
   "outputs": [
    {
     "name": "stderr",
     "output_type": "stream",
     "text": [
      "WARNING (aesara.tensor.blas): Using NumPy C-API based implementation for BLAS functions.\n"
     ]
    }
   ],
   "source": [
    "import numpy as np\n",
    "import scipy\n",
    "import matplotlib.pyplot as plt\n",
    "import aesara\n",
    "import aesara.tensor as at"
   ]
  },
  {
   "cell_type": "markdown",
   "id": "6d9c7a3c-5e13-47a7-91cf-6299b3e98ab8",
   "metadata": {},
   "source": [
    "### Defining problem as a coupled ODE system:\n",
    "\n",
    "We define the coupled ODE system by assuming the discretization remains and writing the solution as a system of partial derivatives (ODE system) solved unsing a numerical solver."
   ]
  },
  {
   "cell_type": "code",
   "execution_count": 2,
   "id": "1a078fb3-c40d-4874-9af9-bbd718a4207d",
   "metadata": {},
   "outputs": [],
   "source": [
    "def f(t,y,deltax,\n",
    "      D,\n",
    "      alpha_l,\n",
    "      v,\n",
    "      c_in):\n",
    "    \n",
    "    mixf = (D + v*alpha_l)/deltax**2\n",
    "    \n",
    "    r = np.zeros(y.shape[0])\n",
    "    \n",
    "    \n",
    "    r[0] = -v*(y[0]-c_in)/(deltax/2) + (-mixf)*y[0] + mixf*y[1]\n",
    "    \n",
    "    #Update the middle_portion\n",
    "    sliding_window = np.lib.stride_tricks.sliding_window_view(y, (3))\n",
    "    kernel = np.array([mixf, -2*mixf, mixf])\n",
    "    r[1:-1] = np.dot(sliding_window,kernel)\n",
    "    #Update the last cell:\n",
    "    r[-1] = mixf*y[-1-1] + (-mixf)*y[-1]\n",
    "    r[1:-1] = r[1:-1]-v*(np.roll(y,-1)[1:-1]-np.roll(y,1)[1:-1])/(2*deltax)\n",
    "    r[-1] = r[-1]-v*(y[-1]-y[-2])/deltax\n",
    "    return r\n",
    "    \n"
   ]
  },
  {
   "cell_type": "markdown",
   "id": "301dd377-0ac0-4543-8181-2fb2960eb361",
   "metadata": {},
   "source": [
    "ode_system(0,ode_system(5,ode_system(5,y0,deltax,De,alpha_l,v,c_in),deltax,De,alpha_l,v,c_in),deltax,De,alpha_l,v,c_in)"
   ]
  },
  {
   "cell_type": "markdown",
   "id": "9fdfd0df-b790-4bbf-bec9-4c7c28a4afd5",
   "metadata": {},
   "source": [
    "#### Running Problem:\n",
    "\n",
    "Model the linear retardation of y-HCH in a 5 cm long and 5 cm diameter lab column with a sandy aquifer sample."
   ]
  },
  {
   "cell_type": "markdown",
   "id": "a5de2519-4c3e-4241-b559-723d5e38bff0",
   "metadata": {},
   "source": [
    "#### input"
   ]
  },
  {
   "cell_type": "code",
   "execution_count": 3,
   "id": "729718e9-18fb-487d-bf0c-69030ba149fe",
   "metadata": {},
   "outputs": [],
   "source": [
    "organic_carbon_aquifer = 0.05 #%\n",
    "porosity = 0.3\n",
    "alpha_l = 1e-3 #dispersivity [dm]\n",
    "injected_volume = 450 #ml\n",
    "flow_rate = 10*1e-5/3600 #l/hr\n",
    "De = 1e-9\n",
    "Kd = 6\n",
    "c_in = 20 #microg/L"
   ]
  },
  {
   "cell_type": "code",
   "execution_count": 4,
   "id": "ccc9925d-5128-4764-b5a9-ae615294013c",
   "metadata": {},
   "outputs": [],
   "source": [
    "c0 = 0\n",
    "q0 = 0\n",
    "v = flow_rate/(np.pi*2.5**2*1e-2)/porosity\n",
    "pore_volume = (np.pi*2.5**2)*5*1e-3\n",
    "totx = 0.5 #dm\n",
    "R = 1\n",
    "max_time = 700*3600"
   ]
  },
  {
   "cell_type": "code",
   "execution_count": 5,
   "id": "cdc53de5-a710-4bff-acbf-3e8c43f446e0",
   "metadata": {},
   "outputs": [
    {
     "data": {
      "text/plain": [
       "4.7157020175376405e-07"
      ]
     },
     "execution_count": 5,
     "metadata": {},
     "output_type": "execute_result"
    }
   ],
   "source": [
    "v"
   ]
  },
  {
   "cell_type": "markdown",
   "id": "83936b74-338f-452c-8210-9626d801cd73",
   "metadata": {},
   "source": [
    "### Coupled ODESolver approach"
   ]
  },
  {
   "cell_type": "markdown",
   "id": "d6556795-03b7-44ee-be8b-49cc65520001",
   "metadata": {},
   "source": [
    "This process is not mature yet, however we can get an accurate result with a very large number of cells."
   ]
  },
  {
   "cell_type": "code",
   "execution_count": 6,
   "id": "fbd4fd94-f623-4f42-81e6-a275552541ea",
   "metadata": {},
   "outputs": [
    {
     "name": "stdout",
     "output_type": "stream",
     "text": [
      "161.0\n"
     ]
    },
    {
     "data": {
      "text/plain": [
       "array([0, 0, 0, 0, 0, 0, 0, 0, 0, 0, 0, 0, 0, 0, 0, 0, 0, 0, 0, 0, 0, 0,\n",
       "       0, 0, 0, 0, 0, 0, 0, 0, 0, 0, 0, 0, 0, 0, 0, 0, 0, 0, 0, 0, 0, 0,\n",
       "       0, 0, 0, 0, 0, 0, 0, 0, 0, 0, 0, 0, 0, 0, 0, 0, 0, 0, 0, 0, 0, 0,\n",
       "       0, 0, 0, 0, 0, 0, 0, 0, 0, 0, 0, 0, 0, 0, 0, 0, 0, 0, 0, 0, 0, 0,\n",
       "       0, 0, 0, 0, 0, 0, 0, 0, 0, 0, 0, 0, 0, 0, 0, 0, 0, 0, 0, 0, 0, 0,\n",
       "       0, 0, 0, 0, 0, 0, 0, 0, 0, 0, 0, 0, 0, 0, 0, 0, 0, 0, 0, 0, 0, 0,\n",
       "       0, 0, 0, 0, 0, 0, 0, 0, 0, 0, 0, 0, 0, 0, 0, 0, 0, 0, 0, 0, 0, 0,\n",
       "       0, 0, 0, 0, 0, 0, 0])"
      ]
     },
     "execution_count": 6,
     "metadata": {},
     "output_type": "execute_result"
    }
   ],
   "source": [
    "mixf = (alpha_l*v+De)\n",
    "#Max x size (Peclet number = 0.1)\n",
    "max_deltax = 1*mixf/v\n",
    "x_steps_min = totx/max_deltax\n",
    "x_steps_min = np.ceil(x_steps_min)\n",
    "print(x_steps_min)\n",
    "\n",
    "ncells = int(x_steps_min)\n",
    "deltax = totx/ncells\n",
    "y0 = np.repeat(0,ncells)\n",
    "y0"
   ]
  },
  {
   "cell_type": "code",
   "execution_count": 7,
   "id": "a1749d43-fad5-4ca5-a2ce-aa8e250fc2b6",
   "metadata": {},
   "outputs": [
    {
     "data": {
      "text/plain": [
       "2520000"
      ]
     },
     "execution_count": 7,
     "metadata": {},
     "output_type": "execute_result"
    }
   ],
   "source": [
    "max_time"
   ]
  },
  {
   "cell_type": "code",
   "execution_count": 8,
   "id": "8e086b2f-5c7e-4f94-a47b-ced38e803f66",
   "metadata": {},
   "outputs": [],
   "source": [
    "mixf = (De + v*alpha_l)/deltax**2\n"
   ]
  },
  {
   "cell_type": "code",
   "execution_count": 9,
   "id": "6dceff97-9c59-4384-afa2-5132bc1c9e98",
   "metadata": {},
   "outputs": [],
   "source": [
    "timesteps = np.arange(0,max_time,60)"
   ]
  },
  {
   "cell_type": "code",
   "execution_count": 10,
   "id": "891348b7-d6fa-4d9f-994f-c3944e718d7a",
   "metadata": {},
   "outputs": [
    {
     "data": {
      "text/plain": [
       "array([      0,      60,     120, ..., 2519820, 2519880, 2519940])"
      ]
     },
     "execution_count": 10,
     "metadata": {},
     "output_type": "execute_result"
    }
   ],
   "source": [
    "timesteps"
   ]
  },
  {
   "cell_type": "markdown",
   "id": "4be3b629-63b4-4c2b-ac95-9752c67fcb36",
   "metadata": {},
   "source": [
    "## Aesara Tensor formulation"
   ]
  },
  {
   "cell_type": "code",
   "execution_count": null,
   "id": "751b32fb-93a6-4947-8d21-c3a18112e959",
   "metadata": {},
   "outputs": [],
   "source": []
  },
  {
   "cell_type": "code",
   "execution_count": 11,
   "id": "cf416800-0965-40f6-a463-ea35c889e156",
   "metadata": {},
   "outputs": [],
   "source": [
    "from aesara.tensor.subtensor import set_subtensor"
   ]
  },
  {
   "cell_type": "code",
   "execution_count": 12,
   "id": "e9719b68-2084-4ec5-baf8-7985d69a356a",
   "metadata": {
    "tags": []
   },
   "outputs": [],
   "source": [
    "velo_ = at.dscalar('velo')\n",
    "c_in_ = at.dscalar('c_in')\n",
    "deltax_ = at.dscalar('dx')\n",
    "mixf_ = at.dscalar('mixf')\n",
    "\n",
    "y_ = at.dvector('y')\n",
    "y_ = at.specify_shape(y_, (ncells))\n",
    "\n",
    "\n",
    "r = at.zeros_like(y_, dtype = 'float64')\n",
    "\n",
    "r = set_subtensor(r[0], -velo_*(y_[0]-c_in_)*2/deltax_ +mixf_*y_[0] + mixf_*y_[1])\n",
    "\n",
    "for i in range(1,ncells-1):\n",
    "    r = set_subtensor(r[i], mixf_*y_[i-1] - 2*mixf_*y_[i] + mixf_*y_[i+1] + (-velo_)*(y_[i+1] - y_[i-1])/(2*deltax_))\n",
    "\n",
    "r_last = mixf_*y_[-2] - mixf_*y_[-1] -velo_*(y_[-1] - y_[-2])/deltax_\n",
    "r = set_subtensor(r[-1], r_last)\n",
    "\n",
    "f = aesara.function([y_,velo_,c_in_,deltax_,mixf_], r)\n",
    "\n"
   ]
  },
  {
   "cell_type": "code",
   "execution_count": 13,
   "id": "bcb814b0-bbd7-4907-a6e5-fbf8e4f0593f",
   "metadata": {},
   "outputs": [
    {
     "data": {
      "text/plain": [
       "array([6.07290672e-03, 1.38724219e-06, 3.17131046e-10, 0.00000000e+00,\n",
       "       0.00000000e+00, 0.00000000e+00, 0.00000000e+00, 0.00000000e+00,\n",
       "       0.00000000e+00, 0.00000000e+00, 0.00000000e+00, 0.00000000e+00,\n",
       "       0.00000000e+00, 0.00000000e+00, 0.00000000e+00, 0.00000000e+00,\n",
       "       0.00000000e+00, 0.00000000e+00, 0.00000000e+00, 0.00000000e+00,\n",
       "       0.00000000e+00, 0.00000000e+00, 0.00000000e+00, 0.00000000e+00,\n",
       "       0.00000000e+00, 0.00000000e+00, 0.00000000e+00, 0.00000000e+00,\n",
       "       0.00000000e+00, 0.00000000e+00, 0.00000000e+00, 0.00000000e+00,\n",
       "       0.00000000e+00, 0.00000000e+00, 0.00000000e+00, 0.00000000e+00,\n",
       "       0.00000000e+00, 0.00000000e+00, 0.00000000e+00, 0.00000000e+00,\n",
       "       0.00000000e+00, 0.00000000e+00, 0.00000000e+00, 0.00000000e+00,\n",
       "       0.00000000e+00, 0.00000000e+00, 0.00000000e+00, 0.00000000e+00,\n",
       "       0.00000000e+00, 0.00000000e+00, 0.00000000e+00, 0.00000000e+00,\n",
       "       0.00000000e+00, 0.00000000e+00, 0.00000000e+00, 0.00000000e+00,\n",
       "       0.00000000e+00, 0.00000000e+00, 0.00000000e+00, 0.00000000e+00,\n",
       "       0.00000000e+00, 0.00000000e+00, 0.00000000e+00, 0.00000000e+00,\n",
       "       0.00000000e+00, 0.00000000e+00, 0.00000000e+00, 0.00000000e+00,\n",
       "       0.00000000e+00, 0.00000000e+00, 0.00000000e+00, 0.00000000e+00,\n",
       "       0.00000000e+00, 0.00000000e+00, 0.00000000e+00, 0.00000000e+00,\n",
       "       0.00000000e+00, 0.00000000e+00, 0.00000000e+00, 0.00000000e+00,\n",
       "       0.00000000e+00, 0.00000000e+00, 0.00000000e+00, 0.00000000e+00,\n",
       "       0.00000000e+00, 0.00000000e+00, 0.00000000e+00, 0.00000000e+00,\n",
       "       0.00000000e+00, 0.00000000e+00, 0.00000000e+00, 0.00000000e+00,\n",
       "       0.00000000e+00, 0.00000000e+00, 0.00000000e+00, 0.00000000e+00,\n",
       "       0.00000000e+00, 0.00000000e+00, 0.00000000e+00, 0.00000000e+00,\n",
       "       0.00000000e+00, 0.00000000e+00, 0.00000000e+00, 0.00000000e+00,\n",
       "       0.00000000e+00, 0.00000000e+00, 0.00000000e+00, 0.00000000e+00,\n",
       "       0.00000000e+00, 0.00000000e+00, 0.00000000e+00, 0.00000000e+00,\n",
       "       0.00000000e+00, 0.00000000e+00, 0.00000000e+00, 0.00000000e+00,\n",
       "       0.00000000e+00, 0.00000000e+00, 0.00000000e+00, 0.00000000e+00,\n",
       "       0.00000000e+00, 0.00000000e+00, 0.00000000e+00, 0.00000000e+00,\n",
       "       0.00000000e+00, 0.00000000e+00, 0.00000000e+00, 0.00000000e+00,\n",
       "       0.00000000e+00, 0.00000000e+00, 0.00000000e+00, 0.00000000e+00,\n",
       "       0.00000000e+00, 0.00000000e+00, 0.00000000e+00, 0.00000000e+00,\n",
       "       0.00000000e+00, 0.00000000e+00, 0.00000000e+00, 0.00000000e+00,\n",
       "       0.00000000e+00, 0.00000000e+00, 0.00000000e+00, 0.00000000e+00,\n",
       "       0.00000000e+00, 0.00000000e+00, 0.00000000e+00, 0.00000000e+00,\n",
       "       0.00000000e+00, 0.00000000e+00, 0.00000000e+00, 0.00000000e+00,\n",
       "       0.00000000e+00, 0.00000000e+00, 0.00000000e+00, 0.00000000e+00,\n",
       "       0.00000000e+00, 0.00000000e+00, 0.00000000e+00, 0.00000000e+00,\n",
       "       0.00000000e+00])"
      ]
     },
     "execution_count": 13,
     "metadata": {},
     "output_type": "execute_result"
    }
   ],
   "source": [
    "f(f(f(y0,v,c_in,deltax,mixf),v,c_in,deltax,mixf),v,c_in,deltax,mixf)"
   ]
  },
  {
   "cell_type": "code",
   "execution_count": 14,
   "id": "6868b103-92b1-4070-a601-96b45379b4a1",
   "metadata": {},
   "outputs": [],
   "source": [
    "jac = aesara.gradient.jacobian(r, [y_])"
   ]
  },
  {
   "cell_type": "code",
   "execution_count": 15,
   "id": "007d5013-144e-411e-a5a2-60d7c28ee80d",
   "metadata": {},
   "outputs": [
    {
     "data": {
      "text/plain": [
       "array([[-1.51112925e-04,  1.52578285e-04,  0.00000000e+00, ...,\n",
       "         0.00000000e+00,  0.00000000e+00,  0.00000000e+00],\n",
       "       [ 2.28501087e-04, -3.05156570e-04,  7.66554823e-05, ...,\n",
       "         0.00000000e+00,  0.00000000e+00,  0.00000000e+00],\n",
       "       [ 0.00000000e+00,  2.28501087e-04, -3.05156570e-04, ...,\n",
       "         0.00000000e+00,  0.00000000e+00,  0.00000000e+00],\n",
       "       ...,\n",
       "       [ 0.00000000e+00,  0.00000000e+00,  0.00000000e+00, ...,\n",
       "        -3.05156570e-04,  7.66554823e-05,  0.00000000e+00],\n",
       "       [ 0.00000000e+00,  0.00000000e+00,  0.00000000e+00, ...,\n",
       "         2.28501087e-04, -3.05156570e-04,  7.66554823e-05],\n",
       "       [ 0.00000000e+00,  0.00000000e+00,  0.00000000e+00, ...,\n",
       "         0.00000000e+00,  3.04423890e-04, -3.04423890e-04]])"
      ]
     },
     "execution_count": 15,
     "metadata": {},
     "output_type": "execute_result"
    }
   ],
   "source": [
    "jac[0].eval({y_: y0, velo_: v, deltax_: deltax, c_in_: c_in, mixf_: mixf})"
   ]
  },
  {
   "cell_type": "code",
   "execution_count": 16,
   "id": "844605ff-b9f6-478d-aae0-2c619447bae6",
   "metadata": {},
   "outputs": [],
   "source": [
    "def ode_system(t,y,deltax,D,alpha_l,v,c_in):\n",
    "    mixf = (D+alpha_l*v)/deltax**2\n",
    "    return f(y,v,c_in,deltax,mixf)\n",
    "\n",
    "def jac_fun(t,y,deltax,D,alpha_l,v,c_in):\n",
    "    mixf = (D+alpha_l*v)/deltax**2\n",
    "    return jac[0].eval({y_: y, velo_: v, deltax_: deltax, c_in_: c_in, mixf_: mixf})"
   ]
  },
  {
   "cell_type": "code",
   "execution_count": 17,
   "id": "fc9ae8e7-9fe5-4053-b1a5-bb7429f4cb02",
   "metadata": {
    "tags": []
   },
   "outputs": [
    {
     "name": "stderr",
     "output_type": "stream",
     "text": [
      "C:\\Users\\Vitor Cantarella\\miniconda3\\envs\\nitrogene-env\\lib\\site-packages\\scipy\\integrate\\_ivp\\common.py:39: UserWarning: The following arguments have no effect for a chosen solver: `tfirst`.\n",
      "  warn(\"The following arguments have no effect for a chosen solver: {}.\"\n"
     ]
    }
   ],
   "source": [
    "c_ode = scipy.integrate.solve_ivp(ode_system,[0,max_time],y0,t_eval = timesteps,args = (deltax,De,alpha_l,v,c_in), \n",
    "                              tfirst = True, atol = 1e-12, rtol = 1e-11)"
   ]
  },
  {
   "cell_type": "code",
   "execution_count": 18,
   "id": "d3015c1c-c0ab-4f04-92ce-5710f7cd241d",
   "metadata": {},
   "outputs": [
    {
     "data": {
      "text/plain": [
       "  message: 'The solver successfully reached the end of the integration interval.'\n",
       "     nfev: 10136\n",
       "     njev: 0\n",
       "      nlu: 0\n",
       "      sol: None\n",
       "   status: 0\n",
       "  success: True\n",
       "        t: array([      0,      60,     120, ..., 2519820, 2519880, 2519940])\n",
       " t_events: None\n",
       "        y: array([[0.00000000e+00, 3.62789888e-01, 7.22350157e-01, ...,\n",
       "        2.22699954e+04, 2.22711581e+04, 2.22723208e+04],\n",
       "       [0.00000000e+00, 2.47553874e-03, 9.81287054e-03, ...,\n",
       "        2.21433041e+04, 2.21444612e+04, 2.21456183e+04],\n",
       "       [0.00000000e+00, 1.12872734e-05, 8.92776158e-05, ...,\n",
       "        2.20172205e+04, 2.20183720e+04, 2.20195235e+04],\n",
       "       ...,\n",
       "       [0.00000000e+00, 0.00000000e+00, 0.00000000e+00, ...,\n",
       "        8.21801788e+03, 8.21856204e+03, 8.21910621e+03],\n",
       "       [0.00000000e+00, 0.00000000e+00, 0.00000000e+00, ...,\n",
       "        8.16855750e+03, 8.16909947e+03, 8.16964147e+03],\n",
       "       [0.00000000e+00, 0.00000000e+00, 0.00000000e+00, ...,\n",
       "        8.13895726e+03, 8.13949793e+03, 8.14003863e+03]])\n",
       " y_events: None"
      ]
     },
     "execution_count": 18,
     "metadata": {},
     "output_type": "execute_result"
    }
   ],
   "source": [
    "c_ode"
   ]
  },
  {
   "cell_type": "code",
   "execution_count": 19,
   "id": "3091bd36-ad7f-4b6e-a4ae-2dccedc97b81",
   "metadata": {},
   "outputs": [],
   "source": [
    "c_ode_j = scipy.integrate.odeint(ode_system,y0,timesteps,args = (deltax,De,alpha_l,v,c_in), \n",
    "                              Dfun = jac_fun, \n",
    "                              tfirst = True,\n",
    "                              atol = 1e-11, rtol = 1e-11)"
   ]
  },
  {
   "cell_type": "code",
   "execution_count": 20,
   "id": "8b978e12-8c55-44fe-b881-f3bf12f28e44",
   "metadata": {},
   "outputs": [],
   "source": [
    "cumulated_volume = flow_rate*timesteps"
   ]
  },
  {
   "cell_type": "markdown",
   "id": "02372fe7-13eb-4ba5-b40f-87842910f0b8",
   "metadata": {},
   "source": [
    "### Analytical solution:"
   ]
  },
  {
   "cell_type": "code",
   "execution_count": 21,
   "id": "db68f411-cfa5-4b08-9889-f02e186cb368",
   "metadata": {},
   "outputs": [],
   "source": [
    "def analytical(t,c_in,L,v,Dl,R):\n",
    "    c = (c_in/2)*(scipy.special.erfc((L-v*t/R)/(np.sqrt(4*Dl*t/R)))+np.exp(v*L/Dl)*\n",
    "                  scipy.special.erfc((L+v*t/R)/np.sqrt(4*Dl*t/R)))\n",
    "    return c"
   ]
  },
  {
   "cell_type": "code",
   "execution_count": 22,
   "id": "c1a611bd-8e2e-4431-9526-43ee14eaca8c",
   "metadata": {},
   "outputs": [
    {
     "name": "stderr",
     "output_type": "stream",
     "text": [
      "C:\\Users\\Vitor Cantarella\\AppData\\Local\\Temp\\ipykernel_21052\\707810831.py:2: RuntimeWarning: divide by zero encountered in double_scalars\n",
      "  c = (c_in/2)*(scipy.special.erfc((L-v*t/R)/(np.sqrt(4*Dl*t/R)))+np.exp(v*L/Dl)*\n",
      "C:\\Users\\Vitor Cantarella\\AppData\\Local\\Temp\\ipykernel_21052\\707810831.py:3: RuntimeWarning: divide by zero encountered in double_scalars\n",
      "  scipy.special.erfc((L+v*t/R)/np.sqrt(4*Dl*t/R)))\n"
     ]
    }
   ],
   "source": [
    "c_out_ana = np.zeros(timesteps.shape)\n",
    "Dl = De+v*alpha_l\n",
    "for i in range(timesteps.shape[0]):\n",
    "    c_out_ana[i] = analytical(timesteps[i],c_in,totx,v,Dl,R) \n",
    "    "
   ]
  },
  {
   "cell_type": "code",
   "execution_count": 23,
   "id": "cb26e334-41fb-4ec8-9296-d49852011009",
   "metadata": {},
   "outputs": [
    {
     "data": {
      "text/plain": [
       "0.0"
      ]
     },
     "execution_count": 23,
     "metadata": {},
     "output_type": "execute_result"
    }
   ],
   "source": [
    "analytical(timesteps[3],c_in,totx,v,Dl,R) "
   ]
  },
  {
   "cell_type": "code",
   "execution_count": 24,
   "id": "8bf255d6-49a4-4cbb-a914-a77ecdf3d566",
   "metadata": {},
   "outputs": [],
   "source": [
    "pore_flushes = cumulated_volume/pore_volume\n",
    "#pore_flushes[::7]"
   ]
  },
  {
   "cell_type": "markdown",
   "id": "d6131435-8f65-46ea-8f28-00eb74d261d9",
   "metadata": {},
   "source": [
    "#### Plotting and comparing solutions:"
   ]
  },
  {
   "cell_type": "code",
   "execution_count": 25,
   "id": "2b06a65e-cf32-41ad-ad96-88bacc44f110",
   "metadata": {},
   "outputs": [
    {
     "data": {
      "text/plain": [
       "Text(0, 0.5, '[y-HCH] [$\\\\mu g/L$]')"
      ]
     },
     "execution_count": 25,
     "metadata": {},
     "output_type": "execute_result"
    },
    {
     "data": {
      "image/png": "[encoded data removed]",
      "text/plain": [
       "<Figure size 1400x800 with 1 Axes>"
      ]
     },
     "metadata": {},
     "output_type": "display_data"
    }
   ],
   "source": [
    "fig = plt.figure(figsize = (14,8))\n",
    "ax = fig.add_subplot(111)\n",
    "ax.plot(pore_flushes[::1000],c_out_ana[::1000], 'Dr', label = 'analytical solution')\n",
    "#ax.plot(pore_flushes,c_outflow,'--k', label = 'O-S numerical solution')\n",
    "ax.plot(pore_flushes,c_ode.y[-1,:], '-.k', label = 'coupled ode solution')\n",
    "ax.plot(pore_flushes,c_ode_j[:,-1], '-.r', label = 'coupled ode solution + jacobian')\n",
    "\n",
    "#ax.set_xlim([0,6])\n",
    "ax.legend()\n",
    "ax.set_xlabel('Pore Volumes [n]')\n",
    "ax.set_ylabel(r'[y-HCH] [$\\mu g/L$]')"
   ]
  }
 ],
 "metadata": {
  "citation-manager": {
   "items": {}
  },
  "kernelspec": {
   "display_name": "Python 3 (ipykernel)",
   "language": "python",
   "name": "python3"
  },
  "language_info": {
   "codemirror_mode": {
    "name": "ipython",
    "version": 3
   },
   "file_extension": ".py",
   "mimetype": "text/x-python",
   "name": "python",
   "nbconvert_exporter": "python",
   "pygments_lexer": "ipython3",
   "version": "3.10.8"
  }
 },
 "nbformat": 4,
 "nbformat_minor": 5
}
