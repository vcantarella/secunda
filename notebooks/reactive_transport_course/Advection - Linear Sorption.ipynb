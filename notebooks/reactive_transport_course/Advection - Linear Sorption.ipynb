{
 "cells": [
  {
   "cell_type": "markdown",
   "id": "e55137b1-d071-4a0a-8b77-e9af8a3f11a0",
   "metadata": {},
   "source": [
    "# ADE Code"
   ]
  },
  {
   "cell_type": "markdown",
   "id": "6f9ed466-7968-4931-8b0b-f3723f45d5cc",
   "metadata": {},
   "source": [
    "## Advection"
   ]
  },
  {
   "cell_type": "markdown",
   "id": "a12335ee-caf1-46ab-af68-a36d05e47ad0",
   "metadata": {},
   "source": [
    "$\\frac{\\partial c}{\\partial t}_x = -v\\left(\\frac{\\partial c}{\\partial x} \\right)$"
   ]
  },
  {
   "cell_type": "markdown",
   "id": "7835848f-2828-4daa-9d97-da2bdbab152e",
   "metadata": {},
   "source": [
    "## Finite-Differences Solution"
   ]
  },
  {
   "cell_type": "markdown",
   "id": "68c7f40e-5472-4a45-87a7-2c76c34e7a56",
   "metadata": {},
   "source": [
    "Advection step (Courant = 1):\n",
    "\n",
    "$\\Delta t = v*\\Delta x$\n",
    "\n",
    "Thus:\n",
    "\n",
    "${c_x}^{t2} = {c_{x-1}}^{t1}$"
   ]
  },
  {
   "cell_type": "markdown",
   "id": "28449322-69c0-4339-a0e5-29a94fc696a7",
   "metadata": {},
   "source": [
    "We need to correct for Numerical dispersion if retardation occurs."
   ]
  },
  {
   "cell_type": "markdown",
   "id": "7c9d778e-cee4-45a1-aaff-474c7cc3ccc3",
   "metadata": {},
   "source": [
    "#### General Solution:"
   ]
  },
  {
   "cell_type": "markdown",
   "id": "bb30673f-2ddd-41be-8404-09c68de0658d",
   "metadata": {},
   "source": [
    "${c_x}^{t2} + {q_x}^{t2} = {c_{x-1}}^{t1} + {q_x}^{t1} + (1-\\omega)*\\left[ \\frac{D_e \\Delta t}{(\\Delta x)^2} \\left({c_{x-1}}^{t1}-2 {c_{x}}^{t1}+{c_{x+1}}^{t1}\\right) -v \\frac{\\Delta t}{\\Delta x}\\left(\\alpha {c_{x-1}}^{t1} +(1-2\\alpha) {c_{x1}}^{t1} + \\alpha {c_{x+1}}^{t1}\\right)\\right]+  \n",
    "\\omega*\\left[ \\frac{D_e \\Delta t}{(\\Delta x)^2} \\left({c_{x-1}}^{t2}-2 {c_{x}}^{t2}+{c_{x+1}}^{t2}\\right) -v \\frac{\\Delta t}{\\Delta x}\\left(\\alpha {c_{x-1}}^{t2} +(1-2\\alpha) {c_{x1}}^{t2} + \\alpha {c_{x+1}}^{t2}\\right)\\right]$"
   ]
  },
  {
   "cell_type": "markdown",
   "id": "0c31dd99-02e0-4e84-be09-066ff36aaa4e",
   "metadata": {},
   "source": [
    "## Model"
   ]
  },
  {
   "cell_type": "markdown",
   "id": "dc8af15f-3021-40df-966b-59bf5693efc3",
   "metadata": {},
   "source": [
    "#### libraries"
   ]
  },
  {
   "cell_type": "code",
   "execution_count": 1,
   "id": "80f0c31e-ad02-43f6-ba9c-501e2357ee72",
   "metadata": {},
   "outputs": [],
   "source": [
    "import numpy as np\n",
    "import scipy\n",
    "import matplotlib.pyplot as plt"
   ]
  },
  {
   "cell_type": "markdown",
   "id": "4dd12f2a-5925-4b21-ab50-abb10f628074",
   "metadata": {},
   "source": [
    "#### Finite differences scheme:"
   ]
  },
  {
   "cell_type": "markdown",
   "id": "c2e93690-ea38-49c4-ae74-02c8a101725a",
   "metadata": {},
   "source": [
    "We are applying our first advection model with a linear retardation scheme."
   ]
  },
  {
   "cell_type": "code",
   "execution_count": 2,
   "id": "73980884-af77-4ca0-907f-588226faf069",
   "metadata": {
    "tags": []
   },
   "outputs": [],
   "source": [
    "def iteration_advec(c: np.ndarray, c_in: np.float64):\n",
    "    result = np.zeros(c.shape)\n",
    "    \n",
    "    #Advection:\n",
    "    result = np.roll(c, 1)\n",
    "    result[0] = c_in\n",
    "    c_out = c[-1]\n",
    "    \n",
    "    return (result,c_out)"
   ]
  },
  {
   "cell_type": "code",
   "execution_count": 3,
   "id": "bad722b6-8ef3-4471-a775-bb15335a15e8",
   "metadata": {
    "tags": []
   },
   "outputs": [],
   "source": [
    "def iteration_crank(c,mixf, omega = 0.5):\n",
    "    \n",
    "    #Defining mixf terms for implicit and explicit schemes:\n",
    "    mixfe = mixf*(1-omega)\n",
    "    mixfi = mixf*omega\n",
    "    # Calculating the Explicit-part:\n",
    "    last_term = np.zeros(c.shape)\n",
    "    # Threre is no fixed boundary, thus:\n",
    "    last_term[0] = mixfe*c[1] + (1-mixfe)*c[0]\n",
    "    \n",
    "    #Update the middle_portion\n",
    "    sliding_window = np.lib.stride_tricks.sliding_window_view(c, (3))\n",
    "    kernel = np.array([mixfe, 1-2*mixfe, mixfe])\n",
    "    last_term[1:-1] = np.dot(sliding_window,kernel)\n",
    "    \n",
    "    #Update the last cell:\n",
    "    last_term[-1] = mixfe*c[-1-1] + (1-mixfe)*c[-1] \n",
    "    \n",
    "    #Calculating the implicit part:\n",
    "    \n",
    "    c = last_term\n",
    "    A = np.zeros((c.shape[0],c.shape[0]))\n",
    "\n",
    "    #First row: initial_row:\n",
    "    A[0,0],A[0,1] = [(1+mixfi),-mixfi]\n",
    "    #Remaining middle rows:\n",
    "    for i in range(1,A.shape[0]-1):\n",
    "        A[i,i-1] = -mixfi\n",
    "        A[i,i] = (1+2*mixfi)\n",
    "        A[i,i+1] = -mixfi\n",
    "    #last row:\n",
    "    A[c.shape[0]-1,c.shape[0]-2],A[c.shape[0]-1,c.shape[0]-1] = [-mixfi,1+mixfi]\n",
    "    \n",
    "    #RHS of the system of linear equations, with explicit formulation:\n",
    "    b = c\n",
    "    \n",
    "    #Solving the system of equations:\n",
    "    result = scipy.linalg.solve(A,b)\n",
    "    return result"
   ]
  },
  {
   "cell_type": "markdown",
   "id": "8b19014b-0795-4741-8180-7ab3cdd15fea",
   "metadata": {},
   "source": [
    "#### Correction for linear sorption:"
   ]
  },
  {
   "cell_type": "code",
   "execution_count": 4,
   "id": "23f5ea8b-3dd0-4e62-abe1-8d88e5e44f6c",
   "metadata": {},
   "outputs": [],
   "source": [
    "def sorp_corr(v,D, alpha_l, deltax,deltat, R, n_sub):\n",
    "    alpha_mix = alpha_l-(deltax/2-v*deltat/(2*R))\n",
    "    mixf = (D*deltat/(deltax**2)+alpha_mix*v*deltat/deltax**2)/n_sub\n",
    "    return mixf"
   ]
  },
  {
   "cell_type": "markdown",
   "id": "d066a663-8927-4238-a33d-16a1211d5536",
   "metadata": {},
   "source": [
    "#### Sorption Iteration:"
   ]
  },
  {
   "cell_type": "code",
   "execution_count": 5,
   "id": "e11002c9-da09-4bfd-993b-2567d1048bfe",
   "metadata": {},
   "outputs": [],
   "source": [
    "def sorb(c, q, R):\n",
    "    total = c + q\n",
    "    c = total/R\n",
    "    q = total - c\n",
    "    return (c,q)"
   ]
  },
  {
   "cell_type": "markdown",
   "id": "8bc54b1e-35a8-4969-b595-8b631fbe2abb",
   "metadata": {},
   "source": [
    "### Model"
   ]
  },
  {
   "cell_type": "code",
   "execution_count": 6,
   "id": "41c42431-46ad-4256-afbd-3b2351381abb",
   "metadata": {},
   "outputs": [],
   "source": [
    "def run_model(c_in, v, D, alpha_l, R, c0, q0, totx, deltax, max_time):\n",
    "    \n",
    "\n",
    "    #delta t for the advection:\n",
    "    deltat = deltax/v\n",
    "    \n",
    "    print(f'number of cells: {x_steps}')\n",
    "    print(f'deltax: {deltax}')\n",
    "    print(f'deltat: {deltat}')\n",
    "    \n",
    "    \n",
    "    #deltat for the diffusion/dispersion:\n",
    "    maxdeltat_diff = deltax**2/(3*(D+alpha_l*v))\n",
    "    n_sub = np.floor(deltat/maxdeltat_diff).astype(np.int32)\n",
    "    deltat_diff = deltat/n_sub\n",
    "    \n",
    "    #Calculating diffusion/dispersion parameters:\n",
    "    mixf = sorp_corr(v,D, alpha_l, deltax,deltat, R, n_sub)\n",
    "    \n",
    "    #Defining time_steps\n",
    "    n_iter = np.ceil(max_time/deltat).astype(np.int32)\n",
    "    timesteps = np.arange(deltat,(n_iter +1)*deltat,deltat)\n",
    "    \n",
    "    #Defining output:\n",
    "    cell_history = np.zeros((n_iter,c0.shape[0]), dtype = np.float64)\n",
    "    sorb_history = np.zeros((n_iter,q0.shape[0]), dtype = np.float64)\n",
    "    outflow = np.zeros(n_iter)\n",
    "    \n",
    "    #Initial condition arrays:\n",
    "    c = c0\n",
    "    q = q0\n",
    "    \n",
    "    #Running model\n",
    "    for i in range(n_iter):\n",
    "        #Advect\n",
    "        c,c_out = iteration_advec(c,c_in)\n",
    "        \n",
    "        #Sorb\n",
    "        c,q = sorb(c, q, R)\n",
    "        \n",
    "        #Diffuse/Disperse\n",
    "        for j in range(n_sub):\n",
    "            c = iteration_crank(c, mixf)\n",
    "        cell_history[i,:] = c\n",
    "        sorb_history[i,:] = q\n",
    "        outflow[i] = c_out\n",
    "    \n",
    "    return (cell_history,sorb_history, outflow, timesteps)\n",
    "    "
   ]
  },
  {
   "cell_type": "markdown",
   "id": "7916e162-57da-4b36-81c6-445c6c50c3c5",
   "metadata": {},
   "source": [
    "Adjusting model to changing boundary condition:"
   ]
  },
  {
   "cell_type": "code",
   "execution_count": null,
   "id": "9017205f-7b18-4f80-9edf-43a62d3642b7",
   "metadata": {},
   "outputs": [],
   "source": [
    "def stress_period(c_in_arr, v, D, alpha_l, R, c0, q0, totx, deltax, t_arr, max_time):\n",
    "    c0_s = c0\n",
    "    q0_s = q0\n",
    "    stress_periods_arrays = np.roll(t_arr)-t_arr\n",
    "    \n",
    "    for i in rang(c_in arr):\n",
    "        cell_history,sorb_history, outflow, timesteps = \n",
    "            run_model(c_in, v, D, alpha_l, R, c0_s, q0_s, totx,deltax, stress_periods_arrays[i+1])\n",
    "        c0_s = cell_history[-1,:].squeeze()\n",
    "        q0_s = sorb_history[-1,:].squeeze()\n",
    "        "
   ]
  },
  {
   "cell_type": "markdown",
   "id": "c0d3475d-a860-44d0-8be7-0b8a0d46d63f",
   "metadata": {},
   "source": [
    "#### Running Problem:\n",
    "\n",
    "30 minutes pulse injection.\n",
    "First compound does not undergo retardation.\n",
    "Second compound does:  \n",
    "    $K_d = 0.7 [L/kg],$  \n",
    "    $\\phi = 0.3 [-],$  \n",
    "    $\\rho_s = 2.65 [kg/L]$"
   ]
  },
  {
   "cell_type": "markdown",
   "id": "fde454f9-c5b0-4754-aeba-71b414f1d56b",
   "metadata": {},
   "source": [
    "#### input parameters"
   ]
  },
  {
   "cell_type": "code",
   "execution_count": 1,
   "id": "dc642c8e-b3fb-4bbd-bbf5-20180ffcb6bf",
   "metadata": {},
   "outputs": [],
   "source": [
    "porosity = 0.3\n",
    "alpha_l = 7*1e-2 #dispersivity [mm]\n",
    "flow_rate = 100 #ml/min\n",
    "flow_rate = flow_rate*1e-6/60 #m3/s\n",
    "De = 1e-9 #[m2/s]\n",
    "Kd = .7 #L/kg\n",
    "c_in = 1 #mol/L\n",
    "L = 1 #m column lengh\n",
    "r = 0.05 #m column radius"
   ]
  },
  {
   "cell_type": "code",
   "execution_count": 2,
   "id": "020cee8e-64e4-48e0-be93-fd19422ebb3b",
   "metadata": {},
   "outputs": [
    {
     "ename": "NameError",
     "evalue": "name 'np' is not defined",
     "output_type": "error",
     "traceback": [
      "\u001b[1;31m---------------------------------------------------------------------------\u001b[0m",
      "\u001b[1;31mNameError\u001b[0m                                 Traceback (most recent call last)",
      "Cell \u001b[1;32mIn [2], line 3\u001b[0m\n\u001b[0;32m      1\u001b[0m c0 \u001b[38;5;241m=\u001b[39m \u001b[38;5;241m0\u001b[39m\n\u001b[0;32m      2\u001b[0m q0 \u001b[38;5;241m=\u001b[39m \u001b[38;5;241m0\u001b[39m\n\u001b[1;32m----> 3\u001b[0m v \u001b[38;5;241m=\u001b[39m flow_rate\u001b[38;5;241m/\u001b[39m(\u001b[43mnp\u001b[49m\u001b[38;5;241m.\u001b[39mpi\u001b[38;5;241m*\u001b[39mr\u001b[38;5;241m*\u001b[39m\u001b[38;5;241m*\u001b[39m\u001b[38;5;241m2\u001b[39m)\u001b[38;5;241m/\u001b[39mporosity\n\u001b[0;32m      4\u001b[0m pore_volume_time \u001b[38;5;241m=\u001b[39m L\u001b[38;5;241m/\u001b[39mv\n\u001b[0;32m      5\u001b[0m totx \u001b[38;5;241m=\u001b[39m \u001b[38;5;241m0.5\u001b[39m\n",
      "\u001b[1;31mNameError\u001b[0m: name 'np' is not defined"
     ]
    }
   ],
   "source": [
    "c0 = 0\n",
    "q0 = 0\n",
    "v = flow_rate/(np.pi*r**2)/porosity\n",
    "pore_volume_time = L/v\n",
    "totx = 0.5\n",
    "R = 1+(1-porosity)/porosity*Kd\n",
    "max_time = 5*3600"
   ]
  },
  {
   "cell_type": "code",
   "execution_count": null,
   "id": "3c27d967-a57f-4ab2-9eae-809c6e944f50",
   "metadata": {},
   "outputs": [],
   "source": [
    "# Defining grid for the advection iteration:\n",
    "#Delta x criteria:\n",
    "try:\n",
    "    maxdeltax = alpha_l*2*R/(R-1)/2 # half of the ideal criteria\n",
    "except ZeroDivisionError:\n",
    "    maxdeltax = totx/10\n",
    "##Correcting the xcells\n",
    "x_steps = np.ceil(totx/maxdeltax).astype(np.int32)\n",
    "if x_steps < 10:\n",
    "    x_steps = 10\n",
    "#Delta x:\n",
    "deltax = L/x_steps"
   ]
  },
  {
   "cell_type": "code",
   "execution_count": 9,
   "id": "f471ebd2-8930-4b38-8020-36c500f400fb",
   "metadata": {},
   "outputs": [
    {
     "name": "stdout",
     "output_type": "stream",
     "text": [
      "number of cells: 10\n",
      "deltax: 0.05\n",
      "deltat: 0.2945243112740431\n"
     ]
    }
   ],
   "source": [
    "c_out,c_outflow, timesteps = run_model(c_in, v, De, alpha_l, R, c0, q0, totx, max_time)"
   ]
  },
  {
   "cell_type": "code",
   "execution_count": 10,
   "id": "8ed55709-2269-4626-ae88-f656c974b7d6",
   "metadata": {},
   "outputs": [],
   "source": [
    "cumulated_volume = flow_rate*timesteps"
   ]
  },
  {
   "cell_type": "markdown",
   "id": "760369be-1c6d-4b2d-8aa1-3e585cab5898",
   "metadata": {},
   "source": [
    "### Analytical solution:"
   ]
  },
  {
   "cell_type": "code",
   "execution_count": 11,
   "id": "85f2df8d-5fd9-4caf-bc35-1910e932d48a",
   "metadata": {},
   "outputs": [],
   "source": [
    "def analytical(t,c_in,L,v,Dl,R):\n",
    "    c = (c_in/2)*(scipy.special.erfc((L-v*t/R)/(np.sqrt(4*Dl*t/R)))+np.exp(v*L/Dl)*\n",
    "                  scipy.special.erfc((L+v*t/R)/np.sqrt(4*Dl*t/R)))\n",
    "    return c"
   ]
  },
  {
   "cell_type": "code",
   "execution_count": 12,
   "id": "490bebfc-dc2b-4c57-aec2-b87e7de058ec",
   "metadata": {},
   "outputs": [],
   "source": [
    "c_out_ana = np.zeros(timesteps.shape)\n",
    "Dl = De+v*alpha_l\n",
    "for i in range(timesteps.shape[0]):\n",
    "    c_out_ana[i] = analytical(timesteps[i],c_in,totx,v,Dl,R) \n",
    "    "
   ]
  },
  {
   "cell_type": "code",
   "execution_count": 13,
   "id": "6ae1f655-c115-4ef8-8783-0f85441079a4",
   "metadata": {},
   "outputs": [
    {
     "data": {
      "text/plain": [
       "1.716690920152104e-12"
      ]
     },
     "execution_count": 13,
     "metadata": {},
     "output_type": "execute_result"
    }
   ],
   "source": [
    "analytical(timesteps[3],c_in,totx,v,Dl,R) "
   ]
  },
  {
   "cell_type": "code",
   "execution_count": 14,
   "id": "0d48c315-0ac6-4493-ab9b-10511cb4fd97",
   "metadata": {},
   "outputs": [
    {
     "data": {
      "text/plain": [
       "array([ 0.03,  0.93,  1.83,  2.73,  3.63,  4.53,  5.43,  6.33,  7.23,\n",
       "        8.13,  9.03,  9.93, 10.83, 11.73, 12.63, 13.53, 14.43])"
      ]
     },
     "execution_count": 14,
     "metadata": {},
     "output_type": "execute_result"
    }
   ],
   "source": [
    "pore_flushes = cumulated_volume/pore_volume\n",
    "pore_flushes[::30]"
   ]
  },
  {
   "cell_type": "markdown",
   "id": "3cb0b1fb-2389-468d-a395-c3a640d6b2e6",
   "metadata": {},
   "source": [
    "#### Plotting and comparing solutions:"
   ]
  },
  {
   "cell_type": "code",
   "execution_count": 21,
   "id": "abcea8ef-967d-4ec9-af11-2250c2cd5c5d",
   "metadata": {},
   "outputs": [
    {
     "data": {
      "text/plain": [
       "Text(0, 0.5, '[y-HCH] [$\\\\mu g/L$]')"
      ]
     },
     "execution_count": 21,
     "metadata": {},
     "output_type": "execute_result"
    },
    {
     "data": {
      "image/png": "[encoded data removed]",
      "text/plain": [
       "<Figure size 700x400 with 1 Axes>"
      ]
     },
     "metadata": {},
     "output_type": "display_data"
    }
   ],
   "source": [
    "fig = plt.figure(figsize = (7,4))\n",
    "ax = fig.add_subplot(111)\n",
    "ax.plot(pore_flushes,c_outflow,'--k', label = 'numerical solution')\n",
    "ax.plot(pore_flushes[::30],c_out_ana[::30], 'Dr', label = 'analytical solution')\n",
    "ax.set_xlim([0,6])\n",
    "ax.legend()\n",
    "ax.set_xlabel('Pore Volumes [n]')\n",
    "ax.set_ylabel(r'[y-HCH] [$\\mu g/L$]')"
   ]
  }
 ],
 "metadata": {
  "kernelspec": {
   "display_name": "Python 3 (ipykernel)",
   "language": "python",
   "name": "python3"
  },
  "language_info": {
   "codemirror_mode": {
    "name": "ipython",
    "version": 3
   },
   "file_extension": ".py",
   "mimetype": "text/x-python",
   "name": "python",
   "nbconvert_exporter": "python",
   "pygments_lexer": "ipython3",
   "version": "3.10.6"
  }
 },
 "nbformat": 4,
 "nbformat_minor": 5
}
